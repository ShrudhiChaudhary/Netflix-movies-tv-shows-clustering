{
  "nbformat": 4,
  "nbformat_minor": 0,
  "metadata": {
    "colab": {
      "private_outputs": true,
      "provenance": [],
      "collapsed_sections": [
        "vncDsAP0Gaoa",
        "FJNUwmbgGyua",
        "w6K7xa23Elo4",
        "yQaldy8SH6Dl",
        "mDgbUHAGgjLW",
        "O_i_v8NEhb9l",
        "HhfV-JJviCcP",
        "Y3lxredqlCYt",
        "3RnN4peoiCZX",
        "x71ZqKXriCWQ",
        "7hBIi_osiCS2",
        "JlHwYmJAmNHm",
        "35m5QtbWiB9F",
        "PoPl-ycgm1ru",
        "H0kj-8xxnORC",
        "nA9Y7ga8ng1Z",
        "PBTbrJXOngz2",
        "u3PMJOP6ngxN",
        "dauF4eBmngu3",
        "bKJF3rekwFvQ",
        "MSa1f5Uengrz",
        "GF8Ens_Soomf",
        "0wOQAZs5pc--",
        "K5QZ13OEpz2H",
        "lQ7QKXXCp7Bj",
        "448CDAPjqfQr",
        "KSlN3yHqYklG",
        "t6dVpIINYklI",
        "ijmpgYnKYklI",
        "-JiQyfWJYklI",
        "EM7whBJCYoAo",
        "fge-S5ZAYoAp",
        "85gYPyotYoAp",
        "RoGjAbkUYoAp",
        "4Of9eVA-YrdM",
        "iky9q4vBYrdO",
        "F6T5p64dYrdO",
        "y-Ehk30pYrdP",
        "bamQiAODYuh1",
        "QHF8YVU7Yuh3",
        "GwzvFGzlYuh3",
        "qYpmQ266Yuh3",
        "OH-pJp9IphqM",
        "bbFf2-_FphqN",
        "_ouA3fa0phqN",
        "Seke61FWphqN",
        "PIIx-8_IphqN",
        "t27r6nlMphqO",
        "r2jJGEOYphqO",
        "b0JNsNcRphqO",
        "BZR9WyysphqO",
        "jj7wYXLtphqO",
        "eZrbJ2SmphqO",
        "rFu4xreNphqO",
        "YJ55k-q6phqO",
        "gCFgpxoyphqP",
        "OVtJsKN_phqQ",
        "lssrdh5qphqQ",
        "U2RJ9gkRphqQ",
        "1M8mcRywphqQ",
        "tgIPom80phqQ",
        "JMzcOPDDphqR",
        "x-EpHcCOp1ci",
        "X_VqEhTip1ck",
        "8zGJKyg5p1ck",
        "PVzmfK_Ep1ck",
        "n3dbpmDWp1ck",
        "ylSl6qgtp1ck",
        "ZWILFDl5p1ck",
        "M7G43BXep1ck",
        "Ag9LCva-p1cl",
        "E6MkPsBcp1cl",
        "2cELzS2fp1cl",
        "3MPXvC8up1cl",
        "NC_X3p0fY2L0",
        "UV0SzAkaZNRQ",
        "YPEH6qLeZNRQ",
        "q29F0dvdveiT",
        "EXh0U9oCveiU",
        "22aHeOlLveiV",
        "g-ATYxFrGrvw",
        "Yfr_Vlr8HBkt",
        "8yEUt7NnHlrM",
        "tEA2Xm5dHt1r",
        "I79__PHVH19G",
        "Ou-I18pAyIpj",
        "fF3858GYyt-u",
        "4_0_7-oCpUZd",
        "hwyV_J3ipUZe",
        "3yB-zSqbpUZe",
        "dEUvejAfpUZe",
        "Fd15vwWVpUZf",
        "bn_IUdTipZyH",
        "49K5P_iCpZyH",
        "Nff-vKELpZyI",
        "kLW572S8pZyI",
        "dWbDXHzopZyI",
        "yLjJCtPM0KBk",
        "xiyOF9F70UgQ",
        "7wuGOrhz0itI",
        "id1riN9m0vUs",
        "578E2V7j08f6",
        "89xtkJwZ18nB",
        "67NQN5KX2AMe",
        "Iwf50b-R2tYG",
        "GMQiZwjn3iu7",
        "WVIkgGqN3qsr",
        "XkPnILGE3zoT",
        "Hlsf0x5436Go",
        "mT9DMSJo4nBL",
        "c49ITxTc407N",
        "OeJFEK0N496M",
        "9ExmJH0g5HBk",
        "cJNqERVU536h",
        "k5UmGsbsOxih",
        "T0VqWOYE6DLQ",
        "qBMux9mC6MCf",
        "-oLEiFgy-5Pf",
        "C74aWNz2AliB",
        "2DejudWSA-a0",
        "pEMng2IbBLp7",
        "rAdphbQ9Bhjc",
        "TNVZ9zx19K6k",
        "nqoHp30x9hH9",
        "rMDnDkt2B6du",
        "yiiVWRdJDDil",
        "1UUpS68QDMuG",
        "kexQrXU-DjzY",
        "T5CmagL3EC8N",
        "BhH2vgX9EjGr",
        "qjKvONjwE8ra",
        "P1XJ9OREExlT",
        "VFOzZv6IFROw",
        "TIqpNgepFxVj",
        "VfCC591jGiD4",
        "OB4l2ZhMeS1U",
        "ArJBuiUVfxKd",
        "4qY1EAkEfxKe",
        "PiV4Ypx8fxKe",
        "TfvqoZmBfxKf",
        "dJ2tPlVmpsJ0",
        "JWYfwnehpsJ1",
        "-jK_YjpMpsJ2",
        "HAih1iBOpsJ2",
        "zVGeBEFhpsJ2",
        "bmKjuQ-FpsJ3",
        "Fze-IPXLpx6K",
        "7AN1z2sKpx6M",
        "9PIHJqyupx6M",
        "_-qAgymDpx6N",
        "Z-hykwinpx6N",
        "h_CCil-SKHpo",
        "cBFFvTBNJzUa",
        "HvGl1hHyA_VK",
        "EyNgTHvd2WFk",
        "KH5McJBi2d8v",
        "iW_Lq9qf2h6X",
        "-Kee-DAl2viO",
        "gCX9965dhzqZ",
        "gIfDvo9L0UH2"
      ],
      "include_colab_link": true
    },
    "kernelspec": {
      "name": "python3",
      "display_name": "Python 3"
    },
    "language_info": {
      "name": "python"
    }
  },
  "cells": [
    {
      "cell_type": "markdown",
      "metadata": {
        "id": "view-in-github",
        "colab_type": "text"
      },
      "source": [
        "<a href=\"https://colab.research.google.com/github/ShrudhiChaudhary/Netflix-movies-tv-shows-clustering/blob/main/Netflix_Movies_and_TV_shows_clustering.ipynb\" target=\"_parent\"><img src=\"https://colab.research.google.com/assets/colab-badge.svg\" alt=\"Open In Colab\"/></a>"
      ]
    },
    {
      "cell_type": "markdown",
      "source": [
        "# **Project Name**    - \n",
        "\n"
      ],
      "metadata": {
        "id": "vncDsAP0Gaoa"
      }
    },
    {
      "cell_type": "markdown",
      "source": [
        "##### **Project Type**    - Unsupervised\n",
        "##### **Contribution**    - Individual\n",
        "##### **Team Member 1 -** Shrudhi Chaudhary"
      ],
      "metadata": {
        "id": "beRrZCGUAJYm"
      }
    },
    {
      "cell_type": "markdown",
      "source": [
        "# **Project Summary -**"
      ],
      "metadata": {
        "id": "FJNUwmbgGyua"
      }
    },
    {
      "cell_type": "markdown",
      "source": [
        "## In the project we are given a dataset of different movies and Tv shows with their cast , directors and duration along the with description of the movies. Various clustering algorithms are used in order to form different clusters and to sort out the different opnions based on the description provided. "
      ],
      "metadata": {
        "id": "F6v_1wHtG2nS"
      }
    },
    {
      "cell_type": "markdown",
      "source": [
        "# **GitHub Link -**"
      ],
      "metadata": {
        "id": "w6K7xa23Elo4"
      }
    },
    {
      "cell_type": "markdown",
      "source": [
        "Provide your GitHub Link here."
      ],
      "metadata": {
        "id": "h1o69JH3Eqqn"
      }
    },
    {
      "cell_type": "markdown",
      "source": [
        "# **Problem Statement**\n"
      ],
      "metadata": {
        "id": "yQaldy8SH6Dl"
      }
    },
    {
      "cell_type": "markdown",
      "source": [
        "![image.png](data:image/png;base64,iVBORw0KGgoAAAANSUhEUgAAA5kAAAD6CAYAAAAr3oNPAAAgAElEQVR4nOy9fVCUV57o/9md/G7nrvvr3Ou9nanZ6k5lC3BSNM5cXsZFeliEGIVMlDZGYSXCSAIjBsYYfBtBDQoGX1iiuGJgxYDBgJgVxQ3GmYDEQZ2El2ukqWSEGkuoSQ298Td0jXPtO9l6fn90N3Q/3Q39NI2iOZ8qqrT76XPO95zv23mec87zV5IkSQgEAoFAIBAIBAKBQBAA/vpBN0AgEAgEAoFAIBAIBI8OYpIpEAgEAoFAIBAIBIKAISaZAoFAIBAIBAKBQCAIGGKSKRAIBAKBQCAQCASCgCEmmQKBQCAQCAQCgUAgCBhikikQCAQCgUAgEAgEgoAhJpkCgUAgEAgEAoFAIAgYYpIpEAgEAoFAIBAIBIKA8dfQS4VuDrpJ/7Jo/grATHPOHHQ5TZh9qcFUQ2rEXFKP9mKdXlm80n1wDjpdKd0PqH5BoLHQtiMKXWwurV896LYEGjPdR7OIj3C2uYcfYYPTzFdNZOvmkH3WJ6/88DAD4seM4c5FCmPnEJPfMh57e0rR6eZQ0eNHeX7ozLfJjm2yJlHR413zzGezptdP3x2kuSSFGJ1rv9va5lSvJ934VhOIOGph4EIpm5KjbDlwhIHU/Eo6J+hgc08TFflJ9vGaQ8RCI5sOtjBg8XL9lRo2pcz1nE+br1G7LR1jrD0Hj02asCwl2PTWh7z/YK/tB1PxM/eJb5Nv8osHFEsfgyCSGuuIcPpw4Gw6hScXUdz4MsFjn6qYM9ufKqzcM1u5/XszVkA1xQYLBAB8Y4Vbg4xYgO896MYEDssvSzGWXCMht4TtscHM9cvmBIJHBRE/XLgLQwNmRgHNg27Lt4JB9hWVE3NyK5Gz7n/tfSezyDuqInVXGcbvhxIy0cVCN8aYehy10n0wBeOBYQyrNlC1JRSV+SqtNeWkLv6I4hPNZOidrzfTuTed1MOD6OKX8NPDW9FrLAy1n+Od2nwaat9j+4k6svUODzZIbYqRwiv2dP8FWe095WS8WknnrGiy88rYpNVgGf6ID6u2EV97jopz1Ri1fnUNAOp562hofGX8gzuXqMipgfVl5MU4ac+TQf5XIphhPJhY+hioCY6JdppMwuOfAWgJi4kmcqo16HNo/iIN6yz1Q5sgdB+cg/GLEnoqV8xA591LhS6FG4c7qUqeea2bHtQk7OnCVKBC7UfgN5/NIiI3iOahrVPX7wBj/bMFiGZZ+goS/Jw8z2T5BAJFPALxI2DMXkTx1S62f0f0xX2lp4bdxxfTmBs+Df0+cfy2/nkYyCR1zZKJfbnQDRemHEdNNRQeGCTp7Taqljtmc9EkLIxAHZtFYf1Flu1ZhNr+zdAH20g9PEzCjmaqskLHxyBmCak5Hexbk8Xu1aXoL+/EMAtATeTaRq5Uq+jcksQml8b3UrWtks5/2MmVijR0jzFWf9LKV3j29STyXqsk+GwOYX6IBqD6XjgG5375aohagJBoDDHfljzSlZmdNwUgz39AsfT+7Ml8qBMEK/f+9KDbMAFWC3980G14IPg3wQS4d/fRXlD0qMsn+JbxUMePAKNSo3ps8ssEgSKNzVuC6N67jarPp2GRWSDjt9CNgNF3pYk+0sh4Qfa4cFY0CcuBEz3cdHxmucg7JR3wwg4OOE8wHcyOY/OeDUSa6yk+0W//UENYfCg6tZrH5dd//hH7TJCX6TzBdKDF+PpWDD1H+PDKt34DQUCZ0XlToPzEA4ilU5xkmuk+nk+Gfc14THIuVZ/JBsrLvg/LZzUUZhqI0M1Bp4vCmF9K2/AUmvKNmc7j+WQ7rZ/PKGmaYP26fb19imsbWr8c/4Ft3fpcUo8C5wvs17nvRzVfqaEwx7EOfy7xmfnUXvGgsHcHaT2YO7bGPmJhCoWnevHYRNl6/IiFKRQev4b5m7ELbHtjg7OoAlpzDWPr6P3dl2W+IhuTHC9yAFj6ZbIY2XS0g6G7sut6StHp5lLxOVgHmtjtKN8xPvLrsbrtg8jYVk+frJM8rr+frH/t+wpitvQDNRjH9h44l+Nb/crwvLejbdg5SNj2RkfkdgAd5M3zYywnkc+mz0Yabnn47Z0WNunmkHS038OXk0inyJZt/Zu3cO7YGO0+O+h5j4APOma9XIROl0CVyfWnQyeN6DzJc6ueVN0cNl0YH9CA+6JJbRfG7Pf1FsyY6T46LqdHP+po65ctVOQb7XuN7Nd6s1FfsPvnvPNmLJ/XU5hu19FYW5ttvWRh4GwRGfYxi0nOpeKC/2OmSA+97huc3H+Pl3mN2m0pLn1W0T6VAfY1dvhua77FEPv5CY59UhPgc0waa5OHPrrQ7zk2eazQF51Xii9+Excd5s41qsb2xEVhzK+k+85U2qAiJmsPmyMG2bf9CH2+5vVTjd92mYwHwNmXe98TJ9ONu71UJNtylSH5pbfqydDNIePkoJKOsGG371S7L/C+T/AhjqNA2KpmTKatGNwychWP/62sVb/5iFqzirzVS72vdNO/xE9fgL7mDvomqdvyR1tb/+t3vFzw2H9BjZWGHuWxOhBYB1qoyJ0sj2N6fILiPN8HX+hTXqhAnpma59+vuZiMKUwy/4Mz2xLI+1TDsl11NFRvxfB4B7tfTKDwlxN7Euvn5aS/WEqbagk76upoqF5HyHA9GUuz/DvI5W4/VdkJpO64iOWZNCrq6mjYs47g4b3E/6SAM7flPximNT+B+KzTjAS9QknjeBuyF6ZQYb9jaVu3XkZeLBCbSVVjHQ2NdTTkzLcvk7DSfdjI4pRyOr8Tx+a6OhrqdvCiqoPClARb0BvDTGuBkezaYUIyy2horGbHEhVt+SmkH3bdiGvtKSd1cToHBzU8v7Hadu1LWgYq0lmcVk73XQA1hpw6GiozMQCG9WW2tjXW8fN5apRhoXNvEhEp5QxoXrKPyQYiscmRcbzftX236slbYCT7tIXIPLssLwUxVJVFzKoCDwpq5Y+flJOysh5L7FYqGqupyAji5tEC4ldVujhd8/lcVmbVM/TMOqoa66jduQTV5SKSVpdPEuB96N+nV9DQWEfxKoBFFDvGs3HF2F4X/+v3gnWQhtcNxGedZnTeBnuZL6EbPkLGfCOFv3R0lm1vdNX6UCCUvEo/xnIS+TSxS0mln9pfugcny6cf0UA4GYmhysRTaMvd1UZWHjcTtbGahroS1oQMUpWbREq1a5t81THVvAVkM0zbdeeEaZjOC7by5EHdfP0SncRh+KHar/ZP2h8O2/1UxbMO212iom1HOos3ejiUw2qi4fUE8q5r+ekkfnTolwWkL8xn36dqErba+mRzkoq23ARSK68pb6wT5l9tI/2nTVjjd9LQWEZxjJUPd6STfriDzoMpxB8YJCrvMA11JfzT311jX5aRjWddDd3XMZu6Ho7779EfrLP77w1E/vk02QsT2HTeqV3WXirWpFN4WcWLO6tpaCzjZ88Mczw9SeaffcW32OG7jEpiiC/4Ud7NY+QtzKL1P6NZX1ZHQ10JP31mmONZRhLzW9wnKfIafYpXSsXw1W86/+Q98hbm0vVUJsWNdVTtiuPx9nKMC/Npm8pEUxVO9u4cInsqKaye/NCMgMTv2fP5uQdfnvS0j22eFU7eng1Eni9g9wfOfTVIw44i2l4ooXiVwv12wy1s+omR7NNmgtP20NBYR1VmKEO1+cTL4uNDHUcBZqlRqz098xnk5m+A1RFjOcPtLy8Ci4gKm+gZkYbI2FAw9TAwSVxRh0SQAHzYds2Drlnp/qCGVsBsGrjvhzz9n+5KUlYe43bkxHnctPgExXm+j77Qh7zQ97g+k/N8dwI+F/OE5IGut0MkrfYtqcvTl9KIdGZtiKTVhkjJb/dI91y+M0nvLA6RtKvfk247Pvr9KSlLGyJlNY9MXP7X56SN2hApscrksdaJuFGVKGm1idKhT0dl39yTbta9Kmm1svq635LCtSFS1ukh18v/0iMdWhwiaX/xkTRekl3etaekEUmGXbbE/Vdl/TAiffhGiKRdfES6IbtWXueNynhJq31D+thR4T1bGxL3X5Xk0khDp6Tc8BAp2bmPPPSvUkYvviGFa8Ok3GZZf0j3pK63EyWtdqX0/u8cn5mkd5aGSNqlb0ldf/LcvnDn/ut+y9b/4a9KZ2TF3z79qqTVhkl7Ox29Z+/rV0+N648kSVLfESlRGyIVXBzvETcd8rV/Pf12DN/r95Ux3ey+J/tmSDqzPkzShr8hffy1UwuaX5W02lelM79XXNUY3uW7J/26WKaX9ra8v9qLjvtTlwdbtl0XIoWvl/WtNGqzlfA3pV+PdZESHRuVPv6FrO2/PyVlacOkQ/XHpBRtspPu2q/9p3H/FFhfZNefxe7tHml5TdJq46V3+mTXevKjf7oq7ZX70a8/kgrC7f33F1m1X1+Sdi22laXYD9jtxtXGJcmmK2F2233TxX4kacjW9nDnflMyZgr00IN/c9jI+3J35fBXzjZl9z97P3W+btTdP/uKz7HDRxmVxBCpRzqkDZG0b/e4tEerDZEOddv/70dM0nr0/ZJ0u/lVm6wTxW6l8cpHFPnNMTncr7/36VtSojZESm90l28y5LKOten6eB1u/jrA8dubL7d97hwnPOjGWJvHY+/t+pUu/1dC19thnn97/Z9l8fHRiKOeuPfJm1K4Nkza9cl4OybOl+VtSpb5WU/5pSPvCpNSit6TuoZGpdHRUWl0qEd6vyhZCl/6hlTwqn/x2iuT5ZET5HGjra+55nHT7RN8zfMV+VYf8kJf4voMzvPvx1zME1N4krmIn62Wb4QPJeYFFbQPcHuCu1Wqv9ECHXx8YRCL47Hw7CXsH/otrVnKnqRAL+2Vg7ByHRk/ks/sVQSv3sB2vexj/ToumbqoSLatt7daLFgsFix/DkIfj+t6+4nQLOWAqYvGvGhUzuVYVIRERrvetZr1BE8CXZdb6P5qvHPC1rYxNFRGgqPppo84bgpiWUIojJVn/1MvYNly6P5g8iUXvmOm7d9aMOvX8bNk+XFlKiJfa8ZkquZ5jb3NPec42gOpOevcT9vTrmDzxlDMJ5pok90FCcvZ4HYami5mEUlY6bnluAupQv3fge6LtPUMj9/10efQOvRbip+b4M6Nr/07IVOo3yNOuhkhv8tp31thbqHh8v26H6kiKj4NjamJK87LS2910NoOqcmLFR9spcyWtazNWoHO5TM1UfFxYO5lyKEzinRMzdx/iIPz17hhf/Bn6btGKy8RsTyaBH0/bdcd/dtP1wkwvBA91obA+iINSXu7MJ3aYGu3ddx2VSHzSWKYrgH5WC/h52tkfnRWNM8m4eJHzZebqDXb+0++T2d2HOtfX6SwrTLWrmOZy1MSFYZFaQCE5ayQ2Y+WyIXRYB70c8ymoodmOi90wOqlPKuW+UeLlZCFK0gwt9DWbVcG1ROEAVfaWhgYe5qlJqnstwxd8OPgDJ9jh48yKokhvuBPefFb2ezm+0GXvJPN8dDaeNH708xpiVd++s3VG9yuV/1oMc8DbTe9LO9WQFhWGdsnWzZ73+P3ZG0+zP74DvJKmhgaqKdwSz/Gwzv9Opk0bE0nJtNh22+/sY7L9XQE8UBtv2M1ySMaR+92sG99PSzfw9rY6dzZpiJyfSPth5dCcxHG+VHo9VHo56dw6Kul1J3YQNQD2nsblu2ex6kjF2N0zuOm2yf4mucHzLcqiOszNs/3TGDzH8/4r6qx8wnzcCz0d3XRwDDmO3h9tUTYmjqqvsqlICuJCtREvhDH84krSIiNJljpUdNfDXDDDEkx4Xh2XUHoYwHnQK9Sw60m9u19mzO/NPu/5OAxFWprL1VFRbx7atBDII4b/6d6EZv/fSsjr5VinFeO5vuhPBu/ggRjHAl67ViSaR4axMwgu5Oj2O214tEAvudmmKHzwPpwzwnXYyqXZSO29kVjCPPc27qQaKDGlnw6jX/MMx6W5nwvmLnAPrNjWaCahK2NFP9/WRQmJ1Co0WCIX4TxuRU8Gx+KZiK/7mP/TswU6vfEZLr5dBARQMWtYe7XofOqmKWs0dRz9Fe9ZOvDARi60kQbS6iNUb78Qpktx6EPdi9D83dBQIfNZzytXMc0P1yAgSI6r+8hIRZufNoCa6uJUoXyeJKK3RcuYU5egcbUSztalv1wXBcD6osA1d9Y6frXbeyvv0i3h/14SfIPYiMI8SDmU0/H4exHb9/qADKJlAdSO+pn5mPgovIG2zH8vQcbse8JinzaPSN9/DHXq5WOmf96aPdX5BNxwvtVSX+2e0h9DlXVw2zalk/84Xx0EdEkJC0haeFiDMF+LDdSEDt8klFJDPEFf8qLDJXd+HGgJSQSOGC72aHz4P+mJV756TcNYUEerteiewEYHsHCVL1sKNl7NvBhYjmF1QtozA13u+L+x+/JCCJ1Twlt8wuIOQ+a5SWc9XBDwRdUahg6W0pexWnavpxIgkcwjt7tpyovlypdJs0lS1xqUX1HBZgZtYCXJBRwHCyj4XGf5FcTnFxCQ/IOLBZ7X39HbT/ssJf23wCrdPf9bQcxeg95nEbLHKDZnsc9EJ/gKc8PoG/1Oa7P2DzfM4HOfzzh/yTzif/ifiqWz7VqSdrRTFL+MH3Xe+m7conWiix256pIrW5lf+I0m46pkvTEcm7HrGBz3RJCdEGEPGkb/q7KKDIO+1jOnYsULs6ldlY026t3otdpmauzmcDI+Vzit7herv5BJlWX07AM9NNl6qXzk/fYnVhEQcwG6upyGF/SH83+Xx3mea9Hb6sm8mUzkv82y8fIog4no7KL1JJB+q730Helg4YSI5u2hbL93Uayf+C9HN/7d3rqfzgIJz5by76qc3SuDceg6qe1rh9N7lYM/iiVIltW+RhgFfJ0OAl6OPPFIMwz03YUMmpsTwcjY9PQHLjGjb0rCLn+EX2aRRQ7T9QC6osstO1IIOOEiqSCMhp+EMRTYVqeAPiqhY0Li9x/MhU/GkDUs7wP/nf/x3R4mynqYW41phz3JH8M1XghusQSGhbuYOjLXvpMl+i88DZ5JQU8vrKMs2VLlCVqimKHDzIqjCGTEujyfGJmxKuJdDhg6HMo3nGOpF3bqPrHZlI9XjQz+sOlRg3Y7og87re/6atOIWnXMIasrdTuCuWpkCBsqt/LUX0WFc4XP0px9O4gDQUp7P7f0VScc39f6lPfXwRcpKvPSkKMN7nMdF/uB/0GghW9UkXlvjf0Vj+dZkgKuf/vsPQ5j5sJNhAwX6gsrj9Uef59mIvdn1eYuGBfZnEXmKUlLGYJqRvLqP1VM/vjLTS8fVrZI+LvBTNXA61XvJzexCCmy66f9LUfoZtQNu8tITU+mshgDWq1GrXazMh136s2X2mi1gzZe6rJTozGoNfay1Hxh9/JDuK4a3sUbkWFOjichORMtpe10n4yDa6U0/CJrfUaXRAaern9tcpelutf4F2z/U7vr3o997tjWcxdq1P7rtHp5Zi4gS+uAXHo/Hk3laMuK6hmBxEZv4KMgsM0X6gmm352N3R4P+3Qx/6dtvo9MZluDvTTAyR5eFI0nYQlvoLBfJrObiuYOjhjUrHmuWg/dCvAtmxHuY6FEmPU0tfey4DpKmdYhCHS7p7181lGC53XB21Bfvl8pyf2AW6/uYMzJ6ywtoyKtUswxNiOqFer1ahGBmhV3hVj2J5sXqTb5Pl7yxdX6ZxC+VPFH7/gnx7a/ZVpmFEP/tGRj6nsT2Gt9mW0PKZCp48maeVWims6Obs3nKFT5Zzx0p/eUBo7JpNRUQzxAb/K6+73shx2mJvdQGwwT3kZlGmJVzPUbzqwLUG1LZvtkh1gcv/j92QM01xSQHPYTtovbOCpD7ax66w/R0falyvGbmX/jjQSYsIJ1tjlujOMy6G3j1IcvdtPVZ6RTd1xVJ2r9rjMWP2PK8jTWKk4cc77ygbTad49D2HGOB+W6A/SsGoOupIOj0+y+n75Hp3E8fy8mfk+ywfiEzzk+QHzrUri+ozN8z0xPfmbnAcwyRykYWUU+px6WWDT8IQGGLmnsLxw4nOC4NQRaj+Tq5+VgRPl7PaSSFhlRw9bLhxh32X5Vfb9Bb/7D/7gpQXycqymGqqOysq+vA293sC+y65uQzX7Sb4LjFody7sWs0ZvpWKv+wlc1p5SUvRR5F1wcmX2NeBDI/4u+tWQ8OISNKYjvPOBPPhY6f4XI3p9Fh+a7WofsZS1EdBQecT9hLDhJg6W96NZ7ecLkC0X2a2PYsEBmXOdpeG7TwJ/tnpdPuBz/+JYh25f3hKg+j3jpJs98l8O03y4nE7NElJjAxssvMrn4Ok4jPFWKtqv0X25iT79OuIj/Kkp0LZsxw8dC5u3CM3lS7x7+iLmF+KIciz1UIVjWA1VJ0v58DxkzHPe/zhN7ZcP9d1+aqvr/SvL0aLYFWRohjla3cSQ/Mj0Ox0cfNv/pbIBwR+/4JceajAkxkF7KfvckuVhmrcY0C8op+s/bZ/cPGlEr093e5XIE7Ntj3as/6lUUBu+xQ58ltGXGDKV9k1Ynse+hKGzRexrhwRjnJfltCiPVz7xYPym7wSRumsnCT2VFByQJav3PX5PzNDJfPLOh7N/VxrB+hyKd2hpLiqi2e9XFMhjoJnWqlLXG1yPSBxluIXCVUaO3k2j4exhkrzNYVXR/FNBHJzfxcbqfnfZ7nSwb1s53Zo0Clf7ss8tCIMxHI6+R6tsnKw9pRTuGiRs4zqSxnyp1TZRmClMt0+YYp7vzRdOmjf5ENdnbp7viWnKf2Q8gO3DoaRuWcG76UUkp/Swfs0KgtVmBs4e4+ApiNyxWPFhDGHpZRRfTaHwRQOdqzJJTZyPxjpI29lyqn6/mOzlKqo+cLo+fh2Re8spXJOOZeMrRGgsDLU3cegDFWvWR7PvoHPpakL+VzicOML+vf+TjFgdqidDMQSr0cSsIEPTQW1+Cta8VzB+X43583M0VPVj2LiCtgMj46UkrqM4poPCVQaGNm4h9Uc6MF+i4UANfZolbIqxO0hVONl7cuh8tRJjYj/ZeStI0Koxf/YeB2s7GF1ewtmVTt5OHUpYPNRWFrHvyXUYNCq++4yy9dTq53ZSkdtP6utJ9LWnsX75gvH+O2/FeLiV1LFDQULJ2LOBztXlru37/BwNVS106tJo2LjIv8f8s5eQsesYH+/IIn44k80rF6BhiJ5Te9lnUpGRH+d1aZvP/QuE6OPQUM+hIj3W5aGo/1ZL1A+0qKZQvzfCVpWx/WoKu5MN3Fi7gWXxQajMV2k9WUPDFS15jTtJCNDa90nlG7tCy7PL4yA3lyyNlbAcX+6ueiLwtuwoV7GO6eezjBqqToBhb4TTOKmJil8CmS20soiqSLVLPQFtvyaOZatVNB/PJcO6gYzk0LGxvhmTSUZ7DSOTl+KZ2YtYX7aCvvQCYrpbZH1yEZVxBQmmJn9LDwD++AX/9FCTvJOqT4xk5yZhvuLw9/20njxCbbuWzWfH328XtnIrGfW5bHrRSHfeKxi/r8HyZRO1FRchYgPxP1AmpbLYMbmMSmKIL/hTXtL6NChKItXRlwxhulDP0ZP9sLyE4pUTPCFSGq985EH4TUU8nUbx3nPEbJG9s/QBxG+vmCrJ29JLwt7x+B2WdZj9l5PIK2kislJ+CNtE2JL8fbtKSc8ZscVGe45wRpVGXmLN+HLZRyCOWnrKyXu1krYnlrB/4wL44prbSpEn/j6csO/ZHI1u+R4afpdF3i4j8ZeX8NPlS9FrLAy1n+OdDzoYIJztJ7ZikB+K5gVd8la2f5BO3lIjnQ47/uwY+w5c495zG6h71XGz1ELbDgMZx7Vsv9BKtpc9+/eV6fIJCvN8pb7Qa96kIK7P5DzfnenK32R4OnLWp1eYeDk+2e3oaC9H745+cU469EaiNF9rO3p//tLXpEOtA5L8gGrfGZFuNL4pZS2NtB+1HCOlF5+Sbo462uQqz+gXp6Rda2KkcG2IpNVGSslvHJG6vvZ8rSQNSR8Xr5QWhNva6nJM+MhV6Z0xOcKkBWvelM7cvGc/8ll2hPZfRqRf17whpT8bNt7GXxyTur6W3Bm5Kr37i9VS8o/tr354dqVUUOPhuGNJkqShj5xkcTrOXmkPdh6TCpz7ZO2b0vvXvRyZ/HWPdObt19zaNyJ/vYL8iH0XPB+77tqOMGnBmjekdz91bYdHHfW5f+9JN2rG2y7XZV/qV8aIdKP5LWmjs27+4pj0aw9FBubo9YnlkyRp7Jhq91dXKMcXW57Qp3jTEV91zNYK2+tJ3I6Il8ZfceDFZwXUF/1lRPp1pWubdzUPSPfsuj7uBxX6UTv3hi5J77yRPOaL5i99TXqnc0SS3Mr3kYmORp/Adr3qqaIxkybXQ6/tG5Vutr4lbVzp7MPfkj686WHURk3Sh05t0v44Udr49jnppvxVKz6iLHb4IKPPMcSHV5goKc/et7ktI/Z4s9JFrw61mtzijVc7VhKvfMZHvznh8f4T29lETP5qCvurfDzZQYDit9+vMPlTj3RoqU3u27LfSr97T0rXhkjp9QOT9ICcUelm85vj8fXHidLGyqvSqKOP/Yjjyrh/cdTxyq2J/jzp20j3KZdYEv5sss3XeDWECfTTQyxx96X3pBuVyVJ4eLL07hf+ySpJks+vMFGSx02bT1CQ5yvKzyfKm3yO69LMzfPv21zMlb+SJEkKxGRVIBAIBAKBQCAQCASCB7AnUyAQCAQCgUAgEAgEjypikikQCAQCgUAgEAgEgoAhJpkCgUAgEAgEAoFAIAgYYpIpEAgEAoFAIBAIBIKAISaZAoFAIBAIBAKBQCAIGGKSKRAIBAKBQCAQCASCgCEmmQKBQCAQCAQCgUAgCBhikikQCAQCgUAgEAgEgoAhJpkCgUAgEAgEAoFAIAgYYpIpEAgEAoFAIBAIBIKAISaZAoFAIBAIBAKBQCAIGGKSKRAIBAKBQCAQCASCgCEmmQKBQCAQCAQCgUAgCBhikikQCAQCgUAgEAgEgoAhJib4ha8AACAASURBVJkCgUAgEAgEAoFAIAgY92GSaaY5Zw66nCbMjo96StHp5lDRM/2130/MZ7PQ6bJo/kr5b60DTexOj0Knm4PuYG/gG3ef6T44xyaLtz+HPrjpgoW2HVHoYnNp9aMffUaxDnrQ45mGIpmm2s/T0R/3aezvIzY7KKXbl4tNNaRGzCX1aC/WANQ9FX/0bcI2RklU9Hjv9Wnvy7uDNJekEKNz1Rdb25zqvXORwtg5xOS3zFw/NENQZHsPFQ+Hn7yf/W/5soWK/CS7/cwlPiWXqiveLcRyq4PabSnER9jzkdgksrfV0OnlJ5YvW6jIifIsj6Wf1oO5GGPtZUUYyJigrIDyVRPZujlkn/02eYOHIBebIo+S73rsQTdAANBPbW4BVapFFFe/THBw0INuUIBYRHHjywR7+upvtai9/ewbK9waZMQCfG/aGieYif08E9t037Byz2zl9u/NWAHVg27Ot4pB9hWVE3NyK5Gz7n/tfSezyDuqInVXGcbvhxIy0cV3YWjAzCiguU/tE8wwvtV+0hVrTynpyTXcjlnC+uqdBKuGMJ2vYXdKAm27GmlYE+p8NQMnc1m5pQO+H8eyrWUUa9WYPz/HmfpSUk80kVFTTfFzWvv1Ftp2JZBRbfFc+Vct5P0kn+ZZ0WTnlbFJq8FqvkrryXJSI5rYfLaZvAjhyQXfXr4Vk0zz2SwicoNoHtpK5INujEesWE3AxlfISAx/0I0JIFrCYqIV9rmahD1dmApUqB9AsvftYSb280xskw981UT2vALmnv0teRFTKEefQ/MXaVhnqb/lE8xeKnQp3DjcSVXyfZxG9dSw+/hiGnPDp6H/J5bJ+udhIJPUNUsm9pezF1F8tYvt3/m268i3mYfUT04L/dRuq6H7hRKuVK5AB0A0hvil6GdHkbrjGG3Ly0iw39G2flZO3pYOnlpzmIpdi+zXAzFxGFevo6HAyKbMfMIuN5L6tO2rkKRq2nOC+ENtFKkHneu20lm3jWZzHBXnqjE65qVEk5C8lMj0JDa9fRpjXdp4PX7SfXAOxi9K6KlcIW4sCR4qvhV7Mu/dfVQfqj+qiOB5f5iJ/TwT2zQJ1v+Ll/vcyvnWTzABq4U/3vdK09i8JYjuvduo+jwQi5VlBFImlRrVt+L2sMA7D6GfnA5MHZwxQfaqpbKJnIqof3wJaME04PhskIbiGvr0mWwvWOQ+8ZsVROqOMjI0vWyqaLH7dDW6H4UTrFHz+P8j/4EF8y0rvLAIg1b+XRAhkUD7ECNTFtLKvT9NuRCB4IHgOsmUrS2PWGhk08EWBrxkUOYrNRRmGojQzUGni8KYU0TD51OY0JmvUbst3an+FAqPX8P8ja/151PrvA7fvkctZks/UINxbE+gbK2zonotDFwoZVOKU735lX6vv7ft9UlhH8CBFNf22dfb5503g/kaVflG4iNke+48jdnRDobuyirqKUWnm0vF5zDUXkrewrn267OouDBo2wP2jZnOo46y5hKfmU/tZ/d/gu66Hn2Y5tfnoksspVsu090OdkfMIaKkw2UPm/lKDYU5TvszMmV6IcM6INvPMcn1cmz7QYxj+ztiknOpuNCveOJhvVyETpdAlcn186GTRnS6OSQd7Xf94lY9qbo5bLrgXpN1oIWKXLuORhjIKGliQNZ/Xtf9K/QDYKb7eD4ZsePyV/mpNx7bdHdQ1p4UCk/1+j+xs8uXarcBXWzSJPJ5o5cK3Rx0sUV0AvuSx/ccu++LtTJwwdnuUth9dtB176Wn/TVOdmv5sondOUnEuOwNDKw/smHf8/J6C2bH2PrYVz7ZnleZ7PUGZ1EFtOYaxvoz+6x5zN51+S1exn6QhvSJvp8IFTFZe9gcMci+7Ufo83WeOWnsmEQm+5gbD4BzjPK+r9quc459+3d7qUi27U8akl96q54M3RwyTg4q6Qhl9qYkdvpkd066Z49HqQvnys4psOt8ctTYHrjU/FJav/Q26j7YniI82ZyH+p303DrQxO7Mif0xyPcWuv859MLdT8ps9uj4+Hn3xz7KESic85k716gak9Pms7rv+FHm9zNpNHWxeb77rTnVLNlnpos09EBC5stEeruTN3sRyzJUcOoSXZN2gxrN0yr4TT+/dVMmCyO3gXgdT/okiGds+eFcUo8C5wvs4+RlP+Kda9RuS5m8T78x03k8n2wn+5HvIR06meIxF3FgvVxExATfe2TSWDbVXEqZPvucJ9r71aVN7cOeW6Ck/Z7GoaTJjzxELpgPPnk6bNELY5NM66168hYYyT5tITKvjIbGana8FMRQbT7xqwtoc9lgbqFzbxIRKeUMaF5iR10dDdUbiKSFTT9JIKO6X7EDt/aUk7o4nYODGp7fWG2vX8tARTqL08plEwxv9XdQmJJAxnF7/U+voKGxjuJVYNsfWEdDYx0NjSvG9rwoq3eYth0pxGfV0Dl7EZur62io28Lzj31E3mIjB3+jPGyp562joXErqQCrtrq1D8D6xTHyXsznxuwVbD5cR5J9GYfXMavKImZVAW1udmDlRk0WyTv6mZN3mIa6EtaE9LIvy8jGs9do3phAXruKZQW2/oy6e5HCF9MnPBBjYqyMWixY3P6UlKfFuKOMjJEaCiuvOemVlc63c6l6MpPq1+PsT3+sdB82sjilnM7vxLG5ro6Guh28qLLpRd55dwfyh8ulpMQXcWP2y2xvrKOheisJ9utTD09+AMvQ+VwSF+bz/p/D+dmeOhoay/j5PAvvZxlJzG9xT/wmQDVvAdkM03bdOSkcpvOCbXLZ19xBn9M35uuX6CQOww9dd7f+n+5KUlYe43bkVioaq6nICOLm0QLiV1W6/N4TyvwAwH9wZlsCeZ9qWLbL1n+GxzvY/WIChb8MRLJiprXASHbtMCGZ9vYsUdGWn0K6D+PjxnALm35iJPu0meC0PTQ01lGVGWqXr9z3yQUAQSQ11tGwZxEAqXsc/mXcRh10VxtZedxM1MZqu90NUpWbREp1v4dy5Vj5Q3sp6a+exvrDTIob12GYDdPhj1y4a6Lh9QSyLoAh7zANjdVUpNn76ie5tLr4F6W250kmNYacOhoqMzEAhvVlY/3583lqmBXHspwgOPUeH97y0EtX3mNfu4q85Yu87/eeCFU42btziOyppLB6ct3yLXZMItPs+fzcQ4yS649XZoWTt2cDkecL2P2B84AM0rCjiLYXSihepWSPv+/2pih2KrW7uyYaNiZR2KfBuLGahp/YZbAO0vC6gfis04zO20BVYx21O19CN1xP9sIUCtvdffzUbE/OMK35Cbb6f7COkkZ77vHn02QvTGDTeXnQtfLHT8pJWVmPJXZif2z9vJz0hfm8/+dofl5tiyXFq0LRAMGrd/qmF1abzeZd1/LTCf2xUjkCh3XwPfIW5tL1VCbFjXVU7Yrj8fZyjAvzaVOa3D6mQq32/GR/6ItrwBL09kMhzL/roQ8tBr3bY0cXwiLkT0C9ocKQtofUWfVser2SzmF7fmMepPVAOgXtoWx+/aUpLZW15Ydl5MUCsZlUOXLYnPmuPu6r0xQuzKXzuy9N3Kd3e6lISyC1YpAnkrZQa7efJwfLSV1sHMv1dImvkKEZ5uj5ax784DBnqusxx79Ckl6pRN5i2VRzKSX6rCBWWXupWJNO4WUVL+6spqGxjJ89M8zx9CS3mKao/Xf7qcpOIHXHRSzPpFFRV0fDnnUED+8l/icFnLmttF/tzXX45E9VPOvwyUtUtO1IZ/FG98PiAmqL3pAkSZIkk/TO0hBJu/QtqetPkitDp6Tc8BApvPSqdM/+0ejFN6RwbZiU2zwku/ie1PV2oqTVJkrv9Dk+G5HOrA2RtGtPSSOOj7rfkrTaEOlQt+NnPdKhxSFS4v6r0qisREf9yVWmsY8mr3+l9P7vxj/tejtE0mrfkrrkZftb72l5vZI02vamlKgNkbTaV6Uzv3f7ehJ6pEPaEEn7do/rx78/JWXZy3zfrUofxuwXH43LZe9zbfib0q9drh+Q3l8dYvtu9THp5l+cvvrTVWnvYtnY+Yitz738TaQLkufxsvV9vLT3U5sW3vvkTZf/S5I01l+J+8d11caI9OEbIZJ28RHphrw/tInSoW7Xq8f1KN7pOw96bK8vq9FdH+51vyUla8OkgotumjUBo9LHv/BUR5h0qP6YlKJNdtJr+7X/9J50Wy5T+KvSGVmTRltfk7TaMGlv57is7v2sxA/Y+0MbIiW/3SPrb5P0zuIQSbvaqW0+4tYmRx/LbO5GZbyk1b4hfaykeyVJ6no7zGaj8iG7/s9SojZE4XjZ8aDD4/XZ+ih8/SlZX4zadDL8TenXjs5zyNrsZG2OMV38lvRrWdOmzx+Nj617u6UxXfBkC4psz4NMzmW59IODr89JG7UhUmKlSfaFvc0B0LkbVbYYduj6uCQjza+69qXC2DGhTB7a4Pq58xh6jhW2No/r9e36lZ71fDJ8tTeF8vtud+O658mvjo2Nm88eks6sD3OxJ0W25yMOPXCPx/aYEf6G9PHX9o8m8Me3T78q88cOf35Muikr99elYZI2/J/H7UfypC8T+GNHHHeyDUVy+Ik3X+5p/O59+paUqA2R0j2MuV/86ZK0KzxECi++NNYXbjbsDfu47frEtY1e88jRHundNTGuOc7KN6QzfQqVyysecg8HE/Sp1HdE1qf3pK634734Xbv9LB330zabf036UKYH97rfkhJluYRPTOT3FeVS7v2hSJ/9iFV7P3W+btT9OoW54Jgf+1TeEfekm3Wv2vXIg65NiL1fFrvnbyMtr0labfz4vOw+2qLtSWbPOY72QGrOOveT9bQrOHCpi0tZjhO6zLT9Wwtm/Tp+liy/I6Qicu1Wshnk6K8UvIbD9BHHTUEsSwgF+VMv9QKWLYfuDxxPcSap/7VmTKZqntf4cBff33qXu98JU8dv4OcrfRdZEWtfZpm8yknGbPPGUMwnmtyePBk2vozB5fogDMnRAGSsfolg5zuCs6J5diFwfhD/bqykUWvqwiT/27tU8eZ19XN7qFhrpmJ7Od3mDvatr+epjWWs/5HTuhfNUg6YumjMi0YFWMfGU0VIZDSYehiQ9YcmdyfZbqe/qYhcu5M8zTD7Wj3dybNh/vQirSxhWaza7WmtNXgpy56zUtt+TcHSPTVz/yEOzl/jhv1Hlr5rtPISEcujSdD303bdcS+qn64TYHgh2u1OaVj2BqdDCOwlRy7GiJWeWxPcoVbkBxws4mer5QelhBLzggraB7g91e1ts57gSaDrcgvdX40XFra2jaGh8QMdfCVsTScm02Fb/3xjHR+zpyOIB2r7FS4t9Akta7NWyMZJTVR8HJh7GfLhNQSG9BUYXGT1wx85y+vpz235XjibX5e3G5t/2RoO5+v52PFE0Q/bc5fJB2Yvwpiroq+qiU5n3TKd5p3zKjJWL5nyIRthWWVsn2zZrKLYMf2EZR1mf3wHeSVNDA3UU7ilH+PhnW5+YFJ8tTeF8iu3uzQy3OJ7L+2Vg7ByHRluPluLcW8npkvrmCv7fKq2N46ZzgsdsHopz6rdV+eELFxBgrmFtm5Xjx+W4+6PdTGLSPLkj2f9vzJfquIpXRCYrT6u2ljCz9fI/PGsaJ5Nwskf+ydHwFi9wW38VD9azPNA282pLGN2YF/lRBwlmXHTu8d9uIm8BSm8o1pCRV0dre2tNDeWUfz0ILsSjR6frE8LnmxCH83zGuc+7edK7TCRyxczF/m4q0n4yUvQ08QV+xLYsMRXSOAiDb9y1lELbfU19EWs4/kY/3rWk9+fWi6lUJ+VxCrVE4QBV9paGBh7sqcmqey3DF3IIcyv9jv5sR/JA6CK4NUb2K74CTGAhqS9XZhObbDlb9bxNqhC5pPEMF0DMn2cdlu0ny5rHhrETDSGMM8RX6V2PoximKHzwPrwsQ52vTiIuYlQ9cUAZsJ9mkzY6h9kd3IUu71eNWoXeJL6H1OhVvum/AGtFzVhkaFwyqeqFWH4e62bo5xszHQh0UCNLYg6HXGu17lnHY8/pgK0PPV3Hspy2+yuBBVPqNX+LV3zUJbh9WryLqdjjKiBiEyaX5UF08dUqK29VBUV8e6pQQ/LK+LcPol6JshzEFIFMecfANMwI+Axcb19qwOA7Hkt3pv9wqgiQ9X8cAEGiui8voeEWLjxaQusrSZKFcrjSSp2X7iEOXkFGlMv7WhZ9kP3pXAxeg/L4zRa5gDNZu+JgzI/YCd2PmGz3a/9ri4aGMZ8h6kdsa9exOZ/38rIa6UY55Wj+X4oz8avIMEYR4Le3S4mQ6WGobOl5FWcpu3LaTjgxSNxY0u2nNH8XRDQYeujSZbBudutH/7o83L0yTXeK9nYyNB659Otwwnx0i5dcDhQw80hKzyt8sv2PPmiyVFhSNlKwuEiqs6+gmGlFlvic4Q+/Tr2PxcIbxNK9p4NfJhYTmH1Ahpz3U/8VhY77gdBpO4poW1+ATHnQbO8hLNukzQf8NHelMqv2O5ig3lKbtxfDXDDDEkx4Z5jikqNe+ifuu2NY7c58ok44f2qpD+7yhfzjAd//L1g5gL7xvyxmqj4JWgy93LoeDA/Xx7EE8Bo3zEKD/Sjyd3qxc5lxEYQ4qFznno6jnF/7J8cgcIQFuRh/LToXgCGR7AwlVfzWOmrTifvqJbNZw+T5Bx7vgMwyMgkMcl61yb3f5Pv6XRjmIZtBTT/g/PJtkBwEJExiwj7OyPG/FISflVGgocYGUgMkaGe+/QfGO9Tu/1070pBv8t7WVbHsD/9Etm5paSWHqMzeScGFWCq551TkFqd5ps+esCT359aLqVQn5XEKn0OVdXDbNqWT/zhfHQR0SQkLSFp4WIMweM9rqj9k/kxgtDHAkr2u9pR/Y2Vrn/dxv76i3R72FKSJPv/9NqijRl0Rl00+391mOe9Gr8qQJOVmVKv76hnBa4F3h1nEE9OsyOcOir+q2r83277MO5cpHBxLrWzotlevRO9Tstcna3vRs7nEr9lOtqURq1pA1ETtFnR6D0dToIeznwxCPPMtB2FjBrbZDoyNg3NgWvc2LuCkOsf0adZRLGHO16TB8cA8sR/4fFprkL9g0yqLqdhGeiny9RL5yfvsTuxiIKYDdTV5RCmQNy+6hSSdg1jyNpK7a5QngoJ4kkVQC9H9VlUTIsEKh6f4pAEZEx/sAGTaZ33778zBT/jh+35LdPTS0hdWUR2TQt9K3MIu9VC7QkrSYdf8jvxcUOfQ/GOcyTt2kbVPzbb9sy7MfNih0oDto03j/ttl77bm+/yK7a7gPmVqdueG7nVmHImeNWYynXUfdVz9XM7KVkVRfaOFBp2jBVG8KqdnMqN9u2GmpJ+UyhHoAhkPuOK7R2Y6bv6MRxudXs/pebvIwijg07TMNkT7Mvs6zmN815Or3x1lbZ2SDq8wMNNaBWRC5cSdqCcTtMeEmKnNyYr6dOkvc0ceMG7/Kq/GfsXhhfWEXa4nOb2DRgSVXSeP0K3PpPt8f6PoXd7mGIu5as+K4xVusQSGhbuYOjLXvpMl+i88DZ5JQU8vrKMs2VLnCZhAc4FFWOhbUcCGSdUJBWU0fCDIJ4K0/IEwFctbFxY5PaL6bPFcf4aQKMLQsM1Ovs8P+WwWixY7ljsdxHss9xf9XpeCnR3kK4LoHkm2OcZsK3+Xm5/bdvELf9zVclJ6ncsxbk7+V24gNaLhb5ufw4S8I/Jxmzgi2tAHLpH5kXNVror89k3lEbD1cNkDFVSeNT1IArzlSZqzZC9p5rsxGgMeq19LFX84XfXPJba9YWXJQHWQX77G0Cv9Xo6nO3ucD8jd9x1Z+xp+neUBpdQYoxa+tp7GTBd5QyLMETaHYF+PstoofP6IN2X+2H5/MAl1Sj1A/eJu/YlJ6hQB4eTkJzJ9rJW2k+mwZVyGj5RsqTLvkwldiv7d6SREGM7ml6tVqO+M4zXAz1nJH74o8c8+7mxP7dXIvRy08PdUIChgV4glBCdTb/9sT3/UZOQlkmY6QgfXrHQ2VhKmyaNjMTAvkHOtgTVtmy2S7aUWFnsuB8M01xSQHPYTtovbOCpD7ax66wfh7f4aG/K5A+Q3X0vmLkaaL3i5aRbqwWLxYyic+UUYbc50zCjnuzHLrTqO/6VPnQ2n4KTQWz+t87xrSVf3KB9bxrBAX1dyfTK8WCwPcFcuaWXZytbqfD0FF+/hIx4aKt5j25vOnLnImdqrbByAVEP+ulCoLHbT9eQBZWncXeMt/PNe/1L/OwFaDjZwtCt01Qdtk58Oq+fTC2XUqbPSmKV1XFQ5WMqdPpoklZupbimk7N7wxk6Vc4Zkx/tn8yPMYjpsh+daO7gzAkrrC2jYu0SDDGh6Bz+eGSAVj+KDAS2PZkRS1kbAQ2VR3Bbhj/cxMYFUSwYO4lNQ8KLS9CYjvCOWxCz0v2vpdQSxNqFE9xRkKNfzBq9lYq98tNcwdpTSoo+irwLjrXETvV/4KH+fzGi12fxoXlcIVV/owXMjMplC1i9YGkv59A0LJX1ivOYyfdSDTdxsLwfzeoVJDwik0zr5VKyDprJPrgVg3YRm/cu4faBbVR5OPnWKjs+32qqoeqo53LNh4s8lGGl+2gRFWYVefHe7yBr5i0iiV72ve3++oChs7ks0Bs4el15xhM2bxGay5d49/RFzC/EEeV4wqwKx7Aaqk6W8uF5yJgX4JfGK/ID9wfL5W3o9Qb2XXbtR9XsJ/kuMGr1J6OU728y01pVSqe/jbTv2/jD19O0h8kj98MfedZthpvYV9oL8SswyJYaKrE9r9j3BQ6NeN/PpIp4mYx4KxVHs2yJz8aXbcu5AkoQqbt2ktBTScEB2URZUezAJ5mmwtDJfPLOh7N/VxrB+hyKd2hpLiqiWeE802d7Uyq/7Zsp2l048TlBcOoItZ+5OSiatxjQLzjCDZ/LU4oGQ2IctJeyzy33cdRfTtd/+lH0lzXk5XZgXr2BjB9pJrjxEwiUy2Gdvpn71PlmmNYdRpIqraSebGW/16d0WpblZRJmqmF3yUV3v3Z3kIZd+dSaw9mft2Typ07f0xOlh9YPWhhwe2WPle7WJvpYRJTe4ZiGaTtaTtV5pW9fUKH+78Dv/oM/KPqdnFBiMrSec567vVSsikKf2yJ7r6eGpNVpaNqPUbjjGG2aNLJ/4s82h4mZWi7ln136EqtunjSi16fTILvZ+sRs25IR63/60/6J/JiVgRPl7PZjqaxTEa7c7ae2un4KBU4N+z2LUDIO7uTGi0UYf9JLRubLJH1fjfnzczRUtdCpy6TZabmG+rkNHFjTT0ZuEuYrmaQmzkdjHaTtbDlV560Yy5rJULJxVRVO9p4cOl+txJjYT3beChK0asyfvcfB2g5Gl5dwduW4Yquf20lFbj+pryfR157G+uULXOs/3EqqU/IToo9DQz2HivRYl4ei/lstUT/QolJc71ab3K8n0P2rNH6evBidagjThXqO/lLFsjXh9B33fzCUEUrGng10ri53bfvYmKXRsNHPo/xnGncusnt9PaytZrN92YntIKAoUreVE/PBViJngSZmBRmaDmrzU7DmvYJxTIf7MWxcQdsB99ciZ2yM4+NkAzfWbmBZfBBqi0OPLERubGT9RJvbv7eC7ZUdpOQUkPzVNdauWopeY2Hg/Hu8c6KXpyb7vTf081lGDVUnwLA3wmlFgG3fDpkttLKIqshAj64yP3A/UCeuozimg8JVBoY2biH1RzowX6LhQA19miVsilHy9Mrm3PftKiU9Z4TNK8f9xhlVGnmJNf4tlw0OJ14DFYe3EfKfLxOsVjEnMhzNNHfUtPujxEzWsIvkFIduM64LxFGxJ21smZg/tuddsFDC4qG2soh9T67DoFHx3WeiCXZZzq/l+TUreCe/iTYWUZWo5DUdCng6jeK954jZIjvITmHs8E0mPzFVkrell4S943EvLOsw+y8nkVfSRGSlh8ObvOCzvSmSP3B2F5Z+mP0mI5teTKBr9TpSXwhFZb5K68kaGq5o2Xx26zTcbBhHk7yTqk+MZLvkPv20njxCbfsU6ldrCYuA7hO56C8HkZq4iMjI+ejU8MRT4YRpAyuUEjkGjicRv2OYjJpOigOy5zmA3OmlYmM6+36pJnXvHgzfGaTziuwQKUe+B6h+tIGKsmHS83NJvhLHsuylY3nTmfoW2m4FkVFT5pI/eieUjD05tL1aysrEq/ayNFjN/XReOELVeUit3EqSw8ZvdVBVUkNE4zqFMVRNyP8KhxNH2L/3f5IRq0P1ZKjLnkDfUBH5ahmbr6SzzynnUZkvcaainuY7cVT8S5qbr1DFrGB9fAuF7RbCClbIDo4MEFPMpZTos5JYFbZyKxn1uWx60Uh33isYv6/B8mUTtRUXIWID8T/wr/1h6WUUX02h8EUDnatkc6jfLyZ7uYqqDxT2oSaOZatVNB/PJcO6gYzkcd94MyaTjPYaFEThwOFy1uyoSfrw7dek5B/bj/5+NlnaWHlJui1/nYHtoFvpdtsxqWBNjBSuDZG02kgp+Y23pA+/kB/J68MrTMYuvSq9+4vVTvWvlApqPByR7ri8U1b/2jel9697OiL+nnSjZlwut6OgFdV7T7rddkTauNJZ7iPSr0cccgX+FSbejr2XJEmSvu6RzriMma3tI3+RXTfBaxYmOtrb67Hdk+Dz7yZ9hYn9aG0PxzJ7OqZcGrkqvfNGojRfGyJptWHSgjVvSmdu3nMfm+63JK02TDp0XZJGvzgnHXL5zRvSu53yPvd+jLjt98nSgnDbGMxf+pp0qHVA8v8Ac/tx9i6vLLHjOHra03HmE4yxJx3zfiS7L35ggmPVJQXHxcvw2Ka/jEi/rnlDSn82zP5KgBgp/RfHpC6/jtgflW42vzle1o8TpY2VV6VRhzxyG/SRe33HpI1LI+1Hj4/LPaEdyMdrgleYeB5TSZoef+Q0tvK+/3GitPHtc9JNT85Rke1NJJMkSUMfSbvGfLuX3HiHVQAAIABJREFUa7/+SCoI9/Q6E2VM7quG7K+H8NCXSmLHBDL5/QqTP/VIh5baxsrt1S2/e09K14ZI6fUDk/SADCX25rP8vtrdxH5lrKzWt8btLTxGSnnjiPTxkI+vnJAk33RwsvpXynKfmzKPr9Afj37yppSsDZMWrEyWUhz9ZP8LX3NEuuHkf72+wkSRP/ZNjpHW16T52khpV5uy1zt5fR2Vx3zGl3H3wNiryHx8ZZqd0d9dkt79xcqxmK39caKU9YtjNr/pqzxjTbflYCku9vLPbrnwSMurkjZceS5lY0j6uNipvQ698adP7fad5WQ/k8VT2ys33F9noggfbM63XMqbrvhol5Lke6ySJLd8aCwGepgXKcsFR6QbjW+6jkPxKenmqMNe/dCVv4xIv650nQ/sah6Q7tn9zZieTIcteuGvJEmSHsTkViAQCAQzETPNOQbyKKGncsWUT5ebLoZOphCzBfZfbvTxyYNAMEO5VU9GbCnqw7L9hN9YGbiwjbycFoIrO6l4YaZao2BirHSWzKX4fzTTulb+GrAZzt0OdsdmcSaljqtb7u9KJsHDz18/6AYIBAKBQKAI6zXeP9CLJncDy8QEU/CQY/1dP21omBss2+/2mIrgZ/S2EyIFDzH99HwQTkbiQzbBBIb+/QhV5nA2p4gJpkA5M+gVJgKBQCAQTI75wjEqzOHsF4mP4BFA9cM4MjRN7F5t4MbydTwfH4Qa69hewc6ITJrjxVPMh5dw8noaH3QjlGPtpbmmF83aanEzT+AXYpIpEAgEgoeIfs5UdsDKMp4XiY/gUWD2IoovNWM4foTatnKyj9pfFfP9UJ59qYz2NUsC/BoTgWByLO3H2GfSsr0sTtzME/iF2JMpEAgEAoFAIBAIBIKAIfZkCgQCgUAgEAgEAoEgYIhJpkAgEAgEAoFAIBAIAoaYZAoEAoFAIBAIBAKBIGCISaZAIBAIBAKBQCAQCAKGmGQKBAKBQCAQCAQCgSBgiEmmQCAQCAQCgUAgEAgChphkCgQCgUAgEAgEAoEgYIhJpkAgEAgEAoFAIBAIAoaYZAoEAoFAIBAIBAKBIGCISaZAIBAIBAKBQCAQCAKGmGQKBAKBQCAQCAQCgSBg2CaZdy5SGDuHmPwWzA+4QTONvuNGIiKMVH1ufdBNEUyVr5rI1s0h+6xvWj7lse8pRaebQ0WPfz9/aOqcMZhpzpmDLqfpofJj3QfnoNOV0v2gGzITecT02TrQxO70KHS6OegO9k7+A7vP0k36V0o3wzSkz0GXWEnfJMUOnUpBpzNSOxAQsVza6qt/FSjA3rcRrzcx5PWiXip81Ss/sXxWSd7Cueicx9mho071Tlve9Ij5gwfCTO3DgMxDpj8HmK54/ajONR4b+9ddGBowMwpoHlx7Zh7fWDGbh7n9tRVQPejWCO4nYuwFAkHA6Kc2t4Aq1SKKq18mODho8p/Mns/PG+vIGPvATOfhfCrIpCp3AeqxzzWEoOWp5XGQ28QVUw5hem+FDtLZ3AvxO0kInppEgvuL+YNd7IufT0Wy9v5XbrnIvhfL6Xwuk4qCBQQ/o/Z+rYidAn/4Ns9DHlGbsT3JnL2I4qtdDHyQyVRiTvfBh+8pgg3bHUBPd2DDsloZMHVRHD+BQxUoxnw2a8Y/vRFjPzN5ULozJf9mv9s/4+4eC+4jVqwmIOEVMhKjMQT74FdUWsJiojE4/c15AngiiCiXz4NQA5rYpaQyzNFfTfA0y3SR2suQumoJugBJJrhfWGkuKqL1q+kpfULfeneUESAq+RWM8dGEfc97Iixi57cZ7/n0hARoHvKw8qjazPieTJUa1WMTXDkpVu79acrteTBYLfxxgq9V6kfnrsJM4d7dh+NWhBj7mceD0Z0p+jfr/8USsLYIBF6YvQjjWjDXnqPTy6qrvstN9LGIhHmPVjLzbSBpYw5GOijYOz1bmwLpW0Xs/JYyST49IVOehzzcPIo2Y59keljL31OKTjeXis/t+0gyDUTo5qCLMJBR0sTA3fFLbXe/5pJ6FDhfYLtO537X3/JlCxX5RuIjbN/HJOdScaHfNfmy3/HPO28G8zWq7Ne7PAEwX6N2WzrGWFs5EQtTKDx+DfM3cvGsDFwoZVOyfQ9MhIGMbfX0jVVoX78dnEUV0JprGNvj4rgLY5Mti2anO4fdB+egiyinDysDZ4vIsO9RiFiYwu6zg7jF9m/MdB7PH7vO7c/HpyPj9VoYOFtEdnKU7LcWm7wp9rHSRWHML6X1S1l66zK2LVTkJxGjm4NON5f4zHxqr3hvjflKDYWZTuXnFNHwufx6e7++3oL5GzOdR3NJXTjXpl/2/QAxW/qBGowue4omY5CGVXPQbbvoqjPWDnbr5qDT5dJ6x+ULOku87FG6c43abSl2uaMw5lfSfcf1Ek9jb8PiplepnvrZuSUDLVTkerchn7C32cV+2ocDUKcneSppG3bSZHsfJ1X3u/70Vj2pOk99bB+r/JbxsVLYfjcU6Y6Z7uP5ZMSO11X1mSe9ntxmfPVvnrH71tgiOoF9yeN27/5U0+av8ibzJ/joSyfD2dfeuUbVmB/wZA8T7ffysA/GyccMtTvLlEXFBbtMdt9g8+N23+NxjOy9o8RX2X1utovvr6FTfrlTOy1fNrE7J4kYjzbvHV98ok2HUtgHcCBFgc9Tioqo+DQ05tN0dnvSnF7aq4bR5L5MwmwFxd4dpPVgrmvMPdXrXd988K8OJu+/APh9pe2fCLPcj6Wz20NZivMEX3j6ZXbsioMPtrHrvK8TQh/ygkl8a/fBOejmFdCKU540gf+Tx86hs1lE6BLY95lcaiudJXPRRRTRqTAe+hzffM0XA6EjCvLmMXz1VYCvOd7kueI4QydT0OkSqDJ5Fsl6uYiICb4fZ/J8emJ/O9k8RFmuKkdRzPQ0JiVNDPh5p9jymczH5ZfSJkt93PNNpzwaM91Hx3XTez6DR//keX6EgrmU/0xyuqyVP35STsrKeiyxW6lorKYiI4ibRwuIXzXuwNXz1tHQWEZeLBCbSVVjHQ2NdTTkzB/bMzJ0PpfEhfn8/+y9e1BUV7rw/Xvr5JxOjac67+t3Oqmc6k7lFODkA8y8XCaH0IdX6RihE5H2gjASYSSBiANjDGg8QnTwkqCRQgNHDYwYMJhGzRGDJxiTgMSAjuHyZQQqGaHGEmpSsSd5j/2N89rf5NT+/uhu6Mvuy4bGS2b9qqiY3Xuv6/M861lrr2ftd/8cw4uvNWFuqeKXT1h5N99EakmbVzC77ctDFC8t4fLsDDbWNmF81HG9v5qslBz2jWp4prQec0s9W5ZrGanJISW7mj7Xye/pIlbkNzP22FrqWppo3JqG6nwFxlXVDNoA1OgLmzAfyEMP6NdV2cvd0sQvA63yWqx01ppYcdSKobQec9NOVkeMUldkJNPNEbfQXmogq2aUB5dvobGlicbaPEd9YtjY4N5OAbH8kc59meS8ZyU+r8rl2XHaSwwk55/gxuNr2dnShLl+PXF/PkHBAgMbTns68za+6awkM7mCy7Of49WWJsz1mzCouijPNJBVO+AxCFrp3mUkNrOaEc1ytjQ50qeNDc8ayK0f9h40bw5hLjVSPqjBVFqP+dkweDQDc0sTO1YCLGSHU1ZaMogIWPkw9Isi4cgFLrvOf/rOcRKAs3T3uVqBYfrfA40xgWjXZL4+QfmCIrofWs6Olibqts3j/s5qTAtK6PDhCE1mNor5Jb29nZ9Y75Cr5ejGmylYkEl5p7fi/5++A2SuOMS1ON86FBDbADWrcyg/r2Lp1nrMLVW8+Ng4h3OM9knCVPP0WZ/95D5povwjh9yoEjCsgcHOATddHbv0Pt0AQ8fpcR2Evu6n4zwY/1eCXT4Vll+WoGXnj5zcbKD4koYl2+xyrb+/i+1LDZR/5CofkzpzPex5h86sJcLRlzWOAPxg7JtvwjC2NGF+bSEAWa81TdgYp01z0ldvYsVhC/F+7YlyWxoI2+g7FC8ooveRPOX64D9lLjfkk75lmDnFtY46DbA730TpqYu0lhoo7lSxpMxuS+JvnqV8aQ41/d7u9zfnFdiqmwPUZNtt7gPGV+w2d+tyHhytJivFJJO+3RbmvHAC20/y2NGyFn1QE7DgbaJdhjaRBbBykwKbpxxV4mJWa2zUnO7ycqBsPe9z2KIiKylGQdSPhfYyEwWN40TkVdnH3DQVHSWZ5HiNEyiwr8G233TtvsLy+8HaU4EpNod9o1p+5rBjv3wC2ksymZ93gEHPSUTQfkLwaBa9xs5l0LplcxDbZoP0CwLY1ohnZfwkBX6LLr2KPass1Lzq7qPZzldSfFBD8Vub0M8Kvg2CHd8m/MVLKp5y+otpKjq25JBS6vo2OHQyEqzfDCi0VcGNV5NV8uUruqNLfZ5czTgHT1+Uqec4J+ubsSQ/j9FnjLeTYP1ppfZWqa/qjaIx8+YwdQUGsracxfpYNjVNTZhfW0v4+C6Sny3j5LVA7eBR+t9Wk7O0kg5VmsPG2fssd3F+cNvebUOYXzJQ/IWWn/v1Z3zbp44tOaQUNDjmPY5kFcylpoUkSZIk9UtvaiMk7d5+aYK+1yWtNkLSxrwgnRyT3Lh24gVJq42WdnXfcrl6XTq5JkLSrjkmXZc8+MMxKV8bIeW3jHn+It3qe11K10ZLZWdvuN2r1b4gvet5+61+6c2UCCn1jQvSDc+Exo5JRTERUnrdkHt5XjgmXXO9b3C/lKqNmMzPtXytXiWXrre+IGm1L0gn/zB5rXdvhKTVRkgx6zzSlsbsecb8SvrM2TTO/Dpuud0p/f4dKUcbIRW1eefpC2e+cvV3ltOrzaRbUu/eVEkb87L0ybeOS86+1aZKb/bdkr9fm+z2242zL0sx2mipqNWrUxz3p0pvDU6Uxt4OPvp8si6vS73BVt7J4H4pVRstvdnnmla0pF3zjvTujghJu+OcdMvt3ghp26eOKxOyJVNvx705LuWV6/vLdak+2m1MOrku2r3v/ejQjfZfyOiQHxxp7brklor0wcsRkjZlv3TZ475g8wxcn0m5uXH2ZY/2sPdzzN53pLd/FiFlNo9M5nX2ZUmrTZfe/b3C8geBb9mZlLv0vf2Se42GpLdSIiTtqncmdbbvdSlGGyHln/BoqL/Y7Yz2Xz900TM/9i0YHPV3lVv3+sjZE0f7uMqUElsaCD/6cOvS6x76IDNGTCDTNhNy+Cvpsz+53jsivbvKXl/tqkPSlb+4/PSnC9KuFB/pBG2rbkm9e5Mlbcrr0mfeg4RdphfL6Ivs/f5RZhMlyX8bBktwcnj5QLKk1f5C+uBb16u3pM8qoxXr24TMeeiJPY+XpU9uuN8XrH1V1H4hsPsByx+Ibz+UymLk9NSpe67+h0I/IRCePspEWd53kQNv+VLkF0gBxmVffpKz32XydR07nWVOfeOCva/+dE7a5vr/waBofHPoSsrrUu+f3O+93vYLSatNnpSvUMmIIr9Zua0Kdrzy5yvKjUXy9sIu16lK/BRJ8utP+7e3fuYhQdt/GfuocMyc8IkueRbwlnSl6QVHeYL3XWV16tv3pVJthJTqYi+8dcaPP+McK139mSDs04T9VTSXmh4Bv5MZXbgek8dBZrrEhRix0X81uK1ulktnaSeNJUlqrFar258tfDFLnrbR2HnRfdV1zXMs8TxAbehDDg+FscQQCR7pWNXzWbIM+t7rcqwUqVD/D6DvLB3945MrHVGFtI/9jh1PTzceRcua/AyPgxO06FPngWWAMY8VCvXfe6wbP6wlHLD9l9J8I8ldnuCxImWh+0wXrFrMU2qPdrHaiFiQgcHSRkef+6qHpmgrBbGe69kq4tZspVgzzu5258qWhY5/b8MStZYXvU61UxG3ZhMFjMocNpFNbqhPwYtK4BmNjQ/6nKvAw/S129AnJfDME2nw3oWJlcKxLy8wSDaGJzzquGItuZ71jkrgGQ10XPG3jWmAzgOj8s+jxbSrm6Fza5nr8Ut0gbcOqeNSMCnQIVQPEA30dLQxMvE2QI2x6neMnSl0f1MbdJ4B6vPSJvSWNszn7eu96ugEjHTR69xvbh2g9zQsiV1OXLKW7vP9EyvDV75og6QM9M63dQrLPz0W8uIqzzc1kSQuUkHnCNecHRy1lnNDvRMnNdqcOvPnMKKSgSP9XAlpufwhZ0/UxCe725Mp2dJArFrv1f+qn6bwDIH0ITD60uc83lCEoU9PACB31XLCXeNvZiXw1ALg9Ciei8XB26phehrHiVuWwlw8baEaw7PLod/jrTugz8lAr2hImKpNvD1Epz6PnrN0XHKRBGsX7bU2ok3zlOnbrAd4EOg930bf15PSEL2mg7GxKgye7RaUfVXYftOx+0rL7wPL+eM0WuT0FFSx69mwBvoOvO+xBVqZnxA0sxeycVdagG2zU/MLZozZC3l1Xzbf7NvMvs8tdO8tok6Xx47CBMVnaQY3vmkw7upl6Nh64mYBtsn6qyKexMg4vSOOtguRjEw8F5TfrNBWKR6v5HxFH+VNfR4DZzF/7OqPWOlobmAwdi3PJIY2VlCpvQ3e/nujbMx08Yl+6llAFeGr1vNqwDe6Hk/9SAt08cmZUazObaiz03hj7He050cGkUIav1zt4c/MSuApI27+jH/7tImWoV5qFjjO7FU0l5oeAUNsEx+TOWb94XDmArstwRmna1e7ACh4os33TYtuuAmJ/p+0XobHMjaKhVG2p8ez3WdCznTUGDa1sON/51OebqBco0GfvBDT0xk8lRyJZto6M48omSOwNLowoAvLd8CjQNQ8lsRWc3BPJXN3Po/+QRXYxumoqaSOGN74idKDmmPQPex5bZyx0wAlxB7x/aTxz+5qGP9YmLxxV4Ux55+BoXGuAzpn+uti5J0TVRhzU6HuyxEsxEwePZ0UziMhj2OOJHYZ7O4cYCw/Et3VATqGIjElhqFWJWC0bKOnfxNxsVau9F2EVc8x16MM+rhIGcOrRffPwPh1rPg4PvvrES5bwJgYI2+4VWrk4rYTo2R0SKNlDtAapA4RVUhd/TgbNpeQXFuCLjYBgzEN44IU2VMqg8ozUH0eDSMWqLk6Dmjg4VgMSbDh0gCvPj0PvrhAI9mYn1ARPWshmm1n6d6SgenhYfo+huhlMZPGTmH5p0XSk0TLbL95SJcAjNt182FApYarx9m9ay8nP7Lc4VOxfdiTf3S3J1OxpYHQR4fJ68Mi/OtDEETpvBeZ7r9PBWh55B9l+v1v5dMJ2lY5ZLpvWyZR23yXy+bRQHLl9M8UbeLt4tF5mJJhw6kP2ZiagQaw9rxPIzG8kRqMY+OCeiEb/2MT139RiemJajQ/juSp5AwMpnkYorzH6eDsq9L2m4bdV1h+X9h1L484WSdTxSOPJYBllLGvIW5ijA7ST5gC6qe3smfVWXK3bOaZuHqMIfILZhJV0ibq13VhWqqnhjA2nnJMABUS7Jiq+pGN3l9v5o3ms/Rd9X7E6PxHiGRkonzB+M1KbZXi8UrOV/TBo8spKKokq/IQ3elb0auAoWbeOgZZ9dkhXgRWbm+D91W9UTRmBvKJCCMqCQgYnzpJ9Oom6r4uoizfSA1q4hbN45nUDAxJCYQHE5aRFEuETGEeeXQerv6Mf/sEKrV6og2VzaWmR8BJ5n+fFapZQjaNQ+uJ9/m7yq1T1bN8OZ4JvPFxLc/4VB6XdNQx5B7oJWvnKINf9DPY04V5p4kNmyN59e0WCh6fTt1U3B/U45EUvLaeD1KrKUhumLz8aAwbj9aSpXiA8ZNvUT1DhTF+Hr3Npwk+8HfcH/JEVcx9Ig0O9nPFmg09x+mOSqH8UYD5PLOojLf6himOstB9BIy13sbCt2zNDKHSIV3qTswLtjD21QCDQ+foPrOX4p1l3L+iilNVaW6ObOj01pUwopO18N4wV0jgxqfNsKrW7szFprBak0nvoBWTbYCOIRXPvObuzCop/7QIVu6GDpCTWs21xAw2NqURoQsj4kF7u/UeiCe3NlQFCoZg7QkotaWBmEl98C2HYTyo5OAZhRh3tbJnkW9HRvUj9/+fGX25k2h5ZuVCNuSf4JNXMsh61Er3R2cheevk7gIFqB/Po+58NtaRYXqHBuj+9B22p1ZQlriepqZCol2ab2bkaXp2X0n5Q13u4PVaKWoMpVXknimibFcb8Xt9yPvd5hf8rUuDTPEk0eD01UrHFgO5R1QYy6owPx7GI9FaHgD4uo3SBRVud4dSRpTYk6BtleLxSonsqdAvWkt0bTWtnevRp6roPr2fvqg8Xp2BT2rcfnsb2jFTEfdpMW5pxVgyzuAXAwz2nKO9Jp/tRSqy6tt5IzWA5zMjfjQomktNg4DbZUOBfcY9zPXv1KjVnn8OYfubwEKn0YWhYYBr36pk0lG7r3R8b7O/+rWBanYYcckZ5JbV0nqmngKG2W72PhRhRrg5QM3maq4t20nPUC9Djr+R8y0UJ4XKrXa8dRga54ZMuzibWPU37k/1fuljK5xtlN/9BojS8qBr+h8PyL8+vzlK7xnQPBZ+W1bs1XHzyaKN7i9G6Ts/7LL9S0NcUiSDnQOMDF3gJJEYFL8p9sPD4czVQHuPjxPnbFasVgvWGVgYtjm2OHGfCl1UAsYVm9jR0M2pXTGMHavmpIKVtQkC1WdkmH7A+OjkABidmEH00IcMjtgP18hyHuzjeNPQeGmAsS/O0c1yYl1W1Gak/NNksHM/fUSycddOspITiAvXOHTGwvUvbn95giFUtnTKfGORkZVxxn4zc1mCAlvlkOneMSsqOVvotIHTPib/7rKJcqifSCGLAdovjcPVNszHpvhtzJuOrWWoUIfHYEjP49WqdjqPZkNPNeZPpzKSKm+/Kdv9EJXfrntn6ZO1VTaufHERNGHBvz0KBY4tqPZtsyMeP07NL5hJbJ9XU75nnIKjHTSuGmf3qyE8YMQTSxcnj9hgTRU1a9LQJ0aic/qK10dod713RmQ8AApt1YyPV1HLeXERmI+2MXb1BHW1Ngx5zxF3F6y/Be+reqNozAzkEzHK0HklJXfMQ24Cs7REJ6aRVVpF48etvJFsxbz3REi2pEIg++Twwb6zt6KiudQ0CeEk0xED+fs/8o3HL5onFmJkgN17j3udfDh2qoj5UXoOfhGEZx6VwuooGzW7vA2Trb+SzKh4is84NhFYz7I9Kp75e7rchXOWhoceBP5sm7zu2I8/dj3UG+asdOzKYXd/mH2f9Ax1ImjsMR6dlew+5RnjN07rK3qi5lfT6xH/aamtoE7mpMW+gxXUWFQUJztjJTQYlqahGdrPW17p2+j7dSWNhLFmgZ/VUg/s+9Qt3JiK7Z6dgH4RnGzfT/dpFc88MfnGTPeTFKLPH2d3/VksUSlET3ErkjwxJBeGwbH9NH7uWXBnO+/nciizdHDlqImoqBzMHlt+HpitASxTiO0Ft/p4ycE4rbXVdGvSyHJdDIlK4BnNMB0N7/CBZR76nzjXupxvGt5h+5kuWPWk2zblUJZ/WrIjg83juG7rmf3s9hpIfNu3oHDEpH7z7fQKHTJbqpgwolYBZz6k1+PE2bFT+zk8w3uNg7dVkSTmauXvvzlAzcp4oorauD7tEoXeJoYcxzczOxraaL/0Ph2kYUxUvjZtPb+ZqCg9u8+7t6dq9oM8BNzw3HscFFNovyna/VCVX5OUYT+Fs95b92z91bx5GOIKFxMXVGqhQ5W0iZo10LplG4fdflHuF4Tatrpxs4vdLzbwzZpaNiZp7W9hxxrY/mulp7cqxDPxm8M01je7XZoZGQ/E1GxVcOPVVNBgXJWNpvMQ5VsO0aHJpuDZKZypMQP+dPD23xtlY6Y/H8/GyJFqtitaEB/FvCKeqMJmj7w1PKABrt9Skphf3OyTh4xMzI8+dvSJkrnUNAnhZ0/VRPzPGDiynzd2/QO5STpUD0ba460ezuDVA11kFpaR/vVF1qxcTJTGysjpd3jryACPlLawLpjAYlUMBa8V0v3CAUypwxQUZ2DQqrF8/g77Gru4sWwnp1Y4lGJ2GrnbDvHJlnySx/PYuGI+GsboP7aL3UMqckvmTa4wqyOJTobGAxXsfnAteo2Khx4Lcr+0/wLz4D9FomGA7alzeffphRiTEoj/sQ7V/RrmRoXJxvBNBU36Vuo+NVFQZMTSk0dW6pNobMO0H91PY6eWjac22ffZu5BbOo9P0vVcXrOeJclhqK2jdJyqpu60lTiPPlE/vZ49q4fJdUvfeb8NU1UruQoCoiOi5qGhmTcrorAti0T991riHw829sG+cm15pQ0z2Zhd842ax5KoarafhugyhQdcBEF0Ti1vDJnYsNRA76q1ZC2KRGW5QPvRBsw98u0cknxXbCK3uYgNS030FT+P6ccarF8dp7HmLMSuJ/nxKaa7sopXL2Sy3UUOXOtT3LLV43t6jtiog22QtNUl9gjU/5xCLkU0noasevcDB0JZ/unJjkuZktcSt6ua8tU5WEufJ1ZjZazzOG++p2L1ugR273O92499C4bwGJI1UFO7mYj/eo5wtYo5cTHKY8NDZUsVo0afVUjckQPkrrbxal6GPd9Th9j35TxWr+lit4JPnioleFulIu6FKjb25LDbTabPcbKmmdbv5lHzb9nK3+bJEGqbGHoc38w8WE1BCWiK1is83MiOOnUtOxK7KF+pZ6z0FbJ+qgPLOcx7GhjUpLEhcWrvapW339TsfsjKP3shL+7KYDDPXffGOo/z5sGL3Fq2lVM5CuNdQ4IK/Uu1FLxn/z6hK0r9glDZVm+sdOwsoo5szC/Ns6fneAv75MoS9iW2s/GnIbZbmnksWaWi9XARubb15KZPjtVXEvPI7WyYmMDNlIz7R5mtUjZeTbFEiRmsS26jvNNKdFmGos/KTDAD/rQSX9ULhWNmdE4VOy5kUr5UT/dKD7v0hxQKlqmoey/YkkeS9UoGb+dUkJ7Zz7rVGYSrLfZx8xjEbUkJnY86eyEba7MZzCwjffBk1GRFAAAgAElEQVQsq4ufm5SRgxe55To/UjKXmiYhnGSCbkUVjVdK2N5SZt8fXtrC2Dr7SqRuUS1nItporDvEuxX5jFhAF7uQn9W3U5DqI6hXBlXseswfPklj9X5O1pRQdxU0P47hmeImNq72cGxXt/LhjxvY9+tDbMtpwIKK8KcXsuPfN3mcHKUl67VarmypwFyUTw2w8dTvKA7BJDN6xVY2fpHPhj41D90apnVLGzUTv4eR21DPjqdD0ZlajFUddD69n7cOn2BbzgEsqIlbsZy6zvUYw71b+KGkTWxMjaKxbj/bM0cZc7ZPyyZyvYyqFsO2VnqSm3nryCH39D9ei/HHyrwXVeImmrZZKG+opOAYsGgn/Qcygt5apvtJCtEMM7hmPvFuVYskzqiCIdxWukOGKoysvd3Ep+7nrQP7KThiBY0GffJaGi/kYdDO0N6S2QvZ8R+t6A/v562GErKuAo+GkZVbRecLacicLREcsyIpaOgg8dQhGhuqKThor48hdT3m2jz0Xh3ifGPZhn5Rgruzro4hfhE0nnZ9wxn68k9XdiaIKqTp439g3669HC7KZzdq4lY8T83HhTxyPp/dHrf7s2+BC53AuiObsGzeT3n+WWAeNZfqMU1ha12obKlSVI+vp+k/HmT33v0cLDqLRaPBlLuJY1vSuPHrAzOUK4CKh5IV2KpZMRQ3dxB7pJLGVneZbi3NIy5ksaChtYkzgSoxgzVRzWwfUvptTFciyW3uIPxIJXXN28jdY3O056Zptqfy9pua3Q9d+XVP76TlwkLM+/fztpvutZKbKnfg0W1i1jw2vpVHz9IGj+13yvyCkNlWD8ZOlVB6REPxv7t/D9P+FvYEWS9Woj+/dWqTGp+oMWzrwPxIBW80V1Jw1O4rLilupSXdSt2eBpe3hDMl4wFQYqsUjldTI5K4JA10JvDLFVP1n0LvTyvzVb1RNGaqIslt6CDu2H7ebG6m+OgBe58se4XOXRk80HldwSQT1Mk7OfNxAo11+3krP4cx7Hmvrq+iIFXmgKhpoE7cSmt/Co3V1bxdkc9uC+hiEzBWtbBuhXucupK51HT4b5IkSSFKS+CFje5d8WT1ZNN6dJPbKWq27wZofCmT7YOFtPevD/kbN7/0V6JLb7ArfuztzFggEAgEAoFAcNdxs4vtSfmczGziwivKPy0TcoSves9zWw7++etlnJEeG4RHEeGxQqeaHUl4SOMFBQKBQCAQCAQC5Yz9x37qLDFszLwLJpiCHwQh3S4r8CSMuEVhsK2EVMs5fr5sMVEaFVhH6Ti9n5OnVJhqM27vW0yBQCAQCAQCgcCJbYDWhgE0a+pZIl6ACEKEmGTOMNH57fRHNbDvyPsTe8FxfJB1XZD7yQUCgUAgEAgEgpnA2nmI3UNaXq2aJ95iCkKGiMkUCAQCgUAgEAgEAkHIEDGZAoFAIBAIBAKBQCAIGWKSKRAIBAKBQCAQCASCkCEmmQKBQCAQCAQCgUAgCBlikikQCAQCgUAgEAgEgpAhJpkCgUAgEAgEAoFAIAgZYpIpEAgEAoFAIBAIBIKQISaZAoFAIBAIBAKBQCAIGWKSKRAIBAKBQCAQCASCkCEmmQKBQCAQCAQCgUAgCBlikikQCAQCgUAgEAgEgpAhJpkCgUAgEAgEAoFAIAgZ7pNMy0UaN2eSHDsHnW4Oiek5bD81jNXX09ZROg6XkLtgLjrdHHS6eEyFJTT2WORv/6qNmsJ4dLpK+kKQXjD07ZvjSMv/X8Epi8v9PsonmDmGGsiKnUvWwQFsd7osdyvfnaU8aQ6JJW1MXSOUMEBN7Bx0JW2+bcAPja+PU+BiD+51rJ8foNhhT38IdRo8bCI21kTdb++glbjHZUSMcTPBADW6Oej2DQR3e38lOt0cavpntlQCF+6ZNrcycqaSDenxdv80Vk9WyQG6gzU331voO+XyvG4uyZlF1Jzx48vD1P3vGfDbZZmC/3Mv2bq7YmybAe6b+Nf4cYoXl9E6K4GNW+uJ1VgZ+/gddheZaO+r5cy2hahdHrSNNFO6ooJWNJiWbaJuWxgqywU63mumPLONk6trqdm2EB0AVjq2Gcit9y3iytILnohnmzD/1OXC6DtkbT5L1mtNmMImLz/wT2qvZwW3Exu3LDau/cGCDVDd6eLcrdyEsRELNwDNTOd1dZhuC2Q9PQ+hHfcg1rPsXlpN99N51JTNJ/yxH0Avfm/DYhnn2rfCSggEgh8aNvr2ZWLaM45+5XrqXolEZblAe0M1WSkfsuNIK7lRfh7/rovdq/Op6VdjWJVNzUtPorGN0nF6P4fzTRx+ej1NNYVEz/LIdYr+90z57T65nf7P7eaHOrZJkiRJ0g3pg5cjJG3K61LvnyQ3rjWvkLTaZOmtQZeLf7og7UqJkLSLN0ufjEke3JKuNL8gxWgjpJzmEcmZ/rVL/dKV6zekz96IkLTa16VeaTrpTYO+1yWtNkJ6s0/+5969MuW7q+iX3tRGSPmt1+90QULPn25It+50Ge52bt2Qbv3l9mR1vfUFSRvzK+mzv6ZO+cMxKf+Hol8/pLq4cOvGHRbIe7xd7/4x7l7EPi5r9/YHd3sAP0QwVfz4R/dCmw/ul1K1EVL+CQ9H+E/npG0xEZL2Xz+Ubvh8eEw6uSZC0saskN4a9LaRNz79lZSujZBidpxz97Om6n/PkN/euzdC0q45JslaVzn/x2GP5fr1XrN1d3xsmwHs22WtF+k+BvqcDOI8Vjh0iYvRM07vyOQL6pFjFdQMadm4dQsGree0VUX4yir2rFLR8Uo17d8BqNH9NIZwjZr7/9Z7oqs8vb9ibFb+806XYaaYpf4hrd/MDCo1qvsC3zZ9rFz+TRfRBRnoRacI7iJUaiGQAoFAhnvcPxrsOc4g2eQu8nCEZyVgWAYc6eeKj2etnQfYdhqMW2spiPK2keqkrezYEoblYAWNQ5PXp+p/z4zfbuPWn/z8LOf/2P6/H0w4zw9xbLNPMtXz2DjUS92yMO87VH/nsVVumI6WUUh+HlOsrwZRY1iejYazdPcF6v5QpxcqbIycqZyIZ4pdkMn2U6Oy8YLWr9qoKTG5xLIGsf9dLp3PGyjP0xPr3NdeUknHuPNXC62Fc9CF51MHtBfpveJJ7TEHc6n5LVi/Os72QiOJunxav57Iwb7XP9M9j/av5Etq6WmgvNBIonNff57MPnuXPMc6Xdsrn5ozjvb63kL3wSJMSS7pfO6RjkycU9++OehiqxnExsipiok9/777wiOWwesvyL35N0dp3+csrz2/8mMD8v1puUjj5hz3ew9fxPK9+22TdbEycqqCgvR4dIXHsTjjHnd2ycrW4EEDOl2Rw0j7ifuxDnuU2cSGfW2MyBX6ewvdh0vsZXDEfORubvCK+YhY0kTNisiptYssDhl+qQ0LFvoOTqaVmF5EnYdMWE7lo3OTXxc842sc8lN82oL1t82U5zjqlmTvD3sZrW5yZNdTeZ0G4DvPGHV/eh2kbrmUE8tF6hx2I/g4Ifl4nY5x91r07ZuD7oky2nGxFYXHA8eyhLod5eL8PWTG3s8mzFdlnv+ujQ26ORgPDrvcKycTCmybXL92jnvfFwyOtBIn8jxAn5xDFaSdcI47G9x0s5lBpYOJnI7vPC5vDxwoG8fk5FCmve/EmASK+lhRvWX60e+5FUFgG2mjpsR3nWznK4jVzWHDGR+5XG0m19/vroRqvHYShH6Dv/HPiTI5kClIYP/IBdtIGzVFjrycunFTJtVg5M3Vpn93kbqJvvRjD3wQvbKVoaFNMgu7Ku7/e39PWun96DgWTTa5qb43kkYvysPIOCd7hh1Xpup/h95vt9v2uWQdBE6XOeTAddzy9H8c/59UQTewO33S1ws4nt5me+zft3etv6ttVOYvudfNXSfl66akHaaO4+AfFWq1GrlJtG1kmHa0xIc7BNcyyuUhiE6K8b/POupJlgCNw6P+SxDq9EJEX72JFYctxJfWY27ayeqIUeqKjGTWD7vdN3a6iNQFJbz75xhefK0Jc0sVv3zCyrv5JlJL2hgLMj/bb6vJWVpJhyqNLU1NmOvXEjHeTO7ifNq/BlCjL2zCfCAPPaBfV4W5pQlzSxO/fMItWpZvOivJeeEEtp/ksaNlLfrZAOO0lxhIzj/BjcfXsrOlCXP9euL+fIKCBQY2nB53S6Ov1kRKZjXdfzOPjU1NmJu2sFTVRXmmwW5M3UvP5YZ80rcMM6e41tFeA+zON1F66iKtpQaKO1UsKbPnGX/zLOVLc6jpDyLA2WKls9bEiqNWDH77wsZgbaa9fk+sp66lCXP9JrISVYCG3Kp6zC0ZRATOkPYyEwWN40TkVWFuqWdLmoqOkkxyat0PJbL1V5OVksO+UQ3PlNbb712uZaQmh5Tsavo8By3LH+ncl0nOe1bi86owFz6JmhiSC7Rw8H26vQzXMD2t42iKnsMw23eJbVebKZ5vouCElbhiR5mXhzHWWELyqjI6XB3ymwPUZBvIqhnlAeMrNLY00bh1OQ+OVpOVYnLpEzW6nyYQPpFv8O0SENsQ5pcMFH+h5efb7P2kv7+L7UsNlH80vUUky8ebyfn5cWzJWzG3VLEj0cYHW3LIqe2ie18myXtGiXfI6M/+8aJDRmWczyuHKF6QT/t/JbCuqglz005+/tg4h2X1WoluOZrgy0MULy3h8uwMNtY2YXw0iMrZRjG/pHeT8caty9GN7yf3SRPlH03mE/GsjK0ofDLo2NpQtKO1pwJTbA77RrX8bGu9wzZCe0km8/MOMOjQD03SYrIYpvGjYa9yWC99iJkYclMjvX6bREH72waoWZ1D+XkVSx1levGxcQ7nGGXsWgC+PkH5giK6H1rOjpYm6rbN4/7OakwLSuhwcSwn7MQlFU857USaio4tOaSUuh9iYTldxIr8ZsYeW+vo3zRU5yswrqpmMFgluzlMXYGBrC1nsT6WTU1TE+bX1hI+vovkZ8s4ec37EUXjmE85bKZgQSblnd7jw20dkxT0sZJ624YOkJuSQ/kZKxHZO2lsaWJnQSRje0ykbjmBTLMG5JvzlWQmV3B59nO86hizDI46ZTnsqiopgzWxYD4q50/Y6G6ppEOTjSk5WO0OzXgdrH5PIDv+wVTspzfB+kfwf/oOkLniENfiNlHTUk9NbhhXDpaRvPIAgy5tpMwHAtvoOxQvKKL3kTy/9sAvs9SoZd9mjXLlN8CqWB8+zChDZ4DUJ5nr72XYw7EYkmCwf8hud6bqf8+A365+Yi3mliqKk4CkPLsP53fcCsPY0oT5tYUAZL3WNNHn/sZTJX5bKOxxYN8+UALB+0u+dLJjSw4pBQ1uZVbsv04V/7tpR6R3V0VI2lXvSNecl4KOR3HEKHjs//baIz3N9BQTVExmhBSz7thknSVJmohbdY1Rc5a9xWtDunSr73UpXRstlZ31vYPeO1+PvePfvi+VaiOk1LqhyWv+2stRN23K69JnHtleb31B0mpfkN6V2TvfuzdV0sa8LH3yrXseqW9c8Gjr647Y3f3SZc88Y34lfeYWz+uQHW2EpF11SLriuo/euZffdd+9TL1894Uz9sClL258KJVpI6TMJo/9/7cuSLtiIqSYmiBjZZzl8IiJuHwgWdJqX5Y+cbbrrX7pzRR7G3n18NgxqSgmQkp36TdnXWTv//07UqY2Qiptd//lVvevpBhttIusysX9DElvLY6QtIu946md5YipdPbjLal3b7KsfEjSmHRyXbSkXezSt1NpF79ct/ebNkJK39svHxfiYmucMnvyDzJJeeqxo3xa7Qrp3d+73nhL+mxH9ISMupfTKUfe9kirjZaKWr31+lqrPc7EVU6nolvy9/vncl2qpNWmSm/2eVpAR9+55uOSl6LYwVC147cfSmUxcrrrtI2u+nFL+myHh11xpPvuKnc7IScTitrfITe7Lrned8Pbrvljoo1k+sIRU5UzMSY4ZF7mvIPrbb/wOO/Ace8LHm3mSDPYsWRCTi553n9LutL0gr0P5cbgIMexwHLoYpfv4JgUsI8V1dvFzno2659GpLcddk1pTKZ8Ozrqr02e+O1Gu6esuNchR6YOfvOd7nitSL/9j3+K5CAQwfhHMS9IJz3ysrdvtLSr+5ZbOkHJmx97cOvS6x72YGrc+tTuC2z71Jf3G2xMsMPG/Mwxzk7V/54xv91RPtmYTB919OPTe/nVivy20NjjYH1777FNmb8UjE5OyKFC/3U6+P1O5tjRzWzoDGNj6fLQnQ51T6BlTX6GR53VxCfPA8sAY47VB8uls7STxpIkNVar1e3PFr6YJU/baOy8GNRWGtWPtEAXn5wZxep8VT07jTfGfkd7vr9VfG/0ORno3ZZ+LHSf6YJVi3lKbfUoq42IBRkYLG10OLc0aBazZ6iXluIEVIBt4l4VEXEJMNTPiMcKjL70OfRu8bxh6NMTAMhdtZxw1330sxJ4agFwejSI1V+5vtCiT3XvCyfqH3ks46k0PPIYWP4rYEaOsj3Ag0Dv+Tb6vp5c9ole08HYWBUGZ7sOfcjhoTCWGCLBo++t6vksWQZ973W5rIwCRJK7PMF7Ve7ReZiSwfxRl4us2Og9fwJL1FqSY/2Ut/99DvZDVuFar3hqtBnsOdfLuQn5GaancZy4ZSnMxVMO1BieXQ79x+kZ8sxEQbsERRq/XB3jHn87K4GnjEDnCNemc4L3mrUscVvFVKFfmG0va2GGRzm1xC1IAMuolxyRvImN6V6BJujSt7IxGdpbzjreKijUrYlyPscS7+T9MEDngVFYsZZcr+1JWkwvbUJvacN8PkTHxk+zHS3nj9NokdNdUMWuZ8Ma6DvwvmP7uor45Gw0Qx6yd7WL9k7ISk/xc5KgwvZXPUA00NPRxsjE2wU1xqrfMXamkGglbSTXF1EJPKOBjivO7cMajLt6GTq23q6ftsnyqSKexOh23oEK9f8A+s7S0T8+uTsgqpD2sd+x4+lglMxFTn7qeb+K8FXredXjdEpl41gAOdzVzdC5tcz1+OW2jklB9rGiervaWc9mnRVGbtF6ZbLjQFO0lQKvdlQRt2YrxZpxdrdfxAaok5+jWDPOwdMX3XaNDJ46QLsmjdwFiozJtMdrZfrtRG78m6L9nAbRBesxeTSXOi4FEzb6rzremk7BB2LVei+dUP00hWdwtQdT4GYXu9c1w7LXWJP0w4vZu60o8ttCYY9D4dsH5y/518lNtAz1UrNAM4V2mB4+jxAZ+6iM4leGMdW2U/y4S/Xuux8VMHLdgt9DhJ0B2H8f4DCXUKcXEuYRFe59VfOPYUAXlu+AR+Ha1S4ACp5o853UohtBGZfo1U3UfV1EWb6RGtTELZrHM6kZGJJctywGR5TOc8AZZ+w0QAmxR3w/Z/yzo6T3qVDbBqirqODtY6MyW3TmBZEn3H+fCtDyyD/KKKPMAVDy+OgLnXtfoE7AsEpF7t5KGv9pE0vC1YCVy02b2X1eRXFRkBN19UI2/scmrv+iEtMT1Wh+HMlTyRkYTPMwRGknZM8yNoqFUbanx7PdZ2KefR+D7mG5+7Q8tWweFL1PR2kapocB20U6am1Eb5nn13mxlyMBfbS8wVOpXfTl6xEuW6BvWyZR23ynaZMT2CDbJSiSYomQKe4jj84Dxu19KttOgdH/k0xZ/sb+n7hHfcmoDHGRPhbWtETEAXvsxl2nUqhb/srpD0ffGRNj5LcOPRpGLFBzdZxQHO4+3Xa028Y84mSP21fxyGOTk9K4h0GVuJjVmmYOfjxAQVQMAGM9x+kgjcZEf4O5wvaPKqSufpwNm0tIri1BF5uAwZiGcUEK+nBln3jRx0XK9IUW3T8D49exYu8J1Y9s9P56M280n6VPJu7UOPEvNYZNLez43/mUpxso12jQJy/E9HQGTyVHoglGYALJCWFEJQEuk3lF41ig9FXyYTe3dUwKso+V1DuQnSU8kkRQ7JTFPxYmbwdUYcz5Z2BonOuATpXAzzbFUFNSzcnMFrIeBb47i7lunOiCWr/hFHJMd7xWqt925Ma/qdnP6ZAYJXP2iEbLHKDV4pjMTsEH0keHyduDRbjZA0XcHKauuIg6XR6tO9P8P68BvrFgBT9hEVZu3QAe+Dvuh6n733el3x4YZX5bCOwxIfDtg/SX/Oukuy84Nf91ashOMq3nKyjOOw6lLezxXM3XhDE3ClrPDzCW78sRA4YucBLIjZRR6JlMLySouD9ojcimcWg98X7SCsp1uU+LcUsrxpJxBr8YYLDnHO01+WwvUpFV384bfoK5Pfnvs3wUvqieocIY3w+qHCX97izlKUU0zkrg1fqtROm0zNXZf7t+uojkVxTkSRgPKhwAPQoVZF+oMZRWkXWkiPL0s5Q7L2s0ZFW1si4xeBOnfjyPuvPZWEeG6R0aoPvTd9ieWkFZ4nqamgqJnkgqgTc+ruUZnxMiz773XRd7XFoJJ8+PY1qhxfrp+9QRwxtPK3uLHQzGXa3s8Ty9zrWUP5K/Hny7BMA5wM0A6lm+te2h/2sGvxMZrG458FfOu4Hb34722OTdde/TvSYGvWqY9qZhNEWbPN6A+UBB++tSd2JesIWxrwYYHDpH95m9FO8s4/4VVZyqCuDIuRBcH1rp2GIg94gKY1kV5sfDeCRaywMAX7dRuqDCI9EYcg/0krVzlMEv+hns6cK808SGzZG8+nYLBY/PlKsWonHMB7d7TAq+j4Ord4g/Kz8ldAueI4sSGs8Mk7UmkrGPD9FomUdNuvIxYubGa3/4GcsV2s/p4LvuLkzBBwq5Tb85irksk+3/TwI172/y3qnkRhhRqcCZC1zeutD3ifBf99NxHqK3RNl1YKr+913ptweLAr8tFPZ4ur79jPlLSv3XqeG1XXbsozJyVp7g/ldaaFkXI7P6EIkxLwY6D9Hq8+AWKx0nmrGwEL3X3pKZTu/2YV9JGOb6d2r7wUluf46W+5tgnAKb/TX1TWCWlujENLJKq2j8uJU3kq2Y956Y5mtrx2ra0Dg3vMo5ufKscrypsPQcp9ECBa/VU5CagD5KO1Gnb35/cVolmTnGad1Wgjm2kNYvehkasv+NXOrmjRU+VovluOnYLoUKdXgMhvQ8Xq1qp/NoNvRUY/7UvtKp0YWhYYBr36pk+n4Kq3azF2JaAx2nuxjDSveZNli0nKcCHAhjL8dFun0cd2azWrF+Z7WvSD0czlwN9I5ZUcnJgaP/ZZeegmyX0DPKdZlDEyxjM3wAWN+wj0O7xrnSBySF84gKlOrWlHH0XXuPj9N8R4bpB4wybxnvBHbbeJY+ua3X2LjyxUXQhLm92YhOfR695QTdfTYY6uLkkIrVTycE0CVl7W9zbMPjPhW6qASMKzaxo6GbU7tiGDtWzUnZ8k4DSxcnj9hgTRU1a9LQJ0aic9qI6yO0u977vWMcsIFqdhhxyRnkltXSeqaeAobZbu4KHHoRSE4YZei8+xVF41ig9G1WrFYL1oBL4DM3JgXbx0rqHcjOMjJMT6Aqy9D7pY9tlLZRfvcbIErLg85rsxeSVaplsO443d9d5N3KATRFz2Oc4q6P6TAV/ZbnNtlPhdxxH+jmMHXFJjb0zaPu/Xqv7b3eqNEvykZjaabxjO8lkcHTDbSjZUmic2Fiqv73vem3K/LbQmGPZ9y3n8S/Tjp9QUcQR6j9Vz+4TDKtDNZnkp73IRFVrTQWyU0w7eieXU9x1Di7K7Z5HcMLNkaOllB6xIZh13qMQayKTSm9m9aQvMqdDponFmJkgN17j3s5pGOnipgfpefgF8GUchTziniiCps90tHwgAa4fmvykiM2buy6krVVjT2GsbOS3V4naY7T+oqeqPnV9HrELdo8jjG2DTVQd1BBtreRkcP5FL9nI7fweeJmuyiLwm9KWs9vJipKz+7z7v2mmv0gDwE3nHtJo1JYHWWjZpf3KVy2/koyo+Ip9mPsvXHEpXUep/vzLjqOBYpFcxC72H7y4IH9eIWtjB+ndH488ydO4Y0kMVeLpbaCOs+B4eYANSvjiSpq47pMNkG3SwjRhMcSzTgf9HicOnpzAHNDV8jzc0NWV2DsVAW7O8FgmudYvZ2abiknhuTCMDi2n0avQX2c1tpqujVpZCVNf6tsKNAkZZCrGedgvbdttPVX8+ZhiCtcTJzrD4/Ow5Rso6bzIn3njzMYKB7ZnpOi9r9y1ERUVI7X51IemK0BLNim3U8+8Oyym8M01je7X7OeZXtUPPP3eHzOaJaGhx4E/mwLYsxzkZPPPQ2CjZEj1Wz3cEKUjWP+0ne2934uByznzI1Jwfaxonr7s7M3R2msrZ6Ssyhri7HRd7CCGouK4mTXRRYVcenPY7A0U/dSNTWWGDZmBlqEmRmmpN/yKYXWfk7JP/LNHfGBxtsoX2ni4M1szKdqMfqaYF49S93Batq/ssuPKvF5tiyC9ooi6oZkPvB2voLybaNo1mwl12VL5VT9+VDPA+w44iB//0e+CfoRewz2N98GsdCtxG8LiT1W4NtPEzed9JRbZ90+dtQt5P6rb+wuuG2U9p1FFBwexVBahUlrodfr21Ma5iY69pzPSmBd7VYsqyvIXXwO07K1PJMchspygY73mmnstBK3upYdK4N8Ra40va8aMC2o5NqqWs69tjAkr3SnxMMZvHqgi8zCMtK/vsialYuJ0lgZOf0Obx0Z4JHSliC3aUaS9UoGb+dUkJ7Zz7rVGYSrLYycOsS+YxC3JWUyLk8dSXQyNB6oYPeDa9FrVDz0WOC93Zr0rdR9aqKgyIilJ4+s1CfR2IZpP7qfxk4tG09NfptJk5hBrqaLxpJMbMXPY/qxGstv38dcN4y+NIOOPXLTkDvLA4/GEscojfnxdMQuxGh8kvjHw1Cj5pGfRKLzu9VkEnXqWnYkdlG+Us9Y6Stk/VQHlnOY9zQwqEljQ6LDiVfFUPBaId0vHMCUOkxBcQYGrRrL5++wr7GLG8t2cmqFsrdKzri03S9uxhIwFs1JJLn7tmgHT9oAACAASURBVHJ5aQWmZwfIzXsO40R/tdGty6O1yOmIqIh7oYqNPTnsTtdzec16liSHobKc42RNM63fzaPm37Jlt74E3S6hJGo5v1y2n4JtmeR+vYmsBfaymvc0o8rMw9jfEPo8HRjXZUOFkSynrjDG0JlmDh4dhmU72eHSt0p0azpEr6zi1QuZbHfruwu0H23A3KOluGWr4tisGWP2Ql7clcFgnrttHOs8zpsHL3Jr2VZO5Xhu83PGJheRr7ERXeg/HtmJkvaPXrGJ3OYiNiw10Vf8PKYfa7B+dZzGmrMQu57kx0PcDpp5LFmlovVwEbm29eSmR0702ZXEPHI7GyYXdWankbvtEJ9sySd5PI+NK+ajYYz+Y7vYPaQit2ReUFt5o3Oq2HEhk/KlerpXOttjlI5T1dT9IYWCZSrq3nN5QOE4Fp1TyxtDJjYsNdC7ai1ZiyLd5DBYeZ+pMSnoPlZU70hyX9tE96pKTPMvklWQjfFxHbbxDzlZ08z15AxMmuO0BtE/ruSWzuMTF31WWx39dNpKnJz/8Ggaufn7Ka0fgBVVPBPMp49mginptzwhtZ9T9I+8ynSHfCBrfzXFLxyg44E03iidD19epNvjngf+KYboh1WM9exne10M5tXOxtFi2lnP7wqL2J6qp3tVNkueduj+6f2cPGWBp9fT9NI8r0NkpuTPh3oeAICaiP8ZA0f288aufyA3SYfqwUj/8fLhMSRroKZ2MxH/9RzhahVz4mLkYyaV+G0hsccKfPvpMnshG2uzGcwsI33wLKuLnyPWTSdd6jYD/qtPJElyOYLZ35/HEbySJEk3RqRPGl6Wcp5yHG2vjZPS17wsvd3t+1hj2eN8lab3h/el0n+JkJ6sOOd9/G4ggvqEiY/y+Xj2xpfvS2++nC7Nj7G31ZOLfyG92T6i+FMr9nRSpSe1AdIZ+1DatjpRinHcN1GeAHWTpBvSlfbXpdIVzmfjpPSXX5c+uCJT0usXpLcmyhItzV/9K+nklVuOPFyOWfaTp79PUATzKRtlfXFd+qwyVdLGJEqZP5vsC62j/Dl1Q8H3x1+uS5+5ymFMopTzr4ekXrlj1K9fkN7+11VS+r84Prfy1AqprMH7WGi/dXHB/kkQ18+OuOLnmPIbQ9IHe3/hUo50qfTAOema52dNXOqXvzgucP1knguqXWTxdzy5D3n5y5j0iUu9nlz1svT2pesT8uL5CRN/R9cHJaOOdIrarjv6doWHXg/5sDlB6tZUPiviXmLpcuvrUqlH330ml9w0PmEy7XZ0cGvsnII2lCaOdvf+hIr/fBTZNg9d0f5LqlS6933pipyuyOG3XWVk/C/Xpc8O/MLNRmxrHZFuOfTZM53r3Yeksgn7Hi3NX+2QeUVcly63/Mpdx3cck67ccLahty1SNo452tsl/cyX90ufjHncfSfGJElS1MeK6v1tv/TujlUefTkk3XD2u6JPmERLb37hOe47+tuPD3Xj7MtSjNznTILONwTjtYNg9Tvw+KdADgIxJf9IZmwNVt6U2gM/OD/14u/Pns916YN1EVKMnLz95brU6zpGaKOl+SsC2F1JmpI/P63nfDImfbJjUqYm+8S3/3Nr8JBLfSf7xqfcBem3SVJo7HEwvr3PT5go8Zcm6uaqk6ukbS398n2voB2myn+TJEkKzXRVILhzjB3LJLFSTY1n/MLNUdp35lNwJIy6/nqMd8duQoFAIBAIFDKKOcfIBrbS0yS/60TwV4Cti+3hFTx0poMCH6eJCgR3A36/kykQ3BtYuTI4AA/GEu75hn9WGBH/990RdC4QCAS3g//8T6ishKsyn0wR3LvYet5hd6eK4jV/bd8uF7gxdIGTyc9jFBNMwV2OwmNRBIK7ETXxSWloDleTs6CfJQWLMWg1YBtj6KMTvH1kmLjSFgziLaZAIPgrYO9eqKiAr76Cw4fvdGkEocFC+5FmLMlb+ZmCT3IJfoDEbqK/6U4XQiAIjJhkCn4QqJ+u4tzH82msO8QnNSXUXQVQEZ44j5/Vt5KbGnlXfAxYIBAIZpqsLPjNbyA9/U6XRBAyhk7w1mnIqk8TbzEFAsE9gYjJFAgEAoFAIBAIBAJByBAxmQKBQCAQCAQCgUAgCBlikikQCAQCgUAgEAgEgpAhJpkCgUAgEAgEAoFAIAgZYpIpEAgEAoFAIBAIBIKQISaZAoFAIBAIBAKBQCAIGWKSKRAIBAKBQCAQCASCkCEmmQKBQCAQCAQCgUAgCBlikikQCAQCgUAgEAgEgpAhJpkCgUAgEAgEAoFAIAgZYpIpEAgEAoFAIBAIBIKQISaZAoFAIBAIBAKBQCAIGe6TTMtFGjdnkhw7B51uDonpOWw/NYzV19PWUToOl5C7YC463Rx0unhMhSU09ljkb/+qjZrCeHS6SvpCkN5M0rdvju9yejLUQFbsXLIODmCbyvPBIpPPXzsz0s63m5ujtO7MJFEXqC4D1OjmOHTD318+rV+PY86Zgy71AIMBsh87lolOZ6JxJAR16a9Ep5tDTX8I0rprsNBaOAdd4XFuvyW6x7nL5GHwsInYWBN1v52GBf36OAW6ORScmiFpmGL6llP5Dt2fmWIFg3f7eutOsDb7jth2Mcb6wErHlnh0SUW030H5+qtgpu3LneRerZtXue+ET3Bv+iH3Tfxr/DjFi8tonZXAxq31xGqsjH38DruLTLT31XJm20LULg/aRpopXVFBKxpMyzZRty0MleUCHe81U57ZxsnVtdRsW4gOACsd2wzk1vucripM727Dxi2LjWt/sGADVPd8PoLbyeDRfIoPqsjaVoXpx5FE+LwzDGNLE7EuV0ZO5VB+dCE7Wp4jfOKqijmztbBsHhQdp2eokOgoX2mO0t06AMlbMYT7ukcg+IHwvQ2LZZxr3woLOiPc8+0rxliffG+Dq6NctwIP3+nCCASCewHHJNNKe3UZrQ/m0freJuJmOX5NTEMfnkniK5WYMxdS4HRUb15kX1EFrboMGv9tJwatM7kEDOlr+fnRIla8UkT5Y+00rgwDIMJYT2dhGN80xpO1z6MUU0jvriKqkNYvs7HNUs/soOQjH8upfGKLwmgd20TcTOYvmBFsfx4H8shanRag/9SEJybgOhe8/3MALdGJCd7PJi0mixIOfjxAQVSMfJJDZ2k8D1n1aXfpAo5A4M1UbV50fjsjmTZU6r+e6UPfvjmYvtxJ/4EMNDOc1z3fviEZyweo0WVyubabuvSZbvHQ4luv1Bhe62WoTIV6lo+Hbwv3btsKZpofhmz80Px5+3ZZ60W6j4E+J2NygulAl7gYPeP0jky+oB05VkHNkJaNW7e4TAidqAhfWcWeVSo6Xqmm/TsANbqfxhCuUXP/33oXQnl6dyEzPcH0k8+tm/fSy3PBbWP2QkxrwNL4Pt0+9n4Nnj/OIAsxPKGWv0EguAuZjs27ZydAU8LGrT/d3hzv+fad7lhus/KfoSrLbca/Xt3pCSb3dNsKZpgfiGz80Px5+yRTPY+NQ73ULZN5S6j6O9zdz2E6WkYh+XlMsb5MsRrD8mw0nKW7z/cW2ZlJz87YURM6XQkdbrfb6N5pj1vbcMY9Hdv5CnQ6A3VDninZGDlTSbEjTjR2QSbbT426x2so2WduuUjj5hxMSXMm0is/fBHL90FUyjMfR7xT4ivDQAOmiZg81zgWe/k3pMfbf4vVk7u5mcFgmrG/Ep1uLjW/BdvIcbbn6Yl1prHzOCM3Pe/1EXsl0z59++agi61m8PtxOvblO+KA55JcVEn7iG2irepKjPZYxVg9uZsb6PO5yCBXzwa6fXVJkP0wUU6sjJyqoCA9Prg98dZh2vcVuaRvYsPBLsZc28zRLqY94Np/oYtfUxGfnI3GcoLuPrlZ5gCddeNoip7DMDuI5L7zjNkuoqZz3OfttpE2aor8yMwEVq++yyo5QMe4S5ltXWzXzcFYP+z+6NVmsnRysaejmFfOQVfSNhlTrrD88ljoO1xCbtJkGnWfy0iDo/+znPHlSUY27GtjREbvrJ83UO7ULV08ppJKOoIplhL9dPK9he7DJXY5DqQnQdYheB0ZDRAnbKN751z/ccQBbZ4jbuWlNizfW+g+6Cj/vgH7r15xiy73O/s2iD6TRUnb4jijoMTkJo91ITx/wF7XuWQdBE6XOeTLf0zPdMfNmYkLnRnbLou/sQobI6cqJuTD2xdwyFJ4PnVAe5F+Ik7e3Tdw2LtMd51v/8pD0Fz02/rVcbYXGkn0aFs5Gao5I3OOxs1Rj/Eok/JjA5P3BeFLeMXIOtqq+LQFvnMZq3XxmEoOyI/VHud+eP759qGCbVuw9HjY08IKzL9VoleB+8fWX4lJN4eC97wN9djRTHS6TMxXXdrNKT9K5FiuFYKqm38bCCi2VZM4xtXNZ91lzDE+63RFHi+CHLZDzqY7xuOAMhNwHApeNuSw9DRQXuiU3bkk583EOTBB+DhB+fMTpQ7ODyFYGxGEzEwRx8E/KtRqNXILkLaRYdrREh/ueP1sGeXyEEQnxfjfXhf1JEuAxuFR/yUIdXoOdIkZ6Gmj+wtXR3WA7vfs/zR/etGtkQf7T4BmIXEesWt99SZWHLYQX1qPuWknqyNGqSsykunp7AaBrb+arJQc9o1qeKa0HnNLPVuWaxmpySElu5o+WQfcD49mYG5pYsdKgIXsaGnC3NKEuSVjIq7PcrqIFfnNjD22lrqWJhq3pqE6X4FxVTWDQZ1sYOM/P60mc0Uz1qRN1LTUU5MbxpWDZSSvDHyojF8sw7xVaqT8yzDWVTXRWJtNxBcNFKwoovXz4xSn5NNxXwavtjRRV5yA7UwlptWVMu30/9Kzz0TyzmHU2VsxtzRRt2khqvOVZKWYqOl3r6jifrD8kc59meS8ZyU+rwpz4ZP4e+9nu9pM8XwTBSesxBVXOdIPY6wun8SVZZMTiNlP8kuZ/jM+Op1GdUeVuJjVGhs1p7u8HA9bz/sctqjISooJvHJvG6BmdQ7l51Us3VqPuaWKFx8b53CO0e5kePB/+g6QueIQ1+ICyIxtFPNLepLzT3DjifUOGV2Obnw/uU+aKP/I0ViqBAxrYLBzgDGXx8cuvU83wNBxelwXiL7up+M8GP9Xgr2vFJZfnj9ycrOB4ksalmxrwly/Cf39XWxfaqD8I5fWHW9jw7MmCk5YCM9+zS6PeZGMNZaQ7KF3tt9Wk7O0kg5VGluamjDXryVivJncxflBHrChQD9vDlCTbSCrZpQHjK/Q6GjrB0ervfVEQR2AIHUkjGdWpaEZ2s8HPTLG5+oJ6g7aMOSlEe2rukHYPHtdhzCXGikf1GAqrcf8bIAwi5tDmF8ykH8G9MW1mFvqqcl21PfZItoDTfqVtC0w9lEZOQtK2H1JjWGT3UZsNKroKDKQdeBigMyCQ/3EWswtVRQnAUl51Dnbyo/9CtW4GTpm2LYHi8VKZ62JFUetGHz6Amr0hU2YD+ShB/Trqhyy2cQvJ3aKjNNeYrDbu8fXsrOlCXP9euL+fIKCBQY2nPYUNBvfdFaS88IJbD/JY0fLWvSOBcGx00WkLijh3T/H8OJrTZhbqvjlE1bezTeRWtLmYicttJeZKGgcJyLPMR6lqegoySSn1nHAUbB6JYNt9B2KFxTR+0geO1qaqNs2j/s7qzEtKKHDddLwdRvFKTnsG9Xys632vqkpTbD7fU8X0ujWTp78/+y9fVBUV7ro/bs1ubfzjuftnON72lRO7U45hW3m0picBieDEC5CEgVPFByDMHGEoyOMGDjGj6ijRuNX/A4qHjV4QoLGBD9yxI8rxokYRlFvho9yBN7MCBXLppIa+iTn0m+cou9kar1/dDd0797d7A2Nmpn1q+pKbHav9TxrPc+z1trrS0/ZumnYmkl8bhkdlhd98XQRCZzh1X9Kp+Bgu47DnPTVjyl+BRvXxFD7yjpqAqvs9hFWL28hc9dO8gLbcdd/cMmAHYcyCN3CxUCDsSqYGJJfiIXD17gZGCKaPuEkQMhEUDvNH4IlMzE4pn95gtXPldDw6IuRbUZXO6THNrTw0LQ3m8m5ZTR8L5Vlhw5RfWgNPzHVszo33UC/YAD09nF0+6DOfghGYoQPo+2mHkREOsQHs21Cmf2euOP/6otjolCxicKa7sg/Fc1ij2ITysZPRG/At427bEJRNovGKKUXnjbx1mSbcOxq7v+qabNwKPPEB0deF4ryurjSG/xsYNpeOW3CsfBYv+5CCCF6xLnFNqE4An6voUOInr3NYs9km8jYfk30qEV1HhMlDpvIqmiLrFKYsgrJq49ucXK+TSjzVDq07hMZik2suhAiSTBNm4Wi2ITimCdOOoP/dOfEPKEocWJrQ2/Qs3ua9MndV77q+vz8PZGveP+Wf6gjKJneTzeLjDDpKNM2i8ZvVPl+0yz2TLMJZfJm0ejPxGA9+NPXfF6TNvHWtDDy+NJ3/PKjoLTC19/A6Pntzf1pQlFeFue+Cvy2V1zZEieUyfvETT0Z+ep366eBX/p8ITCNCDbTU/tysM0IIW5WZAhFyRB7mtRe7RQnF8YJxbFYXPTJ3XNhsVCUeeLkF/5nvPbt2PWeePenNpF7pN9evM9miQ8+Nyi/Jj4/Umwia1ezKv74YkdAjGzcFeeVU6W/uPFmiN9p1t9Xp8VSxSYyBooHRvxT9IrGXWlCmbxZXAk1fG9ZT+svB+M6hPGRkLjgK6/Fp1XP+uQLjKsRGDDmKTZReFQtvBDdNfM0bUg71os+n1XmHxN9UScknhkrW/HVR2KVw5ffn1SPf/WJWD/ZJ/+AbeJAugXoFyh/RIbWboYt34D89ca74Y7tmkRqq0Lsw+nVTW2zEfo0/vL5IMQ0e0XjroygeNfn31p25c9Dw8Z7mzaLLCWu30f9z54IftbbLiwWFwPSjlQ34fpuWvHb31bnB8h3syJNKMpKcVFVl3eOzhSKMk+c02OgEcq258Ji4VDiREmNukx8ZatkiLdaIydvqH78bf18v134+svzg+3EsB1r6GhMt0gx0GCs0qJ1n8hQ4oL6eo274oQy/z3xwUZVH93X11z/694g3TTbfN+zgTZjpB3SP5YIfj5j+zVVm94d2i8ISVt/XDXSxxFCX9umpx9iKEYM0G4OhYj3ZDrfX8mrl2JYtvTF7+ChILEkZJpw1V7ve5vf2nQBV8pEkl+YQAEnaPbPfHS10dgGRf8jUTWjozC/MEelu5nxaangasFpZElQ20e80xbD9PRYcLtxB37ME5k+A5o+rB/azGAIJsx/BzRdoK65q/9Nl72YWufv2fi8vn14ccWLyFbtlbUmTSITD823jS43DCSWZbNSg8t8dCrTMwCmUpAV/BbF9KOJpAG1IXmaKF2+KGQ/MSMcFC2fhaWtknOf+rQfVD3EUvBiYsTZyz6aT3OgGfKKF4TKo+SwbGksrsPHqbuHx8DHZfycZC5Q92nAWy53PbV7PcRlp4afNQrE9AhxwNW6M3T0vWk0k7nz9zjPF4ekEVcUajPmhMlkB9lMC5f2d8LMBRSELJVXyH5lBcmuM1Rf9r5RNMclkkk9jf613u4WGs/C9PgXSUhTaLjc3LcM8NaNM5CSQ7L/bbJB+bWZxC9mq2d9Y0l6wQSXOrjjM7G4OQ20te316v+tp9++RseTRvBqDNP3FaCei+c7cfuX842cynbn76ktjNUllT7/bOdqVRcJMyYzDpXdu82k/9OL0Nw/G2xEB3856PORWDLnOuDYe5y7HfD11xeo3tFFQnEOyVHZ0jeLgqyQDf4RcLDsFXWsx+uzKxxw9ggXb2v9DoyWrevycapcvrblIVVSI1NZ+MokA3JHm2i0m9FkuGO7XrT6AgrJGUb6Ai4aztfD7Gk8a1bbiQfbczmku85Qp9oSlJyfQ7LKsVyfXqCWqUxPMavSceMZM43pz3uouuSbdR7xCKOAxstnaPqyf/opbn4dTudO0oe6HX/2opD4bfrRZKYAdbdUW4v4v3lEVZejHvPGOY+e5cxhcVH372dw2RfwixC/N5EwfwVFdHLg40jL/4zWTyxFu9eSfnYVGz7souP9lbzamkr5Ko04YsSOo6abVgw0Fqs0sScyxeLhXFN7X5pNtR6SUxKZ8vRU+PBan485P7tGK7NIf1oVIbTafHsiUyzBNmO8HTKAZRo72ho5WuqNX56+cjBhS0iEtmY6htxPM9bH0Ye+foihGNGH0XZzYNRNXB/OX62idHk72XtrKX0yQJ2HHsYEdHS7INJZdf5NuH8zwCb6aKcXQFz8i7DjI1pvFxM3upPWS10kv5CI1Wxm/Ase1l9uoTTegfv/vU4tU6l6Sp1yKnaNax0s/xAD1OP6GtC5tNHl7MRFJxuyxrMh7FM9Ub6by0z6iqNs/M9CVmels9piITltEtnP5/BsWiwWnQWZ9EONKfPHxjAO2ObSu2FJCwfWkKPQTV6rtI9hVEjjZ+L/0kwnkbE/0FbG9INYxgNtzi4gZpD1oCWnNt70E0mO0265rbZEoNLbKblXx8CPTiU7DV499RHLMrwnTLqvnqYKB9sz9A1ksBdTcbCLV1cuIW3vEqzxiaRnTiXzuckkjwnVNcmuYTMWhbFAjd9mvuzgpgsykxzag5PRMcQD5be7AAs8Fk96Crz6aQuvPZ8KN65RxSyqnzYRN2ISlvUXaFiTQ/Zj7TR9DHEzApbgG5Rfk5QJxGnsXX3Umgh0eePBY2Ayg/PUFkrLT1D3u8geHTfnEBVflrCqMJNyzCS8kMqUjBzSUxIZo2efLDr901fWTetzsa8Pn5bHJ64RHbzo9xFr1iJKt+Sz7eh1pi/3NvCtH+6jmklUzNBpjwORMobHDY18HNjCxHLrGAdQyS2nB0ZrJGqwbO/crgfmhl1iav7hBJK5YET4qDL0djOaDHds10uYvoDVSF+gC+dZgCXEHw7/VOYfgyW0W0M7fV4bgqKnz4RP6AWfruZJLPufK+h+eQvZT5dheSKWZ9NySM9OJd2uDPkFQXJcjEb8VrC+AHR148bbs4tLyiGBfWzfYWdjQSqjTOBxfsTuHUcgbS0JQ2oPfWW70KH9wtAUw7gMqPisAxeOMD3NQdTP6Fls3PUJSa+kU4uJ7L21IS/8vOi346jpphUDDcYqbWKJnwHbLrXgLIzFeruFurZYspNiMJsSyXSt52rzChLi3dxqug6zf8Y4lRzJCbHaNvNjgmzGeDtkgIdMmD0tVKxbx7vHOkOXjpI69DyM9nH0oLMfYihG9KVttN0cGM1BpvvyOkrnHoelR9mhHtVaYhhnh5rLPgMLl3LbNU4CBbEDrOmNdnoBmJ6aQAFHaL3lBq5Tc1khfZX398kZqbj2X6d1YSw9n56BFzYxTmNQ83BUCzyR7R/vZUrYYGrSN1tmBLODgv2N5G3qpPVGM61X66nelM2rK2N57d2jFD05sIJ/O2K4OhERyvcHf8+jw5Sr8XqIth3caxSmvDSJVwtPcHF5Dnmj3TT86gKkre2f6dOBNWMT1c+twfm7FlrbPqHh/C5KN63i4Zk7ObVzalCIHB6biSEuTYEP27lFIj2/PgKz93obsPjJzLHk0tjqJtvTQl2biSlvBA9YjMivySP/jYd1SNl6MJfM9V0kF66gan0sj9tiGGUCaOGAvZDywIcfUshcU0Pmki5ab7TQevUTassL2VBiIu9gLdszBm54jJR15tYadrwQ/k2l6fuD0MH7S/0+YkpkSpFC+ab3qCtMJHPEdc7t7yRu6Rv6DqDSg866iiZ6y/ZBZ+jt5v1kuNrYKLYBJQdpKw5zpRR4e9YBhPfvWVS1LWJ8+IT6dDU/OZeKy7Nwd7TT2NZCw6/fY0PGOlYlLeLQoWLihqCbeYTOErUXs3HNaTLXLyEt4Bo7a9pcqnfNenBWyxmsHx7yDg9cAN97gDoKEWLg0GKViXFPT4UDzdxyz4Krx2mwT2b1aICJTHlhFW81tVNqd9FwGDL3hg6w9NqM8XbIAF9fYPXkEqpGJPLawbXYrQrjrF65us+WkLZ8KIkPI4baNv0xwnja+ghZLuv81SryXzrBw8uPcnSh1oEgvuVOl96mJuwGYTd1J47gYhLJCQMZU7TTC8CcSPJMqPq0BeeNT2iw55Dke3tseWoiyW0f0drh3ZicnBI/rHeIWawxWGjhzle+Q5ZUn2EJTf7lBR4wjYwhIS2HglV7qTl/kCLa2VAdehjMUPnDVxopftlJY5TzCeY6v/9c23Y8n7fTSP/b4OGuB2/612kIc3xvx2fXgVTdsz7Rwvz0ZPJoofbTLrh9hupjkPeS/rsxPb4lQzxkwmpPJHPmCjZWNnBqqwPnsTJORlpeE47HxjDOArVXW7TtsKOdZiBzdH9jGJeUQ1yA3+b5D/bxvV3t83VeJD5gpmhY5NfEtzwmZQXb18wiPcl7dZPZbMb8dRfBBwf7/PMuMEIhLmkqeUt3UvVxDdvT3FTvOhG95fO+sm50ujFp2L35e77nHjKqw+CIyyomkwtUf9yF81QZ5S4HBVk6DqAaNlq4FWY5rLOjBYjFZg0jnaGyhcdHpwIXaApjc+7PrnkPs7pfPEDt5oMU24eOb3avrYseLTvxCWj6XsREAL8NtdP9tUY6/oT8A567viVymDCPcZCeNZfXdtZy6f1ZcLWM6l9Huxegjad5C6vXd5G9t5a2tkbf5yZXD63oO8xo8PjK9uMW7Zh5t5PG82D54ZgI9jqI+uk6zoaSesZtraV2jULNmpXBBwH1od+Oh0c3HwZjVTjMCRPJ4wwNNzpputwesO3GQkJKLK2XWuhou8ZJYkl/arARYnjbIdfV41S5oOiNgxRlJJJsV/r85w+fR+fwtcH0caKFoRgxjAQMMt20Hswla+5H2HbWUFUSvsG3/tMiSu1dbFu3XuOofQ8d7y9h6WEP6VsXkakjeBhPz03TsTIqDl8f4CoJM+P/Ryp8eJq3fl0ffMLVaAfp9nZqdu7jnEsh/akonKIUCftk5tg9lG8NPeHO07yFXPt4xgveswAAIABJREFUSs8P7jQr774uFz1qK3ZfYIN9PBN31AdPiY+w8Ogo4I+e6C3PHRNPAXAuZI13FzWHjgx85ceQ0C5X7rZQsfUILkvAnoBhrAcA4qcxPx6q9+8LlafrOLvL2rHMziH9Hg8y/Xdm1lWeofbT09Qxlcwk/S9sbr2fjd2e33csu59HRnrf4Xr+PBihHKQVx8CxfVSFvGDqomZvGQ2WqeSlBDRS9kSmWNqpq3yPc65Ukp/y6+B/u/oeG87Xw+wJQUt0hkf+SKh9y0VtxRbV4KGT6pnjsRcfUS3VsfCIBejujaI8sSQVKLj2rqNCXdZ3Wyh/aTz2kjN0B/1Bjw6D5LFpFJSYqKtcwurKFizzFzDdwKx62Jg3aFrYtut46JKpruNs29ICaTkRZv2Nla0lJYcCSxcHDh7Hqd6H9nU9u3dpLJW96x5krPbty//8P/iD7t88QO3mgxTb9eLbA+nsVudl8e7hvLSFbafUHZ0uapYnY59YRqOOWGR5ehKZYWzWeaqEifZkDvhOCHZfXondnsy2y8EWZBo5ikeBnoC1kdH3Kx/uC2yYV0nTjxbwi3+KCe3s6iVC2ab/xHty9VshZeuh6d+2UEUM85+LMENpuH46qV65itq0tWx8KYa4wp28Zq1n/Q6NOGLEjjXkGrpufgbTDmgwMpHkF+Bk7T4azpqY8nT/qiHrU5OJu3ycbQcv4LJPJm7Ip+XrbIfC2sYAqatisKetkooDhoUMg/E+TrR80EiMGE687ys8ndRuKqHonU7Sl+4kW3HRGHJPjIVxSb619yMSWbh3La456yiY9gnZMxYwJS0Gk+sadR8eoeqSm4Q5e9n4ks4GyGh6nhbOLdlPx84cigZI2vLURJJd66g6BkXvBy6fiyVphsKG9fVgX8T2YTuC3YfJQdEbxTTM2092RjtFpTmkK2Zcv3mP3VX19MzYxKmZg3ubYbOnYuEIe9bZ8cyIxfw3CuOfVDCNnErB+re5uKaQtK65LJs5EQtOmo9tZVubiYIlqdF7C21OJW95DFVbS8j3FPPPL0zA4mmn5p0ybqXMpYj9GoE3WuSwLL0+oFwtuLs+4mT5EWpvx7Ds1Ir+w0SGsR68xFLwxiIaZpcFp//b01RXnKHBOovqpZOivyx6QHx3Zh4oo2gJWEoWhRwmEYm4mSsoOFLCqz/Jpqn052Q/YcH9u+NUlV+A+EWkPTk4qeJe2slr13LZkJXMzfmLmO7z+9r3K6m+qlB6dK1qCaVvP8iBM5ASvI/H/OPJFFBC1VnIOxh8CM1wyR+Kt1HZtn4L+cXdXp/zdFJ3qoyTplmUZlQGLPGJJW95Du/mryMrt5mFc3IYY3bRceptdh+DhDWTdR5IpAcTCfN2suxqPtuCyvoTTpYfoebrVMr/1b9kzYgOg5cn+YVFpJ/dQt1thdd2phqaaQob8wYrTsZc5rCerNzrzH9pGnYL/T5LKuVvRFrOZ6RsgZGTWLgzh9b8VSQ1nVHFiAuYsnNIbzven/zvKsl+bgt3Zu/lkzeMxg4ztn90wOF9bN/69xSkWDGNih1wH/ID024+ULFdJ+ZY4tKgav86to1aQLLFxKM/9O6xtmStpeLX2RSVZOK6Ope8DG87Wfv+PqouKcH6ROKxHF7bX09u8SqyvvTbrJuOs+/x1uEWHl96lIVJ3oTMGQvYmFTP6peScS5dTt6PrOD6hOodlbRapvJqUn8vIOp+5cekYPtHE/yqjMyn3yM9YyrpP57AGIuJh0fFEDfGoi+PCGVrfn4RO+a0UxBUtt64VXHWQ/bOGgoGsFcj9dN6sIRXLznYftnv296DgBpSVrEhZQIVMwJtzYAda6kdBd28GIxV4UuKhJRYXMvPUM0sqgPztqcy3V7GhrMQt0rnwYKaGGyHItiGpgZJORRY6qlakoun9OdkP+GPwe0kL82hbseAQ21dGO3jRM0HDcSIYSXwqFsl4kfjSN2eDnGxcrHIfzbO90yCyJq/WLzbEP5Q34jHl+tN78abwhFyVHs4fEf7KhpH4zdtFg5FdVy7HjnVx/LrucLET/c18e4vZ4usZ3zHoj87U6yq1Hk9RtgjmnvFzcqX+9JUH6vc3fC2WDUnSTgUm1CUODFxzmLx7qc6jnmOdC2J/0qZoLLrETeP9tef49l5Yk9th+j1PaurfCIeDR2aZ+Mum1Acb4qbokfcqt0slk5L8F3rkCTyf/m2uBJOTZ31MOjrRb5qFid3vRySfrf6yoKh5GH4t35fCL5GRDc9beJcgE7KMxli6a7T4lbgseyGbUYIIbrFzRr9dee9niT4yhJ/Ot5juMPEBj3yaxL5uPLQaxt6xK2a1/vj2DMZYun+a6LHn45K/57PTos9izPEBF+snTDtZZ/fDMBgyvpP3eJK5WJRqCrrxq/Uv9evg6FYGYTvCoCQ60z0EC7mGa2rgOd9ZROk867T4la46yPUcVh32fo0cH4i3lqcJSY6+uv9rYZuIdTx8ovTYukzNjFh3ScRy0n7ChMhhHCKixtn9uUT6n9aDK7djPoVJsMY2zUx0pYLEd6+nR+J9X1trvrvPn1m+v+eILIWbxbnbqkKOqLv+FL67LTYo7Ihzdihtu2wthm+L2Hs+rnQeu/97D1RMtEmJkzLErn+uvR/pq0UF/XenBCxbHvFnbrA/o6vbD8zEmEGrh/vFRCh18IIIcSdIzOFoszsuz6rv9x02nGEfp4+3XRcr2EwVmniu3JE61pB79UjcaG2a9BmjLalkW1DK8tr4q2+tjdOTJzzujh5q9fnewFxbAhXmPif19/HiVbb5kVfjDCqj37+ixBCDP9QNro4388mqenntO2ceh9mhCQSiUQyVDyX1zHhpRPkHW1k2b14o6qJi5riZErZRPP+nGHeXyiR/JXiuc62CflcLVCf9eHB3VxJaVYZN5cfpblEz5LP7xZNu8eSvWMuNc4VJNxvYSSSe0zEezIfTFw0Xe6kdMb9WHIokUgkkqHTxcmDR3ClreCn922AKZFI7gm327nqAtsTMaplfybMT0S4VUAikXynGeAMqQcRC9n7b95vISQSiUQySDzN71F1yUTR+y/KDqZE8pfOE4lMiYcNhel0z57F9OcnYDGBu+sjzlWcoMaSSnn2X94spkTy1853cJApkUgkku8ubuqOVNJqX8T2FDmLKZH85RNL0YcN2A9voer8CdYf3u89cX50DJkpi6heNJdkuVZdIvmL4zu5J1MikUgkEolEIpFIJA8m38E9mRKJRCKRSCQSiUQieVCRg0yJRCKRSCQSiUQikUQNOciUSCQSiUQikUgkEknUkINMiUQikUgkEolEIpFEDTnIlEgkEolEIpFIJBJJ1JCDTIlEIpFIJBKJRCKRRA05yJRIJBKJRCKRSCQSSdSQg0yJRCKRSCQSiUQikUQNOciUSCQSiUQikUgkEknUkINMiUQikUgkEolEIpFEDTnIlEgkEolEIpFIJBJJ1PAOMr++wOqUsSQtOYNrWLNzU7dmPNaUEmq/HMTPvzxOkXUsRaeGV8rvOk27x2K1bqHpfgsSgfsn4xBtMOq0UG4di3V3y8CP3u2kZlMuSdYHv34NI337nuI6VYjVWkjNA+EDEolEIpFI/tJ4qO//7oKzw0UPYBnOHL/1wO1Out3AY8OZkUQShu+oDba+X0jpARN563eS/UQstvstkEQikUgkEolEooF3JnPkJDZea6Tjw7mMGdbszKS/0UjbZ7UUPDGsGfXhfWP/Fzbr89eKb7arvHkoidx7G4wWnj92AankzZlKclIM5vst0CBo2j0Wa/HxYV4xIRl2ouKLw4e0M4lEIpFI7i/9ezJNZkwPRXgyapgwj7gX+XjpvSu7GX8xeP4P7qgkdG9tUOLHQ+8391sGSVSImi8OB9LOJBKJRCK53/gGmRr7wpq3YLWOo/y34Ok4zoa5ycRbx2KNT6Zg03E67qqT8tBxfguvZo3H6n9u5RFaVT0R7b147uDfhnw0ZiK/vk7VSv/+tPFkL9lP09cBf2/egtU6lqTl7UAl2Zpp6ZM5Eq6rlaz2l411PNnFS6i6qj2wdV2tZHVxpk/mcaTN1XjWcLlHQku/ShrCjbtd16lamU92ires4p/LZfU713F9ayBLl7de0uK9aSRl5bPhWEuEDqkeGX32mbKOBmBbVr9tBM2kuNup3V1C3nPjvH9PyeTV3WfoGMgGfbMypWdd8PV1KpZkhrer/sy8cucG1P2SLdT+LoymGmW74VS7vo66T77sHRBoy37dm3aPxRpfRituOk6toyhrvGoWxx1SxnlL9lPX5dHMp/SsC/dvj7A63/d8itcO3P60Tq2jwFfGSVkllJ/vRJVSqPqnCrFax5F3ADi7yldmYWabBvJttV566yAEA/6vxzeiXX5D9ket8tkf3v915RldXzRUB9+6aHhnide+w8QKQ3YmkUgkEolk2BjgdFkP//vXZeTOPII7ZQXlRw9SXhDDrQOrSHtpP60BT7rOljCz8AjOHy6g4ughqtZOxXR5HZmzy2iN2AP10Lo3l7TCE/Q8vYiKo4eoPriCvCQTYKFg50Gqj+YE7z/78gSrnyuh4dEX2Xj0EBXrU3n4UhnZzy2hzt8ZHZ1D9dFDbHwJYBIbjx6i+uihoLQGLzOAm4atmcTnltFheZE1hw5RfXARCdSzOjedgnfaAzqOHpr2ZjM5t4yG76Wy7NAhqg+t4Scm77OlZ9XdH/3lHp7/j6u7s0nb1I551lqqjx6iYsUkTJe3kDc5m/LmYAU9zWXkTc5nd6eFKUsPUn30IGteVOgoz2fyrDKadAxu3VfXkR2fz+5OhZ+uPUj10Z38y9NQuySXiXP30xqShl4ZY8g8eojqNyYBkPeGvy4PkTna90jXGV79p2yKTrgYM+sNb1pzY3FWLSFNV32Cp/M9Sp8rofHxueHtypsZtUvSvTb75AI2HfXV/R9PUPRcOq+e7QpOt20/BZPzWX3ejW3WJqqOHmJTUSzOHdlkrDnBnYEEGzmBf9Gw5T7dAVz/waXdueR/6Gb83J1UF0/wLqf1dFL9SnKQf1WtfRFr1z4KJmSz+lddIdm5Pl5J/j8fx5O2luqjO9mY5OHcmnzy99bTsDuXtB2djC/dS/WhTfz0H66zrTCbpadC0wnE/PQCqo/upDQFSJnr9fOjh/rl9KPHtwdRB1ro9f8+3/jUxLN+35hqom5NPpOXhh6WFo3yG7o/dlG3Jpe0wkoaRk5i2cFDVB9azpSHPqJ0cja7/1eoQ+jTM7q+qDsG322hfFY6eeWdPJK5nCqfHY/qLAuKFbrtTCKRSCQSyfAihBBCNIs9ik0ou5pFH02bhaLYhOKYJ046RRB3TswTihIntjb0+r7pFifn24Qy75i4E/hg6z6RodjEqgs9fV817rIJRdksGv1f9HwkVik2kXuoIziT3mtiq8MmHOUBMn1xTBQqNqEoGWJPU2/w87688o8GCxuSXx/6Zdai58Ji4VDiREmNqnBEr2jclSEUZab44PNguTO2XxPBUneLc4ttQpm8T9z0f2Wo3LXx6mwTyrTNovEb1R+/aRZ7ptmEMnmzaPQn09ss9kz2yheitfOYKHHYRFZFW8Q8xVcfiVUOm3AsVJWnEKK3abPIUoLTMCyjEH1ls6dJS+c4oSihZSZuvDmwDUawq95PN4fYVXfNPKEo88QH6rz8de9YLC5+5f+uTbw1zaenunC/6RDvzveVQ6DvhSGcLfvLUqv+blZkaPuLcIqTC+OCZe0rhwDb9el1ZWOczy5fFxd7VOnMtwnFoeVjanw+N/+Y6Fb/yaBvG6uDCLIM6P++5yaH2mn3mZeFoqSJt1rVOgyx/KLgj33x6URIAYmeutdFhmLz+ssXqvLQo6cQUfJFvXXQKxp3pQll8mZxJbRAvHY8LSCGRrIziUQikUgk94QB78mMK15EthL8nTVpEpl4aL7tf/tuwvx3QNMF6pq7+mfw7MXUOn/PxucHfods/r4p+AuThcd/CK4/azw8cwEF8arn7YlMsUDdrYGX7g1dZhd1/34Gl30Bv8hSFQ4mEl6uoa3tIFMsvlQt09jR1sjR0kRMgMftxu1243absCUkQlszHaqrBPSVe2T9SpcvIkG993CEg6Lls7C0VXLuU598bR/xTlsM09NjoU8238c8kekzoOnD+ogzqK7Lx6lyKcwvzMGqliR+Ea/Oh6b9p1XLng3IOABxcxpoa9vrLbNvPf3yj44nDahq7xw4kdmLQuzK9KPJTCHQrlw0nK+H2dN41qwqK7cH23M5pLvOUNfkW+/XfJoDzZBXvIAEtUmNiKGgZBFxujQciFgKXkxUzda0cGl/p7a/oJD9ygqSXWeovqyai5u/gOmBs6SYSJ40C4C44hzSgzJRSHguEVydOKNxHYYu3zZYB5ro9X8LmVsbaTvms1NPf14m2wQy6aKxI8rlN2R/DIhPM9TxCcxpi/iXmepvB6FnGPT7ot46aOdqVRcJMyYzDnV9m0n/pxeh+ThX23SJJ5FIJBKJ5B4w4FE/ST+MCf3ysTGMA7a5/J04M+krjrLxPwtZnZXOaouF5LRJZD+fw7NpsVjU/dtAzImkzzZRsGsLVT9YwfQxZsDNzUMr2XbZRGlJbMhPkhNiNZY+KVh/DHR140bPNSxDkJkunGeBhQ7tAcJDJsxmU/C/PS1UrFvHu8c6cYb8IDXkG33lHolExv5AWwnTD2IZD7Q5u4AYXM5OXHSyIWs8G8Km1xNx8H7ndj0wlwS7Zo48/sP+jnRC37Uh+mUcCJMZnKe2UFp+grrf6RuYqkmO0zqxVcH6AgF25at7lhB/OHxamX/0DYecnbhIJDkuzEuLMbEkgc4l0JFwYFVfx/JlBzddkJnk0F4qODqGeKD8dheBHpP8A4WQWvme9z8Jo0MHLQ8/FNFZDKHPt43VgTb6/d/0fQ+N/7aS7Ucu0HRbIx+1DkMsv6H74wDxCTNxCbFwLPhbo3qGQ78v6qwDnx03rc/Fvj58ap7Bub1EIpFIJJJhYMBB5t+O0NmBNDso2N9I3qZOWm8003q1nupN2by6MpbX3j1K0ZPh0jGTvnQneYdLWJ11gdX+ry0W8nbWsDAp9HfmEVHaXTNomQ3y9QVWTy6hakQirx1ci92qMM7q1aH7bAlpy0N/orvco0Yi2z/ey5Sw90aaHug9Ta0Hc8lc30Vy4Qqq1sfyuC2GUSaAFg7YCynXkYYhuyo5SFuxI/zfTfe6tEw8HCWTiVQOj/4/w6vXPa0DXf7vpm5NOgWHTWSu2kn1kzE8HqfwCMCXZ1j63DpDOugvv3vtj8b1DIchXzQQgzO31rDjhdBBuh/T9w2qLJFIJBKJZNgYcLmsLvxLojxgGhlDQloOBav2UnP+IEW0s6G6PsIpml3UrF9CdXwxNTcaaWvzfjo+bWD7zJjQGYFoMSSZfbNbH7doz0D5077rm826epwqFxS9cZCijESS7Qpmsxmz2cQfPr8+LOrBdX7/ufarfc/n7TQCdqu3w2axxmChhTtfmXxyBX/01MHjo1OBCzRpLlnzcOvGdbDEqGbb9MsYGd+y0JQVbF8zi/QkB2MsPvm/7iK6V/n56r6tix6NsvJPYJt8M1fesr1OQ7gjizvauRpV+QJ4bAzjLFB7Nczpvh3tNAOZGrNrDzbG6kATvf7vqufkYQ/M30n5/KkkJ8Vi9ftFdwe1w6Dd0P1xgPiEm9am9uCvoqanAV/UWwc+O250ujFp1be/nu/JFVwSiUQikUj0EJ1BpvsCG+zjmbijPngJ1wgLj44C/ugJu7Sr451CSj/0UFD8cxJGBnSkotRhMH1fAVz0qHvZQ5AZLKT/ZCqWtn289aF6f6SHpn/Nxm4v5JwruDvoUV094GmrpOKAMX3046F8q8YplHdbqNh6BJdlFulP++SzT2aOXft5T/MWcu3jKT0feT+WJSWHAksXBw4eD1kO7GkuY887kFA8jYTByghgeoQ44A9fhRv+q+vMRW3FFhoiSm4UC8kZqXBpC9tCTlTtomZ5MvaJZTT69xLHT2N+PFTv30fIFsG7nVTtLYvCUtlwOEgrjoFj+6hqVltzFzV7y2iwTCUvZeDF5dHBtwfv8//gD0NKx2AdaGHU/9XFd7edqoNHBq9CJIbsj5HiE7gvlbHnmMbPQL+e0fBF3XUQS1KBgmvvOirUdny3hfKXxmMvOUN3v3AR7czjlutqJRKJRCIZbqIzlBs5lYL1b3NxTSFpXXNZNnMiFpw0H9vKtjYTBUtSw+6RfGR0PAl0UlU4nrr4SWRmTmD8kzGYMfP4U7FY1YfCGMRmT8XCEfass+OZEYv5bxTGP6lgGoLMAObn11Je0k7eK5m0XprFwhkTsXg6qTtVRsVZD9l7a8nzHf5hScqhwFJP1ZJcPKU/J/sJM67fnqa6op3kpTnU7eiOkNNgyWFZej3ZGe0UleaQrlhwd33EyfIj1N6OYdmpFST7x28mB0VvFNMwb3/A82Zcv3mP3VX19MzYxKmZA8x2jZzEL7bm0Dp3FVlfXmf+S9OwW9w4Lx1nz4Hr9M5Yy6l89f5aAzICjHGQZoHyvSux/flnjDGbGJvgwGLyDqa2rd9CfnG3ty59dXHSNIvSjEpdy2X1YslaS8WvsykqycR1dS55GROweNqpfX8fVZcUldyxFLyxgobZW8ieeJ28ollkPmnF49OzOy2HbMtxaqIoXyBxL+3ktWu5bMhK5ub8RUxPi8Hkukbt+5VUX1UoPbqW9JHDlHkIZmz/6IDD+9i+9e8pSLFiGhVL8hjjCz+N1YEGev3fksr02SZq3imhwLOIgqzYvvK7lTSXgkuVRN17o+CP5udXsGNOOwWvpNP08Sz+JWsyVpOTtvNHOPArE9PnOGh9J+AHRvWMhi/qjsEmEubtZNnVfLYF2fEnnCw/Qs3XqZT/66yAA8fC21nHO5mkremioLJB14F0EolEIpFIBon3kNnwV5hoHVGv+bwQorvhbbFqTpJwKDahKHFi4pzF4t1Pgw+RD72GoVtc2ZIhFEeSyP1plpjo8F3p4Esjv6Kt/9oP3xUBhTVaB9OHO7a+V9ysfFlkPeNLU/V3PTJHIvj3CSJr/uvigxsav+++Jt5anCEm9OXzujh5q9dXzgFXCQyi3NU07rIJxfGmuCl6xK3azWLptATf9QlJIv+Xb4sr4dTrvibe/eXsvrJyPDtTrKrUuEYhAr3OT8S7v5zZV48Tpr0s9tS2haQxWBl7W9/ufzboCoYecavmdZH/rO+qiGcyxNL910SP3y4CyizcFSbG7Mon98yAul+8WZy7FeZ6ma+axQcbg8t2fU2bpnzhiHyFSaQrRLrFzRodZRypHCLYpf86kf66iIRTXNzYbx99et+LOtBKWY///6lbXNn/sqruOkSvzx/7ZI52+Q3ZH3vFnbp9qvLZ5613ddwxoqc/9Sj4ohAGYvCfusWVysWiUGXHjZpX1WjbWXfty2KCkiDW1xmJahKJRCKRSIzyX4QQ4n4Ocp3HcknaYqb89MHgKzvudlK7qZCiwzFUNB8k816t6JNIJBKJRCKRSCQSyaCJzp7MQePmVmsLjIpnjHr114gYbP9dLmeSSCQSiUQikUgkku8S9/k8PjPjU6ZieaeM/OeamV40jXTFAh4nbb86wbuH20lYepR0OYspkUgkEolEIpFIJN8J7vtyWQD3785QVfE2Fz9t910CbmJMUio/mbOAggyty9klEolEIpFIJBKJRPIg8kAMMiUSiUQikUgkEolE8pfBfd6TKZFIJBKJRCKRSCSSvyTkIFMikUgkEolEIpFIJFFDDjIlEolEIpFIJBKJRBI15CBTIpFIJBKJRCKRSCRRQw4yJRKJRCKRSCQSiUQSNeQgUyKRSCQSiUQikUgkUUMOMiUSiUQikUgkEolEEjXkIFMikUgkEolEIpFIJFFDDjIlEolEIpFIJBKJRBI15CBTIpFIJBKJRCKRSCRRQw4yJRKJRCKRSCQSiUQSNeQgUyKRSCQSiUQikUgkUUMOMiUSiUQikUgkEolEEjXkIFMikUgkEolEIpFIJFFDDjIlEolEIpFIJBKJRBI15CBTIpFIJBKJRCKRSCRRQw4yJRKJRCKRSCQSiUQSNeQgUyKRSCQSiUQikUgkUUMOMiUSiUQikUgkEolEEjXkIFMikUgkEolEIpFIJFFDDjIlEolEIpFIJBKJRBI1fIPMFsqtY7Hubrm/0jygtL6TTXx8NhW/9dxvUQbARU3xWKzFx3Hpebytkrz4ceQdaOFea9a0eyxW6xaa7nG+f8kYttMvj1NkHUvRKV3Wck+R9vEdonkLVutYypujlaBsj77zPMCxRRca8rtOFWK1jiV+63Ud7aWbupXjsIZJQ/1JysqmaGUldR1uzdS88TD0E/9cNq/uPkPH3aGrHHXuY/9CIpE8GDx0vwX4TvCtB5eriztfeQDT/ZYminjodXm484WLvzTN/ir5i7VTiUQieTBw7S3jZO5R8kZHeKjtCHsOhxtaxVK6fwXJI/tSxPnbZppq91GQtgXrzE0c3ZqDNaR3NomNR3/GGAJ+d+k4e3Ysobqug9pji4h7oMK+7F9IJH/tRHG5rPft83f9zaXW2/i4wlo62hrZmGa+93Jp4H0bGoVZHnsxNZ81cm39JB4MzfTTtNvAjO095/74Qjg7jZq9RJsIPvfXxoNtz981Huy26IH1R4lOWth2pD7C7Jyb2sqyCPVrYWxCIslJ/s9U8uavZfupRpoPzWLUsVVkbdVKXyEuSfW7VYe49P4sLM37eetX98PeI/jad7h/MSwM0N49qHHhQZVLL7Jtvb9Eb5DpcfO/o5bYfcDzf9BeqOLFZH5w3sP13o2iu4wwfwffMHro/eZ+yxCB++gLWnYaVXuJJgP43F8PD7g9f9d4wNuiB9YfJTpIpGB2DK4D+zh5O8wjbUfYcwzSS2aRaTB1S9payrc6cB1YR1Wbvt+YxsQyHqjp7DKYWxQYyNe+k/2K8OeYAAAgAElEQVSLYWKA9u5BjQsPqlz6kG3r/Sb8ILN5C1brOMp/C56O42yYm0y8dSzW+GQKNh0P2APg2wc4ppAKoLYkuW+/QPDbLTcd57fwaq4vHet4spdsofZ3Gm73rYuGd5ZQ8Nw4zX0IfW8lfG+GSs+6wHWdiiXZpMWr3hS5rlO1Mp/sFP8ehlxWv3Md17f+B3z7f1LW0QBsy+rPx5+O901OITVfqnR+5QwuXDQdKOlLPymrhIrfaDilXp0i4dv7lLS8Hagku+/3Wm+ZXDS9s4SCSHKF2Tfj/k0lq+cG11PdYNovn85FWeO9cvptJ2ykHdhGvHUxjrwDwNlVvudCy891tZLVxZkkWcditY4jbe4Sqq5qlPDdTmp3lwTbx7EW7cZgQFvS6wvaeC6vw2pNp0LVuXC+n43VOpbMA+3Bf7h9hDzrWF497w4omwA7NWIvX1+namWur7zGk71kP01fDyiyBr46DKjzvCX7qesKfC8/sM8FlAod57dQ6vOb+Ody2XCqU3sWYcD6gSDf/dZFw4ES8p4bZ3D/38B26jxVSLw1nW2/UUvqoWHTOKzx62i4q9+e3b87Q7kvvvn9ufx8u8pOI+vWtHss1vgyWvHQcWpdXywKX6YGYvZg0KivDafUOgWK007tbp9O1rFYUzK9+9H6fhD9tkh/LNSRpi5/9IT4T8HKI7QaLnI96UTa+xp+f7/rqqpMisPEVj/Rii26/BtjMd0wJsbPXUGRpYVtFRc00nRRs7eMVvtc/iU3dlA5WDN+Rh5dHPhYZ0z6+j9wAgWxMTpz0BEDo+FrGv2LQccgvx2HfAJ8ZxjqvV9eNx2n1nn7MkE+EYX2Tm87bbR909s3DYdeuXy20i9XNq8eqMep3iccMKZwXgps0wspP++re589etPy9ds0ZY5eX9FbrrkBbWs+G8LajYE2MZr2qCGjZuzre3YAOwkcO319nYolmVHo+4VBCCGEaBZ7FJtQdjWLPpo2C0WxifXlb4osR5ZYWnlaXGn4RJzcNVtMUGxCmbZP3BRCCNErum9cE1fObBa5ik3kbj8trjRcE1carombX/T6EnOKc4sThKIkiMKN74lzDdfEldr3xPr53u+WnnH25yu6xbmFcUJxZIml+4+Jiw3XxMWazaLwGZtQlJliz4Vr4soNp+gVQogvjolCxSYKt28WJc8kiRJf2re+8qbU2/SmyHXYhOPZeWJPzSdB8jsWnhbdQgghesSthmviyqGXhaLYxNJD1/rk96fTXTNPKMo8cfKLfhlPzrcJZf5msWdhnJgwf7M4WXdNXKl9WyydGScUJU6sutAzOJ0i8VWHuNJwTby7zCYU5WXxboNf1g7REyTXPvHWL3XI5S+/mu6+r3pvvCmyFFvobx3zxLkv1AJF4Js28dYcb565y970peWr82dWilWLbUJRNovGvh/020j+L9/22Yhf7gyx54a3dHq/aBZXGk6LrT+1CeWnm73PNQSWX69oLM8SDiVOTHzZp0PdMbFnfoJQlDhRcqY7QMiAelHZd1Z5c1B99NnSzMXiLb8t7V/s++5N0fiNN++BfSECvZ+I9YpN5B7pCPjSKT6YbROKYhPKZL/P+aRX2WWInQ5kL/76379PrHIkiMJdXts8V+nVS3EsFhe/0lPZfvk7xAcL44L8/GLNm311uOqC388H9rnGXV77eKsiQzhmLhbv1gbWo01kVbQFZ62rfoTo85F5m8WehQli4suviw9qr4krt3qEPvTGsh5x8ZdxQpm8OSBvIXp//bpwKGli66d67VmIO2deFhMUm5gw3ydrw2nxwUavnU5YfFrc6Us9sm7eMn1d7CnXU6b6/FEI0ddW7GnSWYRCiN7WfSLfYQuKieeOvi4Kn7GJCa+tFEvV7ZHztFj6jE0oz8wUqyq9ftVnp9PeFDd7hTDaFg2kl/5YqNMmBozfQnSfmSccSpzIXfa2z3987USfjvrQl45Gu9+fgq8tOSb6I2aPuLIlQzumK3Eiv7KtP2ZGObboa8u9cuuN6RHRaBsD4+udIzOFomSIt1rVcm4WGf7fDZBGeJzi5DybUOYd6/Ntv+9e7OkRPQGfO03viVXTbMKx8FhAHBiIAWJgtHxNQ39jMahX3CzPUPmV31eTxKqjnwT1faJS7yq88q4Ue3ZliAmzfW2LPzZHq73TERcMt2+6+6YR0CPX5++JEodNKM/MFuuPng6SS5m2UlwM7Nr72onChfOE45nZXj8O7JvVXBMnF8b120VgXG4KrMFo9RWF6Gl4XWQpgeXa37Y65uwTNwPa7kGPY4Zoj5FlfDuoXdAdJ/2+uetNURKNvl8EBhxkKo554qQz+Ed3TswTihIntjYEaKcRUPz4A+sHTvVfekXjroxghVr3iQzFJlbVqarh8/dEvmILHiT48tRO2+dsqk6eEEJ0n3lZKEpacAMRoaMUdpCp2ETWLpXBfHNNbJ1sE8rs9/qDvhGddODvgDeG/CWCXKJNvKWWK2wjoEr7q9NiqWITGaqOfSRuVmR4Hf5TdUDrFbcOzfPaVmA+TZuFQ7GJwhOqivxTs9gz2SaUX34k+lPS6gAF65Sx/ZpK/25xbrFqoObXX5Xnzf1pQlEWi4t9kdQrQ8b2ayIkPDuPiRKHqnGM4AuR6REXf6nS64tjolCJE3uOvC1ylSzxweeqZ3/aX5/hOjBh7aXPf9RBXPTZbP7REMcKS1+dq9MSTnFyYVxo4Irgc16ZtTpPPd56dLwurvizMVQ//T5SaEA3P4Zi2VcfiVWOAFv85hOx3qFtmwPZs5asvU2bRVZQpyGybuHL1On9XWCZGvFHw4PMNvHWNJtQpm0WjeoK+6ZDvOvTIbA9atwV57VttVo33vTG1gFenvVhQC+9sdCQTYRL15uSr/Ovqh9/+6G3c6g7HWODzJ4Li4VDiRMlNWpFfXoqM/vjU1Rji4G2XG9MH4iBBoi918RWh00oi0+Htkv+NmbQg0y/H/fbiN93tT755c2hcS8iA8WJKPla2P6FzhjU85FYpdhE7qGOoCf9Ze8oD7DbaNW7Cr+8Wm1LNNu7/rw04sIg2zddfVMdhI9XAXFc5Zd+uRwa7YTieF1cCXq+o/9F+uy3xa0/acgc2DZGq6/oa5+1XtB429bgfp2hOB8te9QhY38cNR4ntey399PNhvt+kRhwT2Zc8SKyleDvrEmTyMRD8209ayhdNJyvh9nTeNbsxu0O/HiwPZdDuusMdU3Bk8jmv1Gt5H9MYQzg+bNGFvN/xnRF/aWFzK2NtB1bRMIIwNOfr8k2gUy6aOwY6lrzqfzLHEfwnoMRiTybCVzq4I5q7YchnYbEJH4xWyUXsSS9YNKUKxDT9xWgnovnO3H7p9dHTmW78/fUFupd/tPCpf2dMHMBBT9Sb/k3MWb2Il6zq762L+CTtkbKs7wV6fHbyB9jsKcBh5u5pSdryzR2tDVytDQRU2A6bhO2hERoa6bDv5x0xCOMAhovn6Hpy/5CiZtfh9O5k3S/6G0f8U5bDNPTY8GtsmHzRKbPgKYP62nVWTrhMTPux6lw9jo3fe7gbr1OLS8SPyORdHs7dTf8NttO42FIfiER61CznbmAgniVbdoTmWKBulthlqaGEFDn6rRQyH5lBcmuM1RfNuJzCvMLc1T6mRmflgquFpz+ehxU/cyiICskaAyAwVg2chKv7Z7FH3avZPdvXDTsKqHCOpeNxYm69ym5Pr1ALVOZnmJW5efGM2Ya05/3UHXpumoJTiTdtMpUITlDVabR8kctmk9zoBnyiheQoA4PI2IoKFlEnOrruDkNtLXt9bZF33r6y2F0PGlAVXunvrwN6KUvFg6ufdPGhPnvgKYL1DV39fudvZha5+/Z+Lze41OilU4gLur+/Qwu+wJ+EWJbJhJerqGt7SBTLKpoEZXYYqAt1xvTh4opkTlrU+FYGdW+7Q2e5rd566yJgiWzQuw3Osyiqq2RNt/n6vlDVO2dC5W5ZCw5g3MQ6WnFiaj5Wlh0xiAf5u+r7Mdk4fEfgiuw3zSs9R5LwYuJqsOLhqO9C8Og2jdjfdNBERjHR6j+puSwbGksrsPHqVPVZ/LSn5Ec9HwMyVmJABTMfpExgacqj0jk2eeAs53c8X8XpbbJdfk4VS4tWwRT/CJenQ9N+0/7lgYbjPNRssfIMq7gaFsj5c9ZfN8MYswze1GI/Zp+NJkpGInPkRnwCpOkH2qs839sDOOAbS49DWcXzrMAS4g/HP6pzD/61LGnMj2+jAM7tjBu089JHmUCTxd15VuowMH2pywhv03+gaLZaTN930Pjv61k+5ELNGls0je6KT+ElHhsGsby+OhUoAvX18BjDEqnock1gbiRoV8/ak0MlkuDuDmHqPiyhFWFmZRjJuGFVKZk5JCeksgYjTQ1+bKDmy7ITHKEOVUuBnsKELj30GSG28fZtnUXJ3/lGvxJYA+ZMHtaqFi3jnePdWo0vKn9/2uexLL/uYLul7eQ/XQZlidieTYth/TsVNLt/TblcnbiopMNWePZEDbjnqg4pOWpiSSzjoYbb5CeAjc/PQPzDzLeFMvDmSY2nP8EV1YOlrYWLqEw/Sm9+3DCk5wQq1FPCtYfA13duIEBLXSgOh8dQzxQfrtLT2o+UrGPCf3W8g8xQL3XjkcPsn5SxvC44RMpDMYywJSygoML68n+STLlxLDs1KLQBjkCd27XA1D09JnwD71gRLcwZWoNLtOo+aMG3vpKJDkuTEs7JpYkCOo0mczgPLWF0vIT1P1uCJ5mQC99sdC4TYTHTPqKo2z8z0JWZ6Wz2mIhOW0S2c/n8GxaLBbd9hqtdALx6bnQoT2AesiEWePQsajEFgy05TpjejSwZCxgmT2XDXuPM33/BC7uqqQ1fhHbBzWID8QD3wIZMYwK+t7EI2ZzX3ma7YlY7YmkJ8RQNGEJq3/soGqmgRdnYeJE1HwtLDpjkDmR9NkmCnZtoeoHK5g+xgy4uXloJdsumygtCXjpPaz17sCq7i8NS3unzeDaN5190yHLFT6OW22JQKX3pUFAXnZrqI0+/JAJUHj8HzTS+q+qf0epbfK2rXNJUE94eDPh8R8mgqsT55eQ8JjBOB8le4wsI5jMwQdrGR3zJMfFaMfnFzAUnyMx4CDzb0dEKSyXHKSt2BH+7ya/qrEUvbGIcxllFKVV9v99tINl7+/VvJvKPELLyN3UrUmn4LCJzFU7qX4yhsfjFB4B+PIMS59bN3hd/Dzy33hY14PGdbo3cmnwkELmmhoyl3TReqOF1qufUFteyIYSE3kHa9meEeUBsZ+2/eRnlHEnKYdlh6Zis8ZgG+W1vcb94ynYqzOdry+wenIJVSMSee3gWuxWhXFWr310ny0hbXnw4+Yn51JxeRbujnYa21po+PV7bMhYx6qkRRw6VBxw71gi2z/ey5SwgdkUnWPaRztIt8PJzzrhaRd1B6Cg0vtGMiFlFpYd17m5NQfbjY9otUxiY5jgYwRt/3kQMPGw7vBjsH6G4iO6Y5mP/xqgxKBuJp5FVdsixofP0IBuOss0Wv4YJVoP5pK5vovkwhVUrY/lcVsMXnFaOGAvpFxvQkb0MhILjdpEOMwOCvY3krepk9YbzbRerad6UzavrozltXePUvSkToeIVjpDJDqxxVhbrj+mDxGTg4JXJrGtcD8HRl/n5CUTRe/PHfosprudxvNgWTpG3yoVZSJTXoDSX13DOTN0xiMsYeJE1HwtLHrjupn0pTvJO1zC6qwLrPZ/bbGQt7OGhUnBiQxfvRtph4aLe9i+DTPhxxQxjNIzkXE/2yYDcf6exaE+jI957kXfb1BdHmP4RsVtXfSYU0MDoMeN2wOm7/n+fbeF8pVl3JmxiavrJ3sLiNAR+4C46jl52APz91I+PzXot54bHdQShZlMvURLp2HHg9vtge+ZMY9QiEtSiEuaSt7STqrzM3l11wkKMooHbkQfG8M4C2y72oJ7hqIx+Oqk7XLwN62X9tFELNu3blINujvpvqFfA9fV41S5oGj3QYpSgmqdm59fJ2gm864b95+99WAe4yB9jIP0rLksy17HhJfKqP71LDY+b8ZijcHCEe58ZcL8RGiNedzuqMxieoklKVthw6UWOhKcnGQSm/xrCu0TmE4hDTcW4L7cDjNClxXeNwaq8452moHM0UaXqA7Mvasfg7EM8PymjNU7uih6v47k2kwKXisj6f0VumczvW+e2+n+2ow55GWU31+jH0Wi5Y9aeOurkoZWN9mKRiPX0c7VoC98S9NS1rJ9zazgcr/dhZFrVvXrpTcWGreJsHzrwf1HD5jMmEfGkJAWQ0JaDgWv1LMhpZAN1fXkPanjzkGj6fzBhRtU6Xbh/F/Aj/3/9un5cQutSxND444/z++ZMEfrxbQfI225zpgeLcwZC3gtPpsNe7sgbS3/nDJ03Z1n36YKhdeei9CZDcI383n3/ww572j62tDpomb9Eqrji6l55+fYfL1V0/fNmNQ913tc7/eyvbu3/Q+jcoWP4x2feftbIbPAQyRabZO3bb1AU9sKjZlCD7duXAfLXJ/8Rscx0bHHyDL66v5bE+aRpgdrzBNA9O7J9K1BdnarJ68t3rX2l7aw7ZR6D2cXNcuTsU8so/HPAG7qtuazrTnGuwbZbMbs+ww6dKu97247VQePhD5neoQ44A9fRfvmvujr5N0r5KIn6pcMdlI9czz24iOqZaYWHrEA3b0603GQVhwDx/ZR9Ru1kB46DpexIcwdYB7Vkczu8/vYdln9lG/P0ef/wR/CSKBOx9NWScUBVdqXV2K3J7PtcrCRmEaO4lGgx+Nfwj2ZOXYP5VvLaFIdy+1p3kKufTyl5wPsPqwv6CPu6UlYLn/Cuycu4HohlfH+t3smB8mzoeL9LZw7CwVPq/fdajN89hJIQJ03q52ui5q9ZTRYppKXEjD7Ey2fM1o/g8ZILAPu1rPtF5X8Yf5elqUopC/dSYGzkg3/1qIKS+Ht2fL0JDJpYduu4yFLv52nSphoT+bAjeHrYujzR4PET2N+PFTv30fIVsW7nVTtLQuzv9mjKjcXtRVbaFA/psP/BtZLbyw0aBNE8Ef3BTbYxzNxR32wniMsPDoK+KNa/zDoTicG+2zg/Ec0qo6sd57axztBxWch/SdTsbTt460P1Xp6aPrXbOz2Qs65hvG1qY62XHdMjxqx5JVMxYKJ0vkvDnl/vOvSOkqXt2CZv5YCvatUOi5w8jxYfhw79P35fUTP1wZLxzuFlH7ooaD45ySMDOg3aUyN6K732xeoOFBG7ZCXAUe/vQsbF+5Z+6ZNWLkC47j6upKu4+wua8cyO4f0KA8y/Qy1r2hJyaHA0sWBg6Ftq6e5jD3vQELxNBK8TxuK89GKQ0Eyqvu0/rr/WFX3esc894jozWSaY4lLg6r969g2agHJFhOP/tC7d8WStZaKX2dTVJKJ6+pc8jImYPG0U/v+PqouKSw7tYJkE4CJUT+IxUILGzLG8cHzk8hMSWT8E1ZMD1sYZ49BY9uHNpZUps82UfNOCQWeRRRkxWJyXaP2/UpuJc2l4FIl3YHPj3GQZoHyvSux/flnjDGbGJvgGOT+lUCiqJMPmz0VC0fYs86OZ0Ys5r9RGP9kNPabxJK3PId389eRldvMwjk5jDG76Dj1NruPQcKaybpnzuLyd7LxWi6rf5JMw0v+Ou+k7lQZFV9MpmiGiYoPA55PW0DC1jJWz8nHvfTnxFvcOC8dZ8+HJuYsTGTb7sDUzdj+0QGH97F9699TkGLFNCqW5DFmLEk5FFjqqVqSi6f052Q/Ycb129NUV7STvDSHuh39tW7OWMDGpHpWv5SMc+ly8n5kBdcnVO+opNUylVeTfA2EyUHRG8U0zNtPdkY7RaU5pCtmXL95j91V9fTM2MSpwL0wEXxBF/YJTKeSisOQvDU+YE28mfFpU2HuGWqZREXIqSnaDJ+9BBP30k5eu5bLhqxkbs5fxPS0mD6fq76qUHp0LemBZRAtnzNaP0NAfyxzU7ephApmUf2K762i7yCgCS8tYXdSLct+5Fc0vD3zWA6v7a8nt3gVWV9eZ/5L07Bb3HScfY+3Drfw+NKjIcvGooExfzRKLAVvrKBh9hayJ14nr2gWmU9a8XR9xMnyI3Sn5ZBtOU5N3/PeDt229VvIL+5m2cyJfbHkpGkWpRmVwUv4Iviffr30x0L9NuElrD+OnErB+re5uKaQtK65Xj1x0nxsK9vaTBQsSdW3P0Z3OmaS84pJOLyfgjkeXpub47WtU2+z+7NU5syvZ1tAf8r8/FrKS9rJeyWT1kuzWDijvx4qznrI3lsb/a0fYKgt1x3To4j5+Z00Gzp1x8Xvm67TMLL/387fNtNUe4bqZjfWmZs4tTxVIz530Xr1Ov2vej2+tu0MDaMnUTFT78xnJKLna0PlkdHxJNBJVeF46uInkZk5gfFPxmDGzONPxWINWA2it96dV/exocJB9Zyhx8xot3dh48I9bN+0CN9/iKXgjUU0zC4Llstvk9ZZVC/VsfLCINHqKzJyEr/YmkPr3OC21XnpOHsOXKd3xlpO5ffv+zUS56MWh0ZOYtneWbTmriKr9QJzSn/Wr++B6/QG1r3RMc+9wnvIbPgrTLSPWw5z9LnzI7F+TpJw+I7WDv5tj7hVu1ksnen/e4LIWrxZnLulOv75mzbxwcIkoTyTIXJ/muG9k7PvE3j3kBj4qog/dYsr+18WWc/4js1+dqZYX9Mhen3yq3/X2/q2WDotwZdXhPsHIx2LrPW8EZ100StuVvbr1S+HQbnClF/P/9/e3QdFdeUJH//uTurpbLnb8zzUtqlsdadM8ZIs4Gw1uCkCayHEF8gTpY1ByDCB0QRGMhA1qGHiW3xL0ImLCgXarBhIjI24I4gb1GQgbAK6jkA5ApVEqLHS1KaWXt2la5JKP5Ot8/zRzUu/QWMaRfP7VFlW3b597u+el8s9fc+557Mz6tCrY3E+ueyX6lBz/22sNTWkrtW9oXJH8tQYr7J3n1TXh0dicX8t9vBnJ8fVn1iV9mqFunLT975KWdVvd69UC4zeyx2ooYvqyGj80WrBqjfU6evfuuq0x+vj/zSkPq1+VWU/FT0W46+Oqiu+1ggauqje+dULbvVpc7WP14orNUlbmIxreRK3JUtcRl497aOM/b8e3099mbD9TFyX/BtS1xreGmtHrvz81E8i/tqc/9emK//XpoDK53bPa7zJr2VfNrzkth7muDNWn+6O9vEa9wnqsxppk2mjn/tukxOf21TzNOD2eBvrZCqllLrZpU7sfsHj+tyrhkfOwy0PhtX1hjfG2uk/pKgNlRf97KsmbH9Tuc4Efi0M8O+bUsr/9dtpqP2o2jwaX7RasOpV9c7lqdfWQNMZvvre2H7GeFVw4Iy6/kdXffF1nXFLN1alrXlDnbjqsVewry1T+Vs+lWu6P7e9/EggaXgvQ/LksjSV+6t/VB/0+F7bwN8SJsan0tSGA2dUwMv8OqOYJP+D1NYCXSJthNd1ZMi5LqsxXmU8P3bt07vqc7a5170dTlruQ+qDteHK6HPJHt8mjNeVZjD+3rk+nfC6EIy/b1Ouw4HEdbNLnT7wS6+4hv7kkcyUlgkc46sMgnavqJT61vqxeudXKz3+tvb6WRZoCtf5YFyHRgxd9IjxBbWzzsfSRYFeJ6fl3s+3P1NKqbvRufXNQfveeWR2ZNHgMW/JcaubmnUZ7OrJp7lrBs1Fm9T9eE5CCCGEENPDejKD+BItZWeq3JfR+3qA5j255L0birmritRAH0472tgVtoOHzrWQF4QX5gkhJhe8OZlBMUh/hwPCogj3eDGGJiSSsOkYijPt7sdzEkIIIYSYDnau93TD7BjCPEeCzgol/G9vYxBm70VOJ71IqnQwhbhj7sDbZacilNhnQmFnESm2j/n5imVE6TRgH6DlbAWnGzWYytPvsSd+9+M5CSGEEEJMBy3z5i9Fd6yU7IVdLM9bRrJeBw4rvR+e4p13+4jdUEfyVKbYxhTTVTttAQshfJhhw2WdbB3VHHz3DO3/1ke/DXAthL38hWJypmHi/p1wP56TEEIIIcR0sH/eRI35KL+93OdaXF5DWHwiz656mZyUyKC/VEYIEVwzspMphBBCCCGEEOLeNMPmZAohhBBCCCGEuJdJJ1MIIYQQQgghRNBIJ1MIIYQQQgghRNBIJ1MIIYQQQgghRNBIJ1MIIYQQQgghRNBIJ1MIIYQQQgghRNBIJ1MIIYQQQgghRNBIJ1MIIYQQQgghRNBIJ1MIIYQQQgghRNBIJ1MIIYQQQgghRNBIJ1MIIYQQQgghRNBMvZPZVYLBEEFZ1zREc5/oOWYiJsaE+feOgL9ja8zFYMil4atpDOx+c+sCW+ZHEF/UhO1uxzLD3E4dDD4bnYdzSYqJcKvbtnMFxBvmsavVPj2H/aqePEMEeY1jtWJm5IcQQgghxA/DA3c7gPvSdw5stkG+vOkANHc7mvvb12DttzEM6O52LDPJDKiD9g9LMO25RHLBHrbOD2NuiHP78FcDWHHg+O4OBjMD8kMIIYQQ4odCOpnTIDq3mf4MBxqt3MxOq5DF7L54ha0/0n6PbkM3ZYYMrpW3Y067x7qpX9WT98Rm5jZ+QWGM+0czoQ46vrEDcSzPTif54bHtYaua6V9xZ2ObCfkhhBBCCPFDIZ3MaSI3s3eI5vt0MAGHnf8OVix3muP/MdGA05lcB+9GbDM5P4QQQggh7iduczJtHdVsyU8l3hCBwTCXpNVF1HQEMtvNQf+5EjamzcNgiMAQk0DO68fp8XkHbPfaN7OokpbBwOZKdR6MwBBTSo/PY1bT7hmua35W4Vkb2C5hLjKRFOMxp9R2iZrXM1xzxyKIT8tm18lutxt455xJE5YbPoK61cRGQwSph/vG7etrfqXr3DMSiDFEYDDMw1RU6R3zeLZL1LyejWm+M7aYhRlsOXYJWwBDDUfz6rtBWg6OzI2bS1JBCc39jtH0zY1LasgAABFGSURBVEWuMnflYectH4nZ+2g+WEDmwrnO/J6fysaDTfS7lbGNhvwIDOuasGGj83DBaNzxaQWYfzd2oo5PdhBjiGDjOT/dpBvHyZnoc8D5FDICw8HusU1dJRgMcyn7PTj669m12pXXMQnk7Kmn/2uPWMNyMQPNBQnO8/KYy+e7zEpo/twjrgDqmf3zJspc20fypOxcn4+O4mTtyXXe83fQDuxLixiNfeR43nUw8LIZ9Z2N9mNF5IyUuee//Ho/c2Gd8cUUtAFtFD7h47se87rd2nXjjtFjxizMYFfjAL6uDr7y0+znenXH8+OW5zWlgLLWQZ+xCSGEEELcb1ydTAed5SaWZJTS/qNENtXWYqndxrOaNrZkJDtvnCdgO1vAytzjWB9/GXNdLTXbl6L5ZAepL5TSM/7u0DGAZV0CSbmnGH5ivWvf5zAMVpDzpIktHwZ4E2b7T1oPmkja04c2azuWulrMxYvRfFJC5hITZV3et6SOz45S+GwR10LS2VReS+oc53Z7xw5MMdkcHNDz/PYqLHX7eeUJaC7KYMHqSnpcnRLd/GVk0kfNh31eadsvn8eCkZyUyAmCHqRlWwZJudW0hyxmU1UtltrXePqB8xQuMXHw33zE3FVK5pJsDg7oeHpDFZa6KrY9p6e/LJslWaV0fu3jMF551ceRDals+SyUtftrqSnPIvxqNXkrC2j4XT2FS3JpeSCdrXW1mAvjcJwrwbSqxD3twSY2/l8TeadshGW96czv1ZFYa4pI8ixjAEcvlnXJFF7V8/OdtViqikl4sI1dzyaz5UNnT0kzP501MWB5vwmr95nTXldCiy4LU5I2gJP0/v5//2spGSuPY59fTFldFWU5oVw/vJmkn1bSA4CWhPxaLJWrSQAS1u7HUleLpa6WV54YOeYgzUXJzvr6k5fZU1eLpWo9sd+cIm9hMhvPetdXf/XMeraAlIVFnPjGyC/erHXVMzsnck2kFLnnweTtKZTUulosby4GIPPN2tHYR47nP2smLxtXFDRvSCazbIDZz22jpq6WmvLVrvSNbKquxZL/JL5LxxmfeW0kEElh5Vh8ltHtPtjstJabWPm+neQNVVhq97AqfABzQSoZVe7tzvrhZrIXFrHvspbk4v1Y6qrYlKqhpSCZzMpLk2TCNOeHo5uyVdls+UTDs65ryi8eH+RYduqk11IhhBBCiPuCUkqpfz+pcvXhKuXXF9W3arwh9cGr4Uq/pEJdG9nU+ZbS68PVoc6xfU6vCVf6l06qL8d/tadCpejD1eYLw6ObrplTlF6fog51uh9FKas6vTZa6Y2vqt/eVBO6ciBc6fXhSr/sLXXljx4f/rFLHVoWrvRL3lJXRg7hOje9/iV1wuqx/83zarMxXBnXesSulPq28y2Vpg9XaebekS3q090eeeGK/cQL4Uq/5qQaGsmRhpeUXv+SOv3vY3sNX3hVGfXRquCUZxBKDbe8oVJcMY5+59sudWiJs0yGPb9gPakKjONj820kr4y7P3Yv1z+8p7L1zs+ya/vdz/vyWypFH65yG4bGpRPtjM0z9Kv/6FHGrrqgD1dpB7rcj/nHi2rvknClf+G90bwebv6l0uuT1JEej3RdZZZd551X7rrUIX240h/oGtvkqp96o3e8X556Sen10Wpv+7jIXMcaf74jRsrRq96ob9WVAynu9XWiejZyDB/n46xn0d55GEB78m6L3rGP1cGplc3o8Vo82qqr7hQ0eefX5DGM3+4e92hd9WqLVmfcxjfUpyOhjG+3f/I46M2P1c4lzrTGl+kdzQ9Xuey9PH7HYe9rqRBCCCHEfcr5JFO3jLd7r1BXGIcGcNjt2O127HYN4bFx0NtFv9+lNTRo/w/QeYGWrsGxYW1R+TRbv2D3opFnHd20Vg7AypfJifGcG6XHtK6YBFsTlk8C+aVfQ+Fr64md5bF5lpG817LQ9VbzwWWPx2trfsZyvfsm2yf11Nj0rMlNx+B5hJj1bFwDnZVn6HQdc15SFrreejp6x+14o43mVshMWzLB201ttPymCVvUy/xihd7rU23Sel5Z6bGx9zzHekNZnhwJo+Xh+qddwPIV0PnPba6nchOJZFNWovu8xTmJLE8BWEpOWqj7ef/9ApKA5htjT+miV7XT21uOSQ985xiLY04MSUBN34DHMZfyyiqj+zFnxfFUKtDaz5eOkfP+GYW6QQ6fveQ2HLKnsZJm3VJyFnrnVaCi89c74x3HEL+YVBx03QjkibmN9nNt8MIyntJ65L/dQfjCdJJtTbR0egx29VXPLl+gmaUsn6/1SMeOI2wZyxc5qGm95Bo2G2h7ul2Blc0I7V96tNWH9YQBjv/5nmH45Kst6klISQRbN9aRJVDGt1vPWeUhiaxdt3gKx5yG/ND8mGigo6WJ/tGh51pS93+B9Vw+0VOITgghhBDiXuS8RXtAg9bRjXnHDt45OeBj+GLiBEloSS6uY/d/5bIlLZktOh0JSYsxLUrnqaRIdCP3ZF/1c80GqfFG30Ps5oQSA5TdGGTyxSjiiHjU90s8NI9GMg/otQ4CYx2ohEf1Xi+I+fJGG7Ca2CifKfHI43FgG8D6FcQ+DJr4ZazSHefwR93kRRkBsHbU08JSauInuvkfxHoWWGv0c4OpJTo2Ek6ObbFZB7AxwK60eezym+6wz7lq7owYHvbcpnGWfFQYs73C1vAXnlu0YG0sobDsFC2fBzB3dn4M4T6y45E5icAgtlvAw4AmjueLjZQVlXI6o47MOcCtC1jMg0TnlZMcMvmh/Il/PNR748NhzAX22QJZn9FVZhQR867/vVK/cc8P//UM8p5o8p/QMyNlGWB7ul2Blk1UIstjSjn8dglz97xIwmwNOAZpKSvBjJFf/910vIk3kagw7606QyjQ5oxtzmTtFrSPP0kCFwI75HTkR1Q+5qpBNr5eRFJ5EYaYOJJTl5K6cAkJYd/3RwIhhBBCiJnP2cm8dYEtSwqomRXH1qrtRBn0zDU4b4aGzhaQ9NokqWiN5FReIXPPAD1Xu+jpaMOyx8TG1yPZ+k4deT+5+2911M4Kxs2dkaQ8PfvMZ2hfYyRB00dzbR+6gmISpuXeMY5ff1TO016dxBEaP3Pi3Pd50F/2P/rXPBRAFD1VGaTuHCQht5ianZE8Eh7KbA1AN4ejcinz/MKP/xcPBpAugGHhz8ikiJpzfWSuicT60VFqbImUpU00v3Vy/3tWkOpcQRW9+Ub/n2vcS8B/Pcuipnc98/wnNFaW09meAi6bSPLeXM8HKaXkJVWPbZ5jZNP75c4fBIJugro6XaYpPwwpe7As3Ib18256ej+m/dwBCvds5sGV+2ncv1TWdBVCCCHEfe3PAWwd9dTYIO/NKvJS4kiI0qPVatFqNfzHHyZ5icbI8EkHaEJCiU1KJ2dzOQ3nqsijj12WNucwwIfDmKuD5o5u38su9PfRBaTOCWSI5CW++IPvJ2qOP/RxBYgyTJ6O82nFBTp7fX3q4PrVS6ALdXsSGJ3yIgm2U7R3OqC3jdO9GlYtiptkGQ09hmeAj7r9DG+109Pp/mITnSEUHd18eVPjKgv3f3fuXtw1zHl+Mb/elkVyvJEwnSuOW4N0TZ7AxEIWk7lBT4+5nvZblzhR0o2u4EVS/Xas7xRXmfUOMuwj/0dWw9D8aPKUnPWsj6FbPtIZSehHrv8DbU/T7etuyl4v5csVe+jovUKv61//J3UUzr+7XaSJ2y3YP7tIe7APOoX8cLiGVPOABkNUHKkri9ld3U7jXiPWk6Wc9hO3EEIIIcT9wm0JE4fHshiO3mrMhydJwX6BXVHzWPB2m/vQzVk6HpoNfONwbTeSlB8KJyuo8Xr76yAN5aW065aSGdANrIOyvT7ervp1N+a9x7Hpskh+YvJumG5+Ojm6QQ5X1XsNEXZ0lXLoGMTmLyN2/AdzEjElOShrvUTnJ/X0RL1MUsykRyL52aXoeis48s/e8wHtraUcOumxMWoJq6J8n6ejq4SMqHkUnruTb6p0eAzNtdFsLgnCzbyG2LQXSbYdx7yulDKbkU0Zk3Xag2jWj5kNWIc881LnnAvYWsK+Rs8yG6ThtQSiFpRyJYC5ibonFpNKN/sOeNcza2MBC6ISOHzVlbsBtydG5/79x81gdzvttOzNZl9XqHPe4135ccM/t3bruZTPrTYOHghwqGzAppYf1983ERWV7bXc0Y9DdIBt3PxNB/ZA3hAthBBCCHGPeQBAF59Ojq6NmqIMHIUvYnpMi+33Z7CY+0jYkE7L20P+UwhZSs7Oo/x2Wy5Jg6vZtHIBOqx0ndzLvl4NOUWJo0PDon+6n60XM9iVlsC1NetZnhSKxnaR5versXToKazbHuA8vHQ2JbdhSukjrzCdZL0O++B5Tpcdp/lGKJsai0kI5G44ZDG/2JtOz+rNpH11iTU/XUaUzo61tZ5Dhy/x7YrtNGZ7DtvU89SKRCgoIFfnIDo/MaAXeWgXFfP2qj5y1iXT+VEWr6QtwaCx0nvuOIc/1LB8lZGeY+O+oDGS92Y+7S9VjjtPLbbfvcfBmjaGV+yhceXtvxgncM4fB/btLCE7f8hZvo4BWhpLOa3JojCl2nu47FTNWUpObgUbqrph5X6enpahmH5oI4lOgprKHeyb/TIJOg0PPR5HWAjo0rZj/lcTeQWp2DpWk5nyJDpHH83vV1DTqg+8nj2cztbKNjLy3etZ/9n3OPJuN49sqGNtvCuhKbQnwowk6aCs/HXC/+dnhGk1RMQav/+8TTTMfjQSHd3sSpnLiUWLSZ0fx7zHDGge1DE3KnT0Se5dEbKYtfvT6cneTHxn01jb+P0ZLOYLaEzpJPfWB/GAU8uP6JXF5BwvYOOzJjoLX8T0mA775/XUlF2AmPUk/QTATsu2BHKO6dl6rpk8P/NLhRBCCCHuRc45mSGL2X2+lkdKdvDOtiIsaAhb9BxrTzZgspeyb6JOJhC9qoHzj1Vz8J+OsjO7GhsawhYtZvdvisn5+3Fz1GZFklfdQnzjUWqqS8k7bAedjuSU9VjKV5MQ8Ci8vyJ+bR2tj1VwpHIHmV0j6RRj+c1U0gHDoj3UXVyMpaKCd3bk0m8DQ8xinq9qICcl0uecR+eamW1YbEY2LQp07qCO5J0NdCRVc+jwe+zLPY4NLbErX6TsfD4J1hLMx9zf0qqJWY/l/JPUlFZwuqwI8w3QPWbk6cJaNq2KC2A+ZnBE59bROruUXWXHKcyuhjmhZGaV8/GaUFryqydPYFJa5j0ZB1XdbF299I6dl5OezDfLub5tB5YC5/zSTY1fUBji/Cx1fwutiyo4cuwUO7MrXWX2HObW9aSGBd7TMjxTzrnwJmrMRznhVs+ayUsJdXsiFnB70sSx9t1ibK9XsCX3ApBI2eUqTN97qLGG6JXb2XQ1l42dWh76to+GbU3jfkwIJae6it2L7sSPHL7pkpzttqa0lBMlRZhd+fnz8hby4gcpq6rnWtCONsX8CFnM7n9pIOFYBUeqi8i8gbPN5Oyn9aWlhLnSnP03oeh0oPF8Q64QQgghxD3uz5RS6m4HMRWdByMwvb2aBmux+zBWcQ8bwJKdyka201Gb5bWcjLjTHLTvnUdmRxYN7xe7LRXkuNVNzboMdvXk09y1/geyHIfkhxBCCCHEVPz55LsIMb0cHe+xr1VD4ZrnpIM5IwzS3+GAsCjCPdai1YREEnYnhzPPCJIfQgghhBBTIQO1xF1mo/nd49iStvN8/Ex4rYyAUGKfCYWdRaTYPubnK5YRpdOAfYCWsxWcbtRgKk//AT21k/wQQgghhJgK6WSKu6v3FEfOQmbVUnmKOYNE5zbTFVXNwXfPjM4hBS2xzySytq6YnPgf1kqPkh9CCCGEEIG75+ZkCiGEEEIIIYSYuWROphBCCCGEEEKIoJFOphBCCCGEEEKIoPn/OtBNKZezDfMAAAAASUVORK5CYII=)"
      ],
      "metadata": {
        "id": "DpeJGUA3kjGy"
      }
    },
    {
      "cell_type": "markdown",
      "source": [
        "# **General Guidelines** : -  "
      ],
      "metadata": {
        "id": "mDgbUHAGgjLW"
      }
    },
    {
      "cell_type": "markdown",
      "source": [
        "1.   Well-structured, formatted, and commented code is required. \n",
        "2.   Exception Handling, Production Grade Code & Deployment Ready Code will be a plus. Those students will be awarded some additional credits. \n",
        "     \n",
        "     The additional credits will have advantages over other students during Star Student selection.\n",
        "       \n",
        "             [ Note: - Deployment Ready Code is defined as, the whole .ipynb notebook should be executable in one go\n",
        "                       without a single error logged. ]\n",
        "\n",
        "3.   Each and every logic should have proper comments.\n",
        "4. You may add as many number of charts you want. Make Sure for each and every chart the following format should be answered.\n",
        "        \n",
        "\n",
        "```\n",
        "# Chart visualization code\n",
        "```\n",
        "            \n",
        "\n",
        "*   Why did you pick the specific chart?\n",
        "*   What is/are the insight(s) found from the chart?\n",
        "* Will the gained insights help creating a positive business impact? \n",
        "Are there any insights that lead to negative growth? Justify with specific reason.\n",
        "\n",
        "5. You have to create at least 15 logical & meaningful charts having important insights.\n",
        "\n",
        "\n",
        "[ Hints : - Do the Vizualization in  a structured way while following \"UBM\" Rule. \n",
        "\n",
        "U - Univariate Analysis,\n",
        "\n",
        "B - Bivariate Analysis (Numerical - Categorical, Numerical - Numerical, Categorical - Categorical)\n",
        "\n",
        "M - Multivariate Analysis\n",
        " ]\n",
        "\n",
        "\n",
        "\n",
        "\n",
        "\n",
        "6. You may add more ml algorithms for model creation. Make sure for each and every algorithm, the following format should be answered.\n",
        "\n",
        "\n",
        "*   Explain the ML Model used and it's performance using Evaluation metric Score Chart.\n",
        "\n",
        "\n",
        "*   Cross- Validation & Hyperparameter Tuning\n",
        "\n",
        "*   Have you seen any improvement? Note down the improvement with updates Evaluation metric Score Chart.\n",
        "\n",
        "*   Explain each evaluation metric's indication towards business and the business impact pf the ML model used.\n",
        "\n",
        "\n",
        "\n",
        "\n",
        "\n",
        "\n",
        "\n",
        "\n",
        "\n",
        "\n",
        "\n",
        "\n",
        "\n",
        "\n",
        "\n",
        "\n",
        "\n",
        "\n"
      ],
      "metadata": {
        "id": "ZrxVaUj-hHfC"
      }
    },
    {
      "cell_type": "markdown",
      "source": [
        "# ***Let's Begin !***"
      ],
      "metadata": {
        "id": "O_i_v8NEhb9l"
      }
    },
    {
      "cell_type": "markdown",
      "source": [
        "## ***1. Know Your Data***"
      ],
      "metadata": {
        "id": "HhfV-JJviCcP"
      }
    },
    {
      "cell_type": "markdown",
      "source": [
        "### Import Libraries"
      ],
      "metadata": {
        "id": "Y3lxredqlCYt"
      }
    },
    {
      "cell_type": "code",
      "source": [
        "# Import Libraries\n",
        "import numpy as np\n",
        "import pandas as pd\n",
        "import matplotlib.pyplot as plt\n",
        "import seaborn as sns\n",
        "import nltk\n",
        "nltk.download('stopwords')\n",
        "from nltk.corpus import stopwords\n",
        "from nltk.stem.snowball import SnowballStemmer\n",
        "import nltk\n",
        "nltk.download('averaged_perceptron_tagger')\n",
        "from sklearn.feature_extraction.text import TfidfVectorizer\n",
        "from wordcloud import WordCloud, STOPWORDS\n",
        "import re, string, unicodedata\n",
        "from nltk.stem import LancasterStemmer, WordNetLemmatizer\n",
        "from sklearn.feature_extraction.text import TfidfVectorizer\n",
        "from nltk.tokenize import TweetTokenizer\n",
        "from nltk import word_tokenize, sent_tokenize\n",
        "from sklearn.decomposition import PCA\n",
        "from sklearn.cluster import KMeans\n",
        "from sklearn.metrics import silhouette_score\n",
        "from sklearn.cluster import AgglomerativeClustering\n",
        "import scipy.cluster.hierarchy as shc\n",
        "from numpy import unique\n",
        "from numpy import where\n",
        "from matplotlib import pyplot\n",
        "from sklearn.datasets import make_classification\n",
        "from sklearn.cluster import DBSCAN"
      ],
      "metadata": {
        "id": "M8Vqi-pPk-HR"
      },
      "execution_count": null,
      "outputs": []
    },
    {
      "cell_type": "markdown",
      "source": [
        "### Dataset Loading"
      ],
      "metadata": {
        "id": "3RnN4peoiCZX"
      }
    },
    {
      "cell_type": "code",
      "source": [
        "from google.colab import drive\n",
        "drive.mount('/content/drive')"
      ],
      "metadata": {
        "id": "1n_uz0i5jfOu"
      },
      "execution_count": null,
      "outputs": []
    },
    {
      "cell_type": "code",
      "source": [
        "# Load Dataset\n",
        "df1 = pd.read_csv('/content/drive/MyDrive/NETFLIX MOVIES AND TV SHOWS CLUSTERING.csv')"
      ],
      "metadata": {
        "id": "4CkvbW_SlZ_R"
      },
      "execution_count": null,
      "outputs": []
    },
    {
      "cell_type": "markdown",
      "source": [
        "### Dataset First View"
      ],
      "metadata": {
        "id": "x71ZqKXriCWQ"
      }
    },
    {
      "cell_type": "code",
      "source": [
        "# Dataset First Look\n",
        "df1.head()"
      ],
      "metadata": {
        "id": "LWNFOSvLl09H"
      },
      "execution_count": null,
      "outputs": []
    },
    {
      "cell_type": "markdown",
      "source": [
        "### Dataset Rows & Columns count"
      ],
      "metadata": {
        "id": "7hBIi_osiCS2"
      }
    },
    {
      "cell_type": "code",
      "source": [
        "# Dataset Rows & Columns count\n",
        "df1.shape"
      ],
      "metadata": {
        "id": "Kllu7SJgmLij"
      },
      "execution_count": null,
      "outputs": []
    },
    {
      "cell_type": "markdown",
      "source": [
        "### Dataset Information"
      ],
      "metadata": {
        "id": "JlHwYmJAmNHm"
      }
    },
    {
      "cell_type": "code",
      "source": [
        "# Dataset Info\n",
        "df1.info()"
      ],
      "metadata": {
        "id": "e9hRXRi6meOf"
      },
      "execution_count": null,
      "outputs": []
    },
    {
      "cell_type": "markdown",
      "source": [
        "#### Duplicate Values"
      ],
      "metadata": {
        "id": "35m5QtbWiB9F"
      }
    },
    {
      "cell_type": "code",
      "source": [
        "# Dataset Duplicate Value Count\n",
        "df1.duplicated().sum()"
      ],
      "metadata": {
        "id": "1sLdpKYkmox0"
      },
      "execution_count": null,
      "outputs": []
    },
    {
      "cell_type": "markdown",
      "source": [
        "#### Missing Values/Null Values"
      ],
      "metadata": {
        "id": "PoPl-ycgm1ru"
      }
    },
    {
      "cell_type": "code",
      "source": [
        "# Missing Values/Null Values Count\n",
        "df1.isnull().sum()"
      ],
      "metadata": {
        "id": "GgHWkxvamxVg"
      },
      "execution_count": null,
      "outputs": []
    },
    {
      "cell_type": "code",
      "source": [
        "# Visualizing the missing values\n",
        "sns.heatmap(df1.isnull(), cbar=False)"
      ],
      "metadata": {
        "id": "3q5wnI3om9sJ"
      },
      "execution_count": null,
      "outputs": []
    },
    {
      "cell_type": "markdown",
      "source": [
        "### What did you know about your dataset?"
      ],
      "metadata": {
        "id": "H0kj-8xxnORC"
      }
    },
    {
      "cell_type": "markdown",
      "source": [
        "Dataset consists of 7787 rows and 12 columns "
      ],
      "metadata": {
        "id": "gfoNAAC-nUe_"
      }
    },
    {
      "cell_type": "markdown",
      "source": [
        "## ***2. Understanding Your Variables***"
      ],
      "metadata": {
        "id": "nA9Y7ga8ng1Z"
      }
    },
    {
      "cell_type": "code",
      "source": [
        "# Dataset Columns\n",
        "df1.columns"
      ],
      "metadata": {
        "id": "j7xfkqrt5Ag5"
      },
      "execution_count": null,
      "outputs": []
    },
    {
      "cell_type": "code",
      "source": [
        "# Dataset Describe\n",
        "df1.describe()"
      ],
      "metadata": {
        "id": "DnOaZdaE5Q5t"
      },
      "execution_count": null,
      "outputs": []
    },
    {
      "cell_type": "markdown",
      "source": [
        "### Variables Description "
      ],
      "metadata": {
        "id": "PBTbrJXOngz2"
      }
    },
    {
      "cell_type": "markdown",
      "source": [
        "![image.png](data:image/png;base64,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)"
      ],
      "metadata": {
        "id": "aJV4KIxSnxay"
      }
    },
    {
      "cell_type": "markdown",
      "source": [
        "### Check Unique Values for each variable."
      ],
      "metadata": {
        "id": "u3PMJOP6ngxN"
      }
    },
    {
      "cell_type": "code",
      "source": [
        "# Check Unique Values for each variable.\n",
        "for i in df1.columns.tolist():\n",
        "  print(\"No. of unique values in \",i,\"is\",df1[i].nunique(),\".\")"
      ],
      "metadata": {
        "id": "zms12Yq5n-jE"
      },
      "execution_count": null,
      "outputs": []
    },
    {
      "cell_type": "markdown",
      "source": [
        "## 3. ***Data Wrangling***"
      ],
      "metadata": {
        "id": "dauF4eBmngu3"
      }
    },
    {
      "cell_type": "markdown",
      "source": [
        "### Data Wrangling Code"
      ],
      "metadata": {
        "id": "bKJF3rekwFvQ"
      }
    },
    {
      "cell_type": "code",
      "source": [
        "df1['add_year'] = pd.DatetimeIndex(df1['date_added']).year\n",
        "df1.head()"
      ],
      "metadata": {
        "id": "soi_2GZUKevB"
      },
      "execution_count": null,
      "outputs": []
    },
    {
      "cell_type": "code",
      "source": [
        "# Write your code to make your dataset analysis ready.\n",
        "df1[['director','cast','country']] = df[['director','cast','country']].fillna('Unknown')\n",
        "df1['rating'] = df['rating'].fillna(df['rating'].mode()[0])\n",
        "df1.dropna(axis=0, inplace = True)"
      ],
      "metadata": {
        "id": "wk-9a2fpoLcV"
      },
      "execution_count": null,
      "outputs": []
    },
    {
      "cell_type": "code",
      "source": [
        "# Splitting the duration column, and changing the datatype to integer\n",
        "df1['duration'] = df1['duration'].apply(lambda x: int(x.split()[0]))"
      ],
      "metadata": {
        "id": "-WlM08kXEpLP"
      },
      "execution_count": null,
      "outputs": []
    },
    {
      "cell_type": "markdown",
      "source": [
        "### What all manipulations have you done and insights you found?"
      ],
      "metadata": {
        "id": "MSa1f5Uengrz"
      }
    },
    {
      "cell_type": "markdown",
      "source": [
        "Answer Here."
      ],
      "metadata": {
        "id": "LbyXE7I1olp8"
      }
    },
    {
      "cell_type": "markdown",
      "source": [
        "## ***4. Data Vizualization, Storytelling & Experimenting with charts : Understand the relationships between variables***"
      ],
      "metadata": {
        "id": "GF8Ens_Soomf"
      }
    },
    {
      "cell_type": "markdown",
      "source": [
        "#### Chart - 1"
      ],
      "metadata": {
        "id": "0wOQAZs5pc--"
      }
    },
    {
      "cell_type": "code",
      "source": [
        "# Chart - 1 visualization code\n",
        "plt.figure(figsize=(15,5))\n",
        "plt.title('Releases')\n",
        "plt.xticks(rotation=90)\n",
        "sns.countplot(data = df1, x = 'release_year' )"
      ],
      "metadata": {
        "id": "7v_ESjsspbW7"
      },
      "execution_count": null,
      "outputs": []
    },
    {
      "cell_type": "markdown",
      "source": [
        "##### 1. Why did you pick the specific chart?"
      ],
      "metadata": {
        "id": "K5QZ13OEpz2H"
      }
    },
    {
      "cell_type": "markdown",
      "source": [
        "To study about the years when the movies were releases"
      ],
      "metadata": {
        "id": "XESiWehPqBRc"
      }
    },
    {
      "cell_type": "markdown",
      "source": [
        "##### 2. What is/are the insight(s) found from the chart?"
      ],
      "metadata": {
        "id": "lQ7QKXXCp7Bj"
      }
    },
    {
      "cell_type": "markdown",
      "source": [
        "2017 has the most number of releases"
      ],
      "metadata": {
        "id": "C_j1G7yiqdRP"
      }
    },
    {
      "cell_type": "markdown",
      "source": [
        "##### 3. Will the gained insights help creating a positive business impact? \n",
        "Are there any insights that lead to negative growth? Justify with specific reason."
      ],
      "metadata": {
        "id": "448CDAPjqfQr"
      }
    },
    {
      "cell_type": "markdown",
      "source": [
        "No negative growth"
      ],
      "metadata": {
        "id": "3cspy4FjqxJW"
      }
    },
    {
      "cell_type": "markdown",
      "source": [
        "#### Chart - 2"
      ],
      "metadata": {
        "id": "KSlN3yHqYklG"
      }
    },
    {
      "cell_type": "code",
      "source": [
        "# Chart - 2 visualization code\n",
        "plt.figure(figsize=(35,8))\n",
        "plt.title('Max duration')\n",
        "plt.xticks(rotation=90)\n",
        "sns.countplot(data = df1, x = 'duration' )"
      ],
      "metadata": {
        "id": "R4YgtaqtYklH"
      },
      "execution_count": null,
      "outputs": []
    },
    {
      "cell_type": "markdown",
      "source": [
        "##### 1. Why did you pick the specific chart?"
      ],
      "metadata": {
        "id": "t6dVpIINYklI"
      }
    },
    {
      "cell_type": "markdown",
      "source": [
        "To study about the different durations for movies"
      ],
      "metadata": {
        "id": "5aaW0BYyYklI"
      }
    },
    {
      "cell_type": "markdown",
      "source": [
        "##### 2. What is/are the insight(s) found from the chart?"
      ],
      "metadata": {
        "id": "ijmpgYnKYklI"
      }
    },
    {
      "cell_type": "markdown",
      "source": [
        "Most of the movies have a average duration of 80-90 mins "
      ],
      "metadata": {
        "id": "PSx9atu2YklI"
      }
    },
    {
      "cell_type": "markdown",
      "source": [
        "##### 3. Will the gained insights help creating a positive business impact? \n",
        "Are there any insights that lead to negative growth? Justify with specific reason."
      ],
      "metadata": {
        "id": "-JiQyfWJYklI"
      }
    },
    {
      "cell_type": "markdown",
      "source": [
        "No negative growth"
      ],
      "metadata": {
        "id": "BcBbebzrYklV"
      }
    },
    {
      "cell_type": "markdown",
      "source": [
        "#### Chart - 3"
      ],
      "metadata": {
        "id": "EM7whBJCYoAo"
      }
    },
    {
      "cell_type": "code",
      "source": [
        "# Chart - 3 visualization code\n",
        "plt.figure(figsize=(15,5))\n",
        "plt.title('Ratings')\n",
        "plt.xticks(rotation=90)\n",
        "sns.countplot(data = df1, x = 'rating' )"
      ],
      "metadata": {
        "id": "t6GMdE67YoAp"
      },
      "execution_count": null,
      "outputs": []
    },
    {
      "cell_type": "markdown",
      "source": [
        "##### 1. Why did you pick the specific chart?"
      ],
      "metadata": {
        "id": "fge-S5ZAYoAp"
      }
    },
    {
      "cell_type": "markdown",
      "source": [
        "To study about different ratings"
      ],
      "metadata": {
        "id": "5dBItgRVYoAp"
      }
    },
    {
      "cell_type": "markdown",
      "source": [
        "##### 2. What is/are the insight(s) found from the chart?"
      ],
      "metadata": {
        "id": "85gYPyotYoAp"
      }
    },
    {
      "cell_type": "markdown",
      "source": [
        "Tv-MA has the highest count of ratings followed by TV-14 and almost 0 to NC-17,TV-Y7-FV and UR"
      ],
      "metadata": {
        "id": "4jstXR6OYoAp"
      }
    },
    {
      "cell_type": "markdown",
      "source": [
        "##### 3. Will the gained insights help creating a positive business impact? \n",
        "Are there any insights that lead to negative growth? Justify with specific reason."
      ],
      "metadata": {
        "id": "RoGjAbkUYoAp"
      }
    },
    {
      "cell_type": "markdown",
      "source": [
        "No negative growth"
      ],
      "metadata": {
        "id": "zfJ8IqMcYoAp"
      }
    },
    {
      "cell_type": "markdown",
      "source": [
        "#### Chart - 4"
      ],
      "metadata": {
        "id": "4Of9eVA-YrdM"
      }
    },
    {
      "cell_type": "code",
      "source": [
        "# Top 10 countries with the highest number movies / TV shows in the dataset\n",
        "plt.figure(figsize=(10,5))\n",
        "df1[~(df1['country']=='Unknown')].country.value_counts().nlargest(10).plot(kind='barh')\n",
        "plt.title(' Top 10 countries with the highest number of shows')"
      ],
      "metadata": {
        "id": "aDomDwNv9Hne"
      },
      "execution_count": null,
      "outputs": []
    },
    {
      "cell_type": "markdown",
      "source": [
        "##### 1. Why did you pick the specific chart?"
      ],
      "metadata": {
        "id": "iky9q4vBYrdO"
      }
    },
    {
      "cell_type": "markdown",
      "source": [
        "To study about the top 10 countries with the highest number of shows"
      ],
      "metadata": {
        "id": "aJRCwT6DYrdO"
      }
    },
    {
      "cell_type": "markdown",
      "source": [
        "##### 2. What is/are the insight(s) found from the chart?"
      ],
      "metadata": {
        "id": "F6T5p64dYrdO"
      }
    },
    {
      "cell_type": "markdown",
      "source": [
        "United States has the highest number of production of movies and Indonesia at it's least"
      ],
      "metadata": {
        "id": "Xx8WAJvtYrdO"
      }
    },
    {
      "cell_type": "markdown",
      "source": [
        "##### 3. Will the gained insights help creating a positive business impact? \n",
        "Are there any insights that lead to negative growth? Justify with specific reason."
      ],
      "metadata": {
        "id": "y-Ehk30pYrdP"
      }
    },
    {
      "cell_type": "markdown",
      "source": [
        "No negative growth"
      ],
      "metadata": {
        "id": "jLNxxz7MYrdP"
      }
    },
    {
      "cell_type": "markdown",
      "source": [
        "#### Chart - 5"
      ],
      "metadata": {
        "id": "bamQiAODYuh1"
      }
    },
    {
      "cell_type": "code",
      "source": [
        "# Chart - 5 visualization code\n",
        "df4 = df1[(df1['release_year'] == 2017)]\n",
        "df5 = df4[(df4['rating']=='TV-MA')]"
      ],
      "metadata": {
        "id": "TIJwrbroYuh3"
      },
      "execution_count": null,
      "outputs": []
    },
    {
      "cell_type": "code",
      "source": [
        "plt.figure(figsize=(50,7))\n",
        "plt.title('Movies releasing in 2017',fontsize = 25)\n",
        "plt.xticks(rotation=90,fontsize = 20)\n",
        "sns.countplot(data = df6.head(100), x = 'title')"
      ],
      "metadata": {
        "id": "zUEqOEXABehY"
      },
      "execution_count": null,
      "outputs": []
    },
    {
      "cell_type": "markdown",
      "source": [
        "##### 1. Why did you pick the specific chart?"
      ],
      "metadata": {
        "id": "QHF8YVU7Yuh3"
      }
    },
    {
      "cell_type": "markdown",
      "source": [
        "To study about the movie releasing in 2017"
      ],
      "metadata": {
        "id": "dcxuIMRPYuh3"
      }
    },
    {
      "cell_type": "markdown",
      "source": [
        "##### 2. What is/are the insight(s) found from the chart?"
      ],
      "metadata": {
        "id": "GwzvFGzlYuh3"
      }
    },
    {
      "cell_type": "markdown",
      "source": [
        "It tells us about the different movies releasing in 2017"
      ],
      "metadata": {
        "id": "uyqkiB8YYuh3"
      }
    },
    {
      "cell_type": "markdown",
      "source": [
        "##### 3. Will the gained insights help creating a positive business impact? \n",
        "Are there any insights that lead to negative growth? Justify with specific reason."
      ],
      "metadata": {
        "id": "qYpmQ266Yuh3"
      }
    },
    {
      "cell_type": "markdown",
      "source": [
        "No negative growth"
      ],
      "metadata": {
        "id": "_WtzZ_hCYuh4"
      }
    },
    {
      "cell_type": "markdown",
      "source": [
        "#### Chart - 6"
      ],
      "metadata": {
        "id": "OH-pJp9IphqM"
      }
    },
    {
      "cell_type": "code",
      "source": [
        "# Chart - 6 visualization code\n",
        "plt.figure(figsize=(15,5))\n",
        "plt.title('Added on Netflix')\n",
        "plt.xticks(rotation=90)\n",
        "sns.countplot(data = df1, x = 'add_year' )"
      ],
      "metadata": {
        "id": "kuRf4wtuphqN"
      },
      "execution_count": null,
      "outputs": []
    },
    {
      "cell_type": "markdown",
      "source": [
        "##### 1. Why did you pick the specific chart?"
      ],
      "metadata": {
        "id": "bbFf2-_FphqN"
      }
    },
    {
      "cell_type": "markdown",
      "source": [
        "To study about the movies added on Netflix in various years"
      ],
      "metadata": {
        "id": "loh7H2nzphqN"
      }
    },
    {
      "cell_type": "markdown",
      "source": [
        "##### 2. What is/are the insight(s) found from the chart?"
      ],
      "metadata": {
        "id": "_ouA3fa0phqN"
      }
    },
    {
      "cell_type": "markdown",
      "source": [
        "2019 has the most number of movies that have the most movies added on Netflix"
      ],
      "metadata": {
        "id": "VECbqPI7phqN"
      }
    },
    {
      "cell_type": "markdown",
      "source": [
        "##### 3. Will the gained insights help creating a positive business impact? \n",
        "Are there any insights that lead to negative growth? Justify with specific reason."
      ],
      "metadata": {
        "id": "Seke61FWphqN"
      }
    },
    {
      "cell_type": "markdown",
      "source": [
        "No negative growth"
      ],
      "metadata": {
        "id": "DW4_bGpfphqN"
      }
    },
    {
      "cell_type": "markdown",
      "source": [
        "#### Chart - 7"
      ],
      "metadata": {
        "id": "PIIx-8_IphqN"
      }
    },
    {
      "cell_type": "code",
      "source": [
        "# Average movie length over the years\n",
        "plt.figure(figsize=(15,8))\n",
        "df1[df1['type']=='Movie'].groupby('release_year')['duration'].mean().plot(kind='line')\n",
        "plt.title('Average movie length over the years')\n",
        "plt.ylabel('Length of movie in minutes')\n",
        "plt.xlabel('Year')"
      ],
      "metadata": {
        "id": "1JcuOrUafYCq"
      },
      "execution_count": null,
      "outputs": []
    },
    {
      "cell_type": "markdown",
      "source": [
        "##### 1. Why did you pick the specific chart?"
      ],
      "metadata": {
        "id": "t27r6nlMphqO"
      }
    },
    {
      "cell_type": "markdown",
      "source": [
        "To study about the average movie length"
      ],
      "metadata": {
        "id": "iv6ro40sphqO"
      }
    },
    {
      "cell_type": "markdown",
      "source": [
        "##### 2. What is/are the insight(s) found from the chart?"
      ],
      "metadata": {
        "id": "r2jJGEOYphqO"
      }
    },
    {
      "cell_type": "markdown",
      "source": [
        "The movie duration has decreased to a greater extent from 2000 to 2020."
      ],
      "metadata": {
        "id": "Po6ZPi4hphqO"
      }
    },
    {
      "cell_type": "markdown",
      "source": [
        "##### 3. Will the gained insights help creating a positive business impact? \n",
        "Are there any insights that lead to negative growth? Justify with specific reason."
      ],
      "metadata": {
        "id": "b0JNsNcRphqO"
      }
    },
    {
      "cell_type": "markdown",
      "source": [
        "NO negative growth"
      ],
      "metadata": {
        "id": "xvSq8iUTphqO"
      }
    },
    {
      "cell_type": "markdown",
      "source": [
        "#### Chart - 8"
      ],
      "metadata": {
        "id": "BZR9WyysphqO"
      }
    },
    {
      "cell_type": "code",
      "source": [
        "#Seasons in each TV show\n",
        "plt.figure(figsize=(15,8))\n",
        "p = sns.countplot(x='duration',data=df1[df1['type']=='TV Show'])\n",
        "plt.title('Number of seasons per TV show distribution')\n",
        "\n",
        "for i in p.patches:\n",
        "  p.annotate(format(i.get_height(), '.0f'), (i.get_x() + i.get_width() / 2., i.get_height()), ha = 'center', va = 'center', xytext = (0, 10), textcoords = 'offset points')"
      ],
      "metadata": {
        "id": "GJCpNuoQidnN"
      },
      "execution_count": null,
      "outputs": []
    },
    {
      "cell_type": "markdown",
      "source": [
        "##### 1. Why did you pick the specific chart?"
      ],
      "metadata": {
        "id": "jj7wYXLtphqO"
      }
    },
    {
      "cell_type": "markdown",
      "source": [
        "To study about the number of seasons per TV show"
      ],
      "metadata": {
        "id": "Ob8u6rCTphqO"
      }
    },
    {
      "cell_type": "markdown",
      "source": [
        "##### 2. What is/are the insight(s) found from the chart?"
      ],
      "metadata": {
        "id": "eZrbJ2SmphqO"
      }
    },
    {
      "cell_type": "markdown",
      "source": [
        "Many shows have only 1 season and followed by other. Only 1 show has 15 seasons"
      ],
      "metadata": {
        "id": "mZtgC_hjphqO"
      }
    },
    {
      "cell_type": "markdown",
      "source": [
        "##### 3. Will the gained insights help creating a positive business impact? \n",
        "Are there any insights that lead to negative growth? Justify with specific reason."
      ],
      "metadata": {
        "id": "rFu4xreNphqO"
      }
    },
    {
      "cell_type": "markdown",
      "source": [
        "NO negative growth"
      ],
      "metadata": {
        "id": "ey_0qi68phqO"
      }
    },
    {
      "cell_type": "markdown",
      "source": [
        "#### Chart - 9"
      ],
      "metadata": {
        "id": "YJ55k-q6phqO"
      }
    },
    {
      "cell_type": "code",
      "source": [
        "plt.figure(figsize=(15,8))\n",
        "p = sns.countplot(x='add_year',data=df1, hue='type')\n",
        "plt.title('Number of movies and TV shows added over the years')\n",
        "plt.xlabel('')\n",
        "for i in p.patches:\n",
        "  p.annotate(format(i.get_height(), '.0f'), (i.get_x() + i.get_width() / 2., i.get_height()), ha = 'center', va = 'center', xytext = (0, 10), textcoords = 'offset points')"
      ],
      "metadata": {
        "id": "TpVdvNkaHJCC"
      },
      "execution_count": null,
      "outputs": []
    },
    {
      "cell_type": "markdown",
      "source": [
        "##### 1. Why did you pick the specific chart?"
      ],
      "metadata": {
        "id": "gCFgpxoyphqP"
      }
    },
    {
      "cell_type": "markdown",
      "source": [
        "To study about the number of movies and TV shows added over the years"
      ],
      "metadata": {
        "id": "TVxDimi2phqP"
      }
    },
    {
      "cell_type": "markdown",
      "source": [
        "##### 2. What is/are the insight(s) found from the chart?"
      ],
      "metadata": {
        "id": "OVtJsKN_phqQ"
      }
    },
    {
      "cell_type": "markdown",
      "source": [
        "2019 has the highest number of movies added over all the years. 2020 has the highest number of TV shows "
      ],
      "metadata": {
        "id": "ngGi97qjphqQ"
      }
    },
    {
      "cell_type": "markdown",
      "source": [
        "##### 3. Will the gained insights help creating a positive business impact? \n",
        "Are there any insights that lead to negative growth? Justify with specific reason."
      ],
      "metadata": {
        "id": "lssrdh5qphqQ"
      }
    },
    {
      "cell_type": "markdown",
      "source": [
        "No negative growth"
      ],
      "metadata": {
        "id": "tBpY5ekJphqQ"
      }
    },
    {
      "cell_type": "markdown",
      "source": [
        "#### Chart - 10"
      ],
      "metadata": {
        "id": "U2RJ9gkRphqQ"
      }
    },
    {
      "cell_type": "code",
      "source": [
        "plt.figure(figsize=(10,5))\n",
        "df1.listed_in.value_counts().nlargest(10).plot(kind='barh')\n",
        "plt.title('Top 10 genres')"
      ],
      "metadata": {
        "id": "0U4Uh7BZKXAF"
      },
      "execution_count": null,
      "outputs": []
    },
    {
      "cell_type": "markdown",
      "source": [
        "##### 1. Why did you pick the specific chart?"
      ],
      "metadata": {
        "id": "1M8mcRywphqQ"
      }
    },
    {
      "cell_type": "markdown",
      "source": [
        "To study about top genres"
      ],
      "metadata": {
        "id": "8agQvks0phqQ"
      }
    },
    {
      "cell_type": "markdown",
      "source": [
        "##### 2. What is/are the insight(s) found from the chart?"
      ],
      "metadata": {
        "id": "tgIPom80phqQ"
      }
    },
    {
      "cell_type": "markdown",
      "source": [
        "Dramas and international movies have the highest demands and then the stand-up comedies "
      ],
      "metadata": {
        "id": "Qp13pnNzphqQ"
      }
    },
    {
      "cell_type": "markdown",
      "source": [
        "##### 3. Will the gained insights help creating a positive business impact? \n",
        "Are there any insights that lead to negative growth? Justify with specific reason."
      ],
      "metadata": {
        "id": "JMzcOPDDphqR"
      }
    },
    {
      "cell_type": "markdown",
      "source": [
        "No negative growth"
      ],
      "metadata": {
        "id": "R4Ka1PC2phqR"
      }
    },
    {
      "cell_type": "markdown",
      "source": [
        "#### Chart - 11"
      ],
      "metadata": {
        "id": "x-EpHcCOp1ci"
      }
    },
    {
      "cell_type": "code",
      "source": [
        "# Changing the values in the rating column\n",
        "rating_map = {'TV-MA':'Adults',\n",
        "              'R':'Adults',\n",
        "              'PG-13':'Teens',\n",
        "              'TV-14':'Young Adults',\n",
        "              'TV-PG':'Older Kids',\n",
        "              'NR':'Adults',\n",
        "              'TV-G':'Kids',\n",
        "              'TV-Y':'Kids',\n",
        "              'TV-Y7':'Older Kids',\n",
        "              'PG':'Older Kids',\n",
        "              'G':'Kids',\n",
        "              'NC-17':'Adults',\n",
        "              'TV-Y7-FV':'Older Kids',\n",
        "              'UR':'Adults'}\n",
        "\n",
        "df1['rating'].replace(rating_map, inplace = True)\n",
        "df1['rating'].unique()"
      ],
      "metadata": {
        "id": "mJMlESH8DRhX"
      },
      "execution_count": null,
      "outputs": []
    },
    {
      "cell_type": "code",
      "source": [
        "plt.figure(figsize=(10,5))\n",
        "df1.rating.value_counts().plot(kind='barh')\n",
        "plt.title('Number of shows on Netflix for different age groups')"
      ],
      "metadata": {
        "id": "jmY5eotjCvxu"
      },
      "execution_count": null,
      "outputs": []
    },
    {
      "cell_type": "markdown",
      "source": [
        "##### 1. Why did you pick the specific chart?"
      ],
      "metadata": {
        "id": "X_VqEhTip1ck"
      }
    },
    {
      "cell_type": "markdown",
      "source": [
        "To study about the different rating "
      ],
      "metadata": {
        "id": "-vsMzt_np1ck"
      }
    },
    {
      "cell_type": "markdown",
      "source": [
        "##### 2. What is/are the insight(s) found from the chart?"
      ],
      "metadata": {
        "id": "8zGJKyg5p1ck"
      }
    },
    {
      "cell_type": "markdown",
      "source": [
        "Most of the movies are for adults and then young adults and then the remaining"
      ],
      "metadata": {
        "id": "ZYdMsrqVp1ck"
      }
    },
    {
      "cell_type": "markdown",
      "source": [
        "##### 3. Will the gained insights help creating a positive business impact? \n",
        "Are there any insights that lead to negative growth? Justify with specific reason."
      ],
      "metadata": {
        "id": "PVzmfK_Ep1ck"
      }
    },
    {
      "cell_type": "markdown",
      "source": [
        "No negative growth"
      ],
      "metadata": {
        "id": "druuKYZpp1ck"
      }
    },
    {
      "cell_type": "markdown",
      "source": [
        "#### Chart - 12"
      ],
      "metadata": {
        "id": "n3dbpmDWp1ck"
      }
    },
    {
      "cell_type": "code",
      "source": [
        "# Chart - 12 visualization code\n",
        "plt.figure(figsize=(7,7))\n",
        "df1.type.value_counts().plot(kind='pie',autopct='%1.2f%%')\n",
        "plt.ylabel('')\n",
        "plt.title('Movies and TV Shows in the dataset')"
      ],
      "metadata": {
        "id": "bwevp1tKp1ck"
      },
      "execution_count": null,
      "outputs": []
    },
    {
      "cell_type": "code",
      "source": [
        "plt.figure(figsize=(10,5))\n",
        "df1[~(df1['cast']=='Unknown') & (df1['type']=='Movie')].cast.value_counts().nlargest(10).plot(kind='barh')\n",
        "plt.title('Actors who have appeared in highest number of movies')"
      ],
      "metadata": {
        "id": "-mtJFY1CGUrJ"
      },
      "execution_count": null,
      "outputs": []
    },
    {
      "cell_type": "markdown",
      "source": [
        "##### 1. Why did you pick the specific chart?"
      ],
      "metadata": {
        "id": "ylSl6qgtp1ck"
      }
    },
    {
      "cell_type": "markdown",
      "source": [
        "Study about actors who have appeared in highesr number of movies"
      ],
      "metadata": {
        "id": "m2xqNkiQp1ck"
      }
    },
    {
      "cell_type": "markdown",
      "source": [
        "##### 2. What is/are the insight(s) found from the chart?"
      ],
      "metadata": {
        "id": "ZWILFDl5p1ck"
      }
    },
    {
      "cell_type": "markdown",
      "source": [
        "Ge to know about the actors who have worked in highest number of movies and the pie chart of tv shows and movies"
      ],
      "metadata": {
        "id": "x-lUsV2mp1ck"
      }
    },
    {
      "cell_type": "markdown",
      "source": [
        "##### 3. Will the gained insights help creating a positive business impact? \n",
        "Are there any insights that lead to negative growth? Justify with specific reason."
      ],
      "metadata": {
        "id": "M7G43BXep1ck"
      }
    },
    {
      "cell_type": "markdown",
      "source": [
        "No negative growth"
      ],
      "metadata": {
        "id": "5wwDJXsLp1cl"
      }
    },
    {
      "cell_type": "markdown",
      "source": [
        "#### Chart - 13"
      ],
      "metadata": {
        "id": "Ag9LCva-p1cl"
      }
    },
    {
      "cell_type": "code",
      "source": [
        "# Chart - 13 visualization code\n",
        "plt.figure(figsize=(10,5))\n",
        "df1[~(df1['director']=='Unknown')].director.value_counts().nlargest(10).plot(kind='barh')\n",
        "plt.title('Top 10 directors by number of shows directed')"
      ],
      "metadata": {
        "id": "EUfxeq9-p1cl"
      },
      "execution_count": null,
      "outputs": []
    },
    {
      "cell_type": "code",
      "source": [
        "# Top 10 TV show directors\n",
        "plt.figure(figsize=(10,5))\n",
        "df1[~(df1['director']=='Unknown') & (df['type']=='TV Show')].director.value_counts().nlargest(10).plot(kind='barh')\n",
        "plt.title('Top 10 TV show directors')"
      ],
      "metadata": {
        "id": "hZ2U7ACnF-1L"
      },
      "execution_count": null,
      "outputs": []
    },
    {
      "cell_type": "markdown",
      "source": [
        "##### 1. Why did you pick the specific chart?"
      ],
      "metadata": {
        "id": "E6MkPsBcp1cl"
      }
    },
    {
      "cell_type": "markdown",
      "source": [
        "To study the top 10 tv shows and directors"
      ],
      "metadata": {
        "id": "V22bRsFWp1cl"
      }
    },
    {
      "cell_type": "markdown",
      "source": [
        "##### 2. What is/are the insight(s) found from the chart?"
      ],
      "metadata": {
        "id": "2cELzS2fp1cl"
      }
    },
    {
      "cell_type": "markdown",
      "source": [
        "The top 10 TV shows can be hence found out using this graph and also the top 10 directors of those shows"
      ],
      "metadata": {
        "id": "ozQPc2_Ip1cl"
      }
    },
    {
      "cell_type": "markdown",
      "source": [
        "##### 3. Will the gained insights help creating a positive business impact? \n",
        "Are there any insights that lead to negative growth? Justify with specific reason."
      ],
      "metadata": {
        "id": "3MPXvC8up1cl"
      }
    },
    {
      "cell_type": "markdown",
      "source": [
        "No negative growth"
      ],
      "metadata": {
        "id": "GL8l1tdLp1cl"
      }
    },
    {
      "cell_type": "markdown",
      "source": [
        "#### Chart - 14 - Correlation Heatmap"
      ],
      "metadata": {
        "id": "NC_X3p0fY2L0"
      }
    },
    {
      "cell_type": "markdown",
      "source": [
        "##### 1. Why did you pick the specific chart?"
      ],
      "metadata": {
        "id": "UV0SzAkaZNRQ"
      }
    },
    {
      "cell_type": "markdown",
      "source": [
        "Answer Here."
      ],
      "metadata": {
        "id": "DVPuT8LYZNRQ"
      }
    },
    {
      "cell_type": "markdown",
      "source": [
        "##### 2. What is/are the insight(s) found from the chart?"
      ],
      "metadata": {
        "id": "YPEH6qLeZNRQ"
      }
    },
    {
      "cell_type": "markdown",
      "source": [
        "Answer Here"
      ],
      "metadata": {
        "id": "bfSqtnDqZNRR"
      }
    },
    {
      "cell_type": "markdown",
      "source": [
        "#### Chart - 15 - Pair Plot "
      ],
      "metadata": {
        "id": "q29F0dvdveiT"
      }
    },
    {
      "cell_type": "code",
      "source": [
        "# Pair Plot visualization code"
      ],
      "metadata": {
        "id": "o58-TEIhveiU"
      },
      "execution_count": null,
      "outputs": []
    },
    {
      "cell_type": "markdown",
      "source": [
        "##### 1. Why did you pick the specific chart?"
      ],
      "metadata": {
        "id": "EXh0U9oCveiU"
      }
    },
    {
      "cell_type": "markdown",
      "source": [
        "Answer Here."
      ],
      "metadata": {
        "id": "eMmPjTByveiU"
      }
    },
    {
      "cell_type": "markdown",
      "source": [
        "##### 2. What is/are the insight(s) found from the chart?"
      ],
      "metadata": {
        "id": "22aHeOlLveiV"
      }
    },
    {
      "cell_type": "markdown",
      "source": [
        "Answer Here"
      ],
      "metadata": {
        "id": "uPQ8RGwHveiV"
      }
    },
    {
      "cell_type": "markdown",
      "source": [
        "## ***5. Hypothesis Testing***"
      ],
      "metadata": {
        "id": "g-ATYxFrGrvw"
      }
    },
    {
      "cell_type": "markdown",
      "source": [
        "### Based on your chart experiments, define three hypothetical statements from the dataset. In the next three questions, perform hypothesis testing to obtain final conclusion about the statements through your code and statistical testing."
      ],
      "metadata": {
        "id": "Yfr_Vlr8HBkt"
      }
    },
    {
      "cell_type": "markdown",
      "source": [
        "Answer Here."
      ],
      "metadata": {
        "id": "-7MS06SUHkB-"
      }
    },
    {
      "cell_type": "markdown",
      "source": [
        "### Hypothetical Statement - 1"
      ],
      "metadata": {
        "id": "8yEUt7NnHlrM"
      }
    },
    {
      "cell_type": "markdown",
      "source": [
        "#### 1. State Your research hypothesis as a null hypothesis and alternate hypothesis."
      ],
      "metadata": {
        "id": "tEA2Xm5dHt1r"
      }
    },
    {
      "cell_type": "markdown",
      "source": [
        "Answer Here."
      ],
      "metadata": {
        "id": "HI9ZP0laH0D-"
      }
    },
    {
      "cell_type": "markdown",
      "source": [
        "#### 2. Perform an appropriate statistical test."
      ],
      "metadata": {
        "id": "I79__PHVH19G"
      }
    },
    {
      "cell_type": "code",
      "source": [
        "# Perform Statistical Test to obtain P-Value"
      ],
      "metadata": {
        "id": "oZrfquKtyian"
      },
      "execution_count": null,
      "outputs": []
    },
    {
      "cell_type": "markdown",
      "source": [
        "##### Which statistical test have you done to obtain P-Value?"
      ],
      "metadata": {
        "id": "Ou-I18pAyIpj"
      }
    },
    {
      "cell_type": "markdown",
      "source": [
        "Answer Here."
      ],
      "metadata": {
        "id": "s2U0kk00ygSB"
      }
    },
    {
      "cell_type": "markdown",
      "source": [
        "##### Why did you choose the specific statistical test?"
      ],
      "metadata": {
        "id": "fF3858GYyt-u"
      }
    },
    {
      "cell_type": "markdown",
      "source": [
        "Answer Here."
      ],
      "metadata": {
        "id": "HO4K0gP5y3B4"
      }
    },
    {
      "cell_type": "markdown",
      "source": [
        "### Hypothetical Statement - 2"
      ],
      "metadata": {
        "id": "4_0_7-oCpUZd"
      }
    },
    {
      "cell_type": "markdown",
      "source": [
        "#### 1. State Your research hypothesis as a null hypothesis and alternate hypothesis."
      ],
      "metadata": {
        "id": "hwyV_J3ipUZe"
      }
    },
    {
      "cell_type": "markdown",
      "source": [
        "Answer Here."
      ],
      "metadata": {
        "id": "FnpLGJ-4pUZe"
      }
    },
    {
      "cell_type": "markdown",
      "source": [
        "#### 2. Perform an appropriate statistical test."
      ],
      "metadata": {
        "id": "3yB-zSqbpUZe"
      }
    },
    {
      "cell_type": "code",
      "source": [
        "# Perform Statistical Test to obtain P-Value"
      ],
      "metadata": {
        "id": "sWxdNTXNpUZe"
      },
      "execution_count": null,
      "outputs": []
    },
    {
      "cell_type": "markdown",
      "source": [
        "##### Which statistical test have you done to obtain P-Value?"
      ],
      "metadata": {
        "id": "dEUvejAfpUZe"
      }
    },
    {
      "cell_type": "markdown",
      "source": [
        "Answer Here."
      ],
      "metadata": {
        "id": "oLDrPz7HpUZf"
      }
    },
    {
      "cell_type": "markdown",
      "source": [
        "##### Why did you choose the specific statistical test?"
      ],
      "metadata": {
        "id": "Fd15vwWVpUZf"
      }
    },
    {
      "cell_type": "markdown",
      "source": [
        "Answer Here."
      ],
      "metadata": {
        "id": "4xOGYyiBpUZf"
      }
    },
    {
      "cell_type": "markdown",
      "source": [
        "### Hypothetical Statement - 3"
      ],
      "metadata": {
        "id": "bn_IUdTipZyH"
      }
    },
    {
      "cell_type": "markdown",
      "source": [
        "#### 1. State Your research hypothesis as a null hypothesis and alternate hypothesis."
      ],
      "metadata": {
        "id": "49K5P_iCpZyH"
      }
    },
    {
      "cell_type": "markdown",
      "source": [
        "Answer Here."
      ],
      "metadata": {
        "id": "7gWI5rT9pZyH"
      }
    },
    {
      "cell_type": "markdown",
      "source": [
        "#### 2. Perform an appropriate statistical test."
      ],
      "metadata": {
        "id": "Nff-vKELpZyI"
      }
    },
    {
      "cell_type": "code",
      "source": [
        "# Perform Statistical Test to obtain P-Value"
      ],
      "metadata": {
        "id": "s6AnJQjtpZyI"
      },
      "execution_count": null,
      "outputs": []
    },
    {
      "cell_type": "markdown",
      "source": [
        "##### Which statistical test have you done to obtain P-Value?"
      ],
      "metadata": {
        "id": "kLW572S8pZyI"
      }
    },
    {
      "cell_type": "markdown",
      "source": [
        "Answer Here."
      ],
      "metadata": {
        "id": "ytWJ8v15pZyI"
      }
    },
    {
      "cell_type": "markdown",
      "source": [
        "##### Why did you choose the specific statistical test?"
      ],
      "metadata": {
        "id": "dWbDXHzopZyI"
      }
    },
    {
      "cell_type": "markdown",
      "source": [
        "Answer Here."
      ],
      "metadata": {
        "id": "M99G98V6pZyI"
      }
    },
    {
      "cell_type": "markdown",
      "source": [
        "## ***6. Feature Engineering & Data Pre-processing***"
      ],
      "metadata": {
        "id": "yLjJCtPM0KBk"
      }
    },
    {
      "cell_type": "markdown",
      "source": [
        "### 1. Handling Missing Values"
      ],
      "metadata": {
        "id": "xiyOF9F70UgQ"
      }
    },
    {
      "cell_type": "code",
      "source": [
        "# Handling Missing Values & Missing Value Imputation\n",
        "df1.isnull().sum()"
      ],
      "metadata": {
        "id": "iRsAHk1K0fpS"
      },
      "execution_count": null,
      "outputs": []
    },
    {
      "cell_type": "markdown",
      "source": [
        "#### What all missing value imputation techniques have you used and why did you use those techniques?"
      ],
      "metadata": {
        "id": "7wuGOrhz0itI"
      }
    },
    {
      "cell_type": "markdown",
      "source": [
        "Just replaced the null values by word 'Unknown'"
      ],
      "metadata": {
        "id": "1ixusLtI0pqI"
      }
    },
    {
      "cell_type": "markdown",
      "source": [
        "### 2. Handling Outliers"
      ],
      "metadata": {
        "id": "id1riN9m0vUs"
      }
    },
    {
      "cell_type": "code",
      "source": [
        "# Handling Outliers & Outlier treatments\n",
        "df1.plot(kind=\"box\",subplots=True,layout=(12,2),figsize=(25,30))"
      ],
      "metadata": {
        "id": "M6w2CzZf04JK"
      },
      "execution_count": null,
      "outputs": []
    },
    {
      "cell_type": "code",
      "source": [
        "for x in ['release_year']:\n",
        "    q75,q25 = np.percentile(df1.loc[:,x],[75,25])\n",
        "    intr_qr = q75-q25\n",
        " \n",
        "    max = q75+(1.5*intr_qr)\n",
        "    min = q25-(1.5*intr_qr)\n",
        " \n",
        "    df1.loc[df1[x] < min,x] = np.nan\n",
        "    df1.loc[df1[x] > max,x] = np.nan"
      ],
      "metadata": {
        "id": "fxC2ehEte_87"
      },
      "execution_count": null,
      "outputs": []
    },
    {
      "cell_type": "code",
      "source": [
        "for x in ['add_year']:\n",
        "    q75,q25 = np.percentile(df1.loc[:,x],[75,25])\n",
        "    intr_qr = q75-q25\n",
        " \n",
        "    max = q75+(1.5*intr_qr)\n",
        "    min = q25-(1.5*intr_qr)\n",
        " \n",
        "    df1.loc[df1[x] < min,x] = np.nan\n",
        "    df1.loc[df1[x] > max,x] = np.nan"
      ],
      "metadata": {
        "id": "3Eq3MC2Afes-"
      },
      "execution_count": null,
      "outputs": []
    },
    {
      "cell_type": "code",
      "source": [
        "df1.plot(kind=\"box\",subplots=True,layout=(12,2),figsize=(25,30))"
      ],
      "metadata": {
        "id": "MKpsZVQUfuue"
      },
      "execution_count": null,
      "outputs": []
    },
    {
      "cell_type": "markdown",
      "source": [
        "##### What all outlier treatment techniques have you used and why did you use those techniques?"
      ],
      "metadata": {
        "id": "578E2V7j08f6"
      }
    },
    {
      "cell_type": "markdown",
      "source": [
        "By using the Quantile method I have removed the outliers. Using this method makes it easier to visualize the outliers and remove them accordingly"
      ],
      "metadata": {
        "id": "uGZz5OrT1HH-"
      }
    },
    {
      "cell_type": "markdown",
      "source": [
        "### 3. Categorical Encoding"
      ],
      "metadata": {
        "id": "89xtkJwZ18nB"
      }
    },
    {
      "cell_type": "code",
      "source": [
        "# Encode your categorical columns"
      ],
      "metadata": {
        "id": "21JmIYMG2hEo"
      },
      "execution_count": null,
      "outputs": []
    },
    {
      "cell_type": "markdown",
      "source": [
        "#### What all categorical encoding techniques have you used & why did you use those techniques?"
      ],
      "metadata": {
        "id": "67NQN5KX2AMe"
      }
    },
    {
      "cell_type": "markdown",
      "source": [
        "Answer Here."
      ],
      "metadata": {
        "id": "UDaue5h32n_G"
      }
    },
    {
      "cell_type": "markdown",
      "source": [
        "### 4. Textual Data Preprocessing \n",
        "(It's mandatory for textual dataset i.e., NLP, Sentiment Analysis, Text Clustering etc.)"
      ],
      "metadata": {
        "id": "Iwf50b-R2tYG"
      }
    },
    {
      "cell_type": "code",
      "source": [
        "df2 = df1.copy()"
      ],
      "metadata": {
        "id": "3QK253jWW-Y2"
      },
      "execution_count": null,
      "outputs": []
    },
    {
      "cell_type": "code",
      "source": [
        "df2.fillna('',inplace=True)"
      ],
      "metadata": {
        "id": "mXdBia8zXNTl"
      },
      "execution_count": null,
      "outputs": []
    },
    {
      "cell_type": "code",
      "source": [
        "# Combining all the clustering attributes into a single column\n",
        "\n",
        "df2['clustering_attributes'] = (df2['director'] + ' ' + \n",
        "                                df2['cast'] +' ' + \n",
        "                                df2['country'] +' ' + \n",
        "                                df2['listed_in'] +' ' + \n",
        "                                df2['description'])"
      ],
      "metadata": {
        "id": "c5lERxLGXPRA"
      },
      "execution_count": null,
      "outputs": []
    },
    {
      "cell_type": "code",
      "source": [
        "df2['clustering_attributes'][40]"
      ],
      "metadata": {
        "id": "yVYjJc8oXurp"
      },
      "execution_count": null,
      "outputs": []
    },
    {
      "cell_type": "markdown",
      "source": [
        "#### 1. Expand Contraction"
      ],
      "metadata": {
        "id": "GMQiZwjn3iu7"
      }
    },
    {
      "cell_type": "code",
      "source": [
        "# function to remove non-ascii characters\n",
        "\n",
        "def remove_non_ascii(words):\n",
        "    \"\"\"Function to remove non-ASCII characters\"\"\"\n",
        "    new_words = []\n",
        "    for word in words:\n",
        "        new_word = unicodedata.normalize('NFKD', word).encode('ascii', 'ignore').decode('utf-8', 'ignore')\n",
        "        new_words.append(new_word)\n",
        "    return new_words"
      ],
      "metadata": {
        "id": "G8KQTOdakCoC"
      },
      "execution_count": null,
      "outputs": []
    },
    {
      "cell_type": "code",
      "source": [
        "# remove non-ascii characters\n",
        "df1['clustering_attributes'] = remove_non_ascii(df2['clustering_attributes'])"
      ],
      "metadata": {
        "id": "Bfnp97sTZZuy"
      },
      "execution_count": null,
      "outputs": []
    },
    {
      "cell_type": "code",
      "source": [
        "df2['clustering_attributes'][40]"
      ],
      "metadata": {
        "id": "jcxTbVTlZgs7"
      },
      "execution_count": null,
      "outputs": []
    },
    {
      "cell_type": "markdown",
      "source": [
        "#### 2. Lower Casing"
      ],
      "metadata": {
        "id": "WVIkgGqN3qsr"
      }
    },
    {
      "cell_type": "code",
      "source": [
        "# Lower Casing\n",
        "df1['description'] = df1['description'].apply(str.lower)\n",
        "df1"
      ],
      "metadata": {
        "id": "88JnJ1jN3w7j"
      },
      "execution_count": null,
      "outputs": []
    },
    {
      "cell_type": "markdown",
      "source": [
        "#### 3. Removing Punctuations"
      ],
      "metadata": {
        "id": "XkPnILGE3zoT"
      }
    },
    {
      "cell_type": "code",
      "source": [
        "# function to remove punctuations\n",
        "def remove_punctuation(text):\n",
        "    '''a function for removing punctuation'''\n",
        "    translator = str.maketrans('', '', string.punctuation)\n",
        "    # return the text stripped of punctuation marks\n",
        "    return text.translate(translator)"
      ],
      "metadata": {
        "id": "WrmTqLlHkr9p"
      },
      "execution_count": null,
      "outputs": []
    },
    {
      "cell_type": "code",
      "source": [
        "# Removing punctuation marks\n",
        "df2['clustering_attributes'] = df2['clustering_attributes'].apply(remove_punctuation)"
      ],
      "metadata": {
        "id": "kARHvQKKaSY8"
      },
      "execution_count": null,
      "outputs": []
    },
    {
      "cell_type": "code",
      "source": [
        "df2['clustering_attributes'][40]"
      ],
      "metadata": {
        "id": "swHMJPOYaWlp"
      },
      "execution_count": null,
      "outputs": []
    },
    {
      "cell_type": "markdown",
      "source": [
        "#### 4. Removing URLs & Removing words and digits contain digits."
      ],
      "metadata": {
        "id": "Hlsf0x5436Go"
      }
    },
    {
      "cell_type": "code",
      "source": [
        "# Remove URLs & Remove words and digits contain digits\n",
        "# Not Required"
      ],
      "metadata": {
        "id": "2sxKgKxu4Ip3"
      },
      "execution_count": null,
      "outputs": []
    },
    {
      "cell_type": "markdown",
      "source": [
        "#### 5. Removing Stopwords & Removing White spaces"
      ],
      "metadata": {
        "id": "mT9DMSJo4nBL"
      }
    },
    {
      "cell_type": "code",
      "source": [
        "# extracting the stopwords from nltk library\n",
        "import nltk\n",
        "from nltk.corpus import stopwords\n",
        "sw = stopwords.words('english')\n",
        "# displaying the stopwords\n",
        "np.array(sw)"
      ],
      "metadata": {
        "id": "hD0BjoiWZyWU"
      },
      "execution_count": null,
      "outputs": []
    },
    {
      "cell_type": "code",
      "source": [
        "# function to remove stop words\n",
        "def stopwords(text):\n",
        "    '''a function for removing the stopword'''\n",
        "    # removing the stop words and lowercasing the selected words\n",
        "    text = [word.lower() for word in text.split() if word.lower() not in sw]\n",
        "    # joining the list of words with space separator\n",
        "    return \" \".join(text)"
      ],
      "metadata": {
        "id": "9s5aVdO9aCzc"
      },
      "execution_count": null,
      "outputs": []
    },
    {
      "cell_type": "code",
      "source": [
        "# Removing stop words\n",
        "df2['clustering_attributes'] = df2['clustering_attributes'].apply(stopwords)"
      ],
      "metadata": {
        "id": "ok8fL0K-Z1IG"
      },
      "execution_count": null,
      "outputs": []
    },
    {
      "cell_type": "code",
      "source": [
        "df2['clustering_attributes'][40]"
      ],
      "metadata": {
        "id": "h4NUVl_SaGbi"
      },
      "execution_count": null,
      "outputs": []
    },
    {
      "cell_type": "markdown",
      "source": [
        "#### 6. Rephrase Text"
      ],
      "metadata": {
        "id": "c49ITxTc407N"
      }
    },
    {
      "cell_type": "code",
      "source": [
        "# Rephrase Text\n",
        "# Not required"
      ],
      "metadata": {
        "id": "foqY80Qu48N2"
      },
      "execution_count": null,
      "outputs": []
    },
    {
      "cell_type": "markdown",
      "source": [
        "#### 7. Tokenization"
      ],
      "metadata": {
        "id": "OeJFEK0N496M"
      }
    },
    {
      "cell_type": "code",
      "source": [
        "# Tokenization\n",
        "tokenizer = TweetTokenizer()"
      ],
      "metadata": {
        "id": "ijx1rUOS5CUU"
      },
      "execution_count": null,
      "outputs": []
    },
    {
      "cell_type": "code",
      "source": [
        "df2['clustering_attributes'] = df2['clustering_attributes'].apply(lambda x: tokenizer.tokenize(x))"
      ],
      "metadata": {
        "id": "zS5mW6j_dRxU"
      },
      "execution_count": null,
      "outputs": []
    },
    {
      "cell_type": "markdown",
      "source": [
        "#### 8. Text Normalization"
      ],
      "metadata": {
        "id": "9ExmJH0g5HBk"
      }
    },
    {
      "cell_type": "code",
      "source": [
        "# Normalizing Text (i.e., Stemming, Lemmatization etc.)\n",
        "def lemmatize_verbs(words):\n",
        "    \"\"\"Lemmatize verbs in list of tokenized words\"\"\"\n",
        "    lemmatizer = WordNetLemmatizer()\n",
        "    lemmas = []\n",
        "    for word in words:\n",
        "        lemma = lemmatizer.lemmatize(word, pos='v')\n",
        "        lemmas.append(lemma)\n",
        "    return lemmas"
      ],
      "metadata": {
        "id": "AIJ1a-Zc5PY8"
      },
      "execution_count": null,
      "outputs": []
    },
    {
      "cell_type": "code",
      "source": [
        "nltk.download('wordnet')"
      ],
      "metadata": {
        "id": "5dAx6d_WcstW"
      },
      "execution_count": null,
      "outputs": []
    },
    {
      "cell_type": "code",
      "source": [
        "# Lemmatization\n",
        "df2['clustering_attributes'] = lemmatize_verbs(df2['clustering_attributes'])"
      ],
      "metadata": {
        "id": "y48YunlPcWwM"
      },
      "execution_count": null,
      "outputs": []
    },
    {
      "cell_type": "code",
      "source": [
        "df2['clustering_attributes'][40]"
      ],
      "metadata": {
        "id": "h368pTLmcbTp"
      },
      "execution_count": null,
      "outputs": []
    },
    {
      "cell_type": "markdown",
      "source": [
        "##### Which text normalization technique have you used and why?"
      ],
      "metadata": {
        "id": "cJNqERVU536h"
      }
    },
    {
      "cell_type": "markdown",
      "source": [
        "Lemmatisation (or lemmatization) in linguistics is the process of grouping together the inflected forms of a word so they can be analysed as a single item, identified by the word's lemma, or dictionary form."
      ],
      "metadata": {
        "id": "Z9jKVxE06BC1"
      }
    },
    {
      "cell_type": "markdown",
      "source": [
        "#### 9. Part of speech tagging"
      ],
      "metadata": {
        "id": "k5UmGsbsOxih"
      }
    },
    {
      "cell_type": "code",
      "source": [
        "# POS Taging"
      ],
      "metadata": {
        "id": "btT3ZJBAO6Ik"
      },
      "execution_count": null,
      "outputs": []
    },
    {
      "cell_type": "markdown",
      "source": [
        "#### 10. Text Vectorization"
      ],
      "metadata": {
        "id": "T0VqWOYE6DLQ"
      }
    },
    {
      "cell_type": "code",
      "source": [
        "clustering_data = df2['clustering_attributes']"
      ],
      "metadata": {
        "id": "2T3Ri4x89Jdl"
      },
      "execution_count": null,
      "outputs": []
    },
    {
      "cell_type": "code",
      "source": [
        "# Vectorizing Text\n",
        "def identity_tokenizer(text):\n",
        "    return text\n",
        "\n",
        "# Using TFIDF vectorizer to vectorize the corpus \n",
        "# max features = 20000 to prevent system from crashing\n",
        "tfidf = TfidfVectorizer(tokenizer=identity_tokenizer, stop_words='english', lowercase=False,max_features = 20000)    \n",
        "X = tfidf.fit_transform(clustering_data)"
      ],
      "metadata": {
        "id": "yBRtdhth6JDE"
      },
      "execution_count": null,
      "outputs": []
    },
    {
      "cell_type": "code",
      "source": [
        "X"
      ],
      "metadata": {
        "id": "A5n98EXhdyxz"
      },
      "execution_count": null,
      "outputs": []
    },
    {
      "cell_type": "code",
      "source": [
        "X.shape"
      ],
      "metadata": {
        "id": "cWYW_lind0UO"
      },
      "execution_count": null,
      "outputs": []
    },
    {
      "cell_type": "code",
      "source": [
        "X = X.toarray()"
      ],
      "metadata": {
        "id": "uGe48SIsd2F9"
      },
      "execution_count": null,
      "outputs": []
    },
    {
      "cell_type": "markdown",
      "source": [
        "##### Which text vectorization technique have you used and why?"
      ],
      "metadata": {
        "id": "qBMux9mC6MCf"
      }
    },
    {
      "cell_type": "markdown",
      "source": [
        "TF-IDF stands for term frequency-inverse document frequency and it is a measure, used in the fields of information retrieval (IR) and machine learning, that can quantify the importance or relevance of string representations (words, phrases, lemmas, etc)  in a document amongst a collection of documents (also known as a corpus)."
      ],
      "metadata": {
        "id": "su2EnbCh6UKQ"
      }
    },
    {
      "cell_type": "markdown",
      "source": [
        "### 4. Feature Manipulation & Selection"
      ],
      "metadata": {
        "id": "-oLEiFgy-5Pf"
      }
    },
    {
      "cell_type": "markdown",
      "source": [
        "#### 1. Feature Manipulation"
      ],
      "metadata": {
        "id": "C74aWNz2AliB"
      }
    },
    {
      "cell_type": "code",
      "source": [
        "# Manipulate Features to minimize feature correlation and create new features\n"
      ],
      "metadata": {
        "id": "h1qC4yhBApWC"
      },
      "execution_count": null,
      "outputs": []
    },
    {
      "cell_type": "markdown",
      "source": [
        "#### 2. Feature Selection"
      ],
      "metadata": {
        "id": "2DejudWSA-a0"
      }
    },
    {
      "cell_type": "code",
      "source": [
        "# Select your features wisely to avoid overfitting"
      ],
      "metadata": {
        "id": "YLhe8UmaBCEE"
      },
      "execution_count": null,
      "outputs": []
    },
    {
      "cell_type": "markdown",
      "source": [
        "##### What all feature selection methods have you used  and why?"
      ],
      "metadata": {
        "id": "pEMng2IbBLp7"
      }
    },
    {
      "cell_type": "markdown",
      "source": [
        "Answer Here."
      ],
      "metadata": {
        "id": "rb2Lh6Z8BgGs"
      }
    },
    {
      "cell_type": "markdown",
      "source": [
        "##### Which all features you found important and why?"
      ],
      "metadata": {
        "id": "rAdphbQ9Bhjc"
      }
    },
    {
      "cell_type": "markdown",
      "source": [
        "Answer Here."
      ],
      "metadata": {
        "id": "fGgaEstsBnaf"
      }
    },
    {
      "cell_type": "markdown",
      "source": [
        "### 5. Data Transformation"
      ],
      "metadata": {
        "id": "TNVZ9zx19K6k"
      }
    },
    {
      "cell_type": "markdown",
      "source": [
        "#### Do you think that your data needs to be transformed? If yes, which transformation have you used. Explain Why?"
      ],
      "metadata": {
        "id": "nqoHp30x9hH9"
      }
    },
    {
      "cell_type": "code",
      "source": [
        "# Transform Your data\n",
        "# Noo"
      ],
      "metadata": {
        "id": "I6quWQ1T9rtH"
      },
      "execution_count": null,
      "outputs": []
    },
    {
      "cell_type": "markdown",
      "source": [
        "### 6. Data Scaling"
      ],
      "metadata": {
        "id": "rMDnDkt2B6du"
      }
    },
    {
      "cell_type": "code",
      "source": [
        "# Scaling your data\n"
      ],
      "metadata": {
        "id": "dL9LWpySC6x_"
      },
      "execution_count": null,
      "outputs": []
    },
    {
      "cell_type": "markdown",
      "source": [
        "##### Which method have you used to scale you data and why?"
      ],
      "metadata": {
        "id": "yiiVWRdJDDil"
      }
    },
    {
      "cell_type": "markdown",
      "source": [
        "### 7. Dimesionality Reduction"
      ],
      "metadata": {
        "id": "1UUpS68QDMuG"
      }
    },
    {
      "cell_type": "markdown",
      "source": [
        "##### Do you think that dimensionality reduction is needed? Explain Why?"
      ],
      "metadata": {
        "id": "kexQrXU-DjzY"
      }
    },
    {
      "cell_type": "markdown",
      "source": [
        "Yes it is required. "
      ],
      "metadata": {
        "id": "GGRlBsSGDtTQ"
      }
    },
    {
      "cell_type": "code",
      "source": [
        "# DImensionality Reduction (If needed)\n",
        "pca = PCA(random_state=42)\n",
        "pca.fit(X)"
      ],
      "metadata": {
        "id": "kQfvxBBHDvCa"
      },
      "execution_count": null,
      "outputs": []
    },
    {
      "cell_type": "code",
      "source": [
        "# Explained variance for different number of components\n",
        "plt.figure(figsize=(10,5))\n",
        "plt.plot(np.cumsum(pca.explained_variance_ratio_))\n",
        "plt.title('PCA - Cumulative explained variance vs number of components')\n",
        "plt.xlabel('number of components')\n",
        "plt.ylabel('cumulative explained variance')"
      ],
      "metadata": {
        "id": "ksVaXEHHjUC7"
      },
      "execution_count": null,
      "outputs": []
    },
    {
      "cell_type": "code",
      "source": [
        "# reducing the dimensions to 4000 using pca\n",
        "pca = PCA(n_components=4000,random_state=42)\n",
        "pca.fit(X)"
      ],
      "metadata": {
        "id": "9ZRReaf8jXhR"
      },
      "execution_count": null,
      "outputs": []
    },
    {
      "cell_type": "code",
      "source": [
        "x_pca = pca.transform(X)"
      ],
      "metadata": {
        "id": "svq5wHKujbGb"
      },
      "execution_count": null,
      "outputs": []
    },
    {
      "cell_type": "markdown",
      "source": [
        "##### Which dimensionality reduction technique have you used and why? (If dimensionality reduction done on dataset.)"
      ],
      "metadata": {
        "id": "T5CmagL3EC8N"
      }
    },
    {
      "cell_type": "markdown",
      "source": [
        "Principle Component Analysis is used for dimensionality reduction to simplify the model, and reduce dimensionality, we can take the top 4000 components, which will still be able to capture more than 80% of variance."
      ],
      "metadata": {
        "id": "ZKr75IDuEM7t"
      }
    },
    {
      "cell_type": "markdown",
      "source": [
        "### 8. Data Splitting"
      ],
      "metadata": {
        "id": "BhH2vgX9EjGr"
      }
    },
    {
      "cell_type": "code",
      "source": [
        "# Split your data to train and test. Choose Splitting ratio wisely."
      ],
      "metadata": {
        "id": "0CTyd2UwEyNM"
      },
      "execution_count": null,
      "outputs": []
    },
    {
      "cell_type": "markdown",
      "source": [
        "##### What data splitting ratio have you used and why? "
      ],
      "metadata": {
        "id": "qjKvONjwE8ra"
      }
    },
    {
      "cell_type": "markdown",
      "source": [
        "Answer Here."
      ],
      "metadata": {
        "id": "Y2lJ8cobFDb_"
      }
    },
    {
      "cell_type": "markdown",
      "source": [
        "### 9. Handling Imbalanced Dataset"
      ],
      "metadata": {
        "id": "P1XJ9OREExlT"
      }
    },
    {
      "cell_type": "markdown",
      "source": [
        "##### Do you think the dataset is imbalanced? Explain Why."
      ],
      "metadata": {
        "id": "VFOzZv6IFROw"
      }
    },
    {
      "cell_type": "markdown",
      "source": [
        "No the datset isn't imbalanced"
      ],
      "metadata": {
        "id": "GeKDIv7pFgcC"
      }
    },
    {
      "cell_type": "code",
      "source": [
        "# Handling Imbalanced Dataset (If needed)"
      ],
      "metadata": {
        "id": "nQsRhhZLFiDs"
      },
      "execution_count": null,
      "outputs": []
    },
    {
      "cell_type": "markdown",
      "source": [
        "##### What technique did you use to handle the imbalance dataset and why? (If needed to be balanced)"
      ],
      "metadata": {
        "id": "TIqpNgepFxVj"
      }
    },
    {
      "cell_type": "markdown",
      "source": [
        "Answer Here."
      ],
      "metadata": {
        "id": "qbet1HwdGDTz"
      }
    },
    {
      "cell_type": "markdown",
      "source": [
        "## ***7. ML Model Implementation***"
      ],
      "metadata": {
        "id": "VfCC591jGiD4"
      }
    },
    {
      "cell_type": "markdown",
      "source": [
        "### ML Model - 1"
      ],
      "metadata": {
        "id": "OB4l2ZhMeS1U"
      }
    },
    {
      "cell_type": "code",
      "source": [
        "# ML Model - 1 Implementation\n",
        "# Building a dendogram to decide on the number of clusters\n",
        "plt.figure(figsize=(10, 7))  \n",
        "dend = shc.dendrogram(shc.linkage(x_pca, method='ward'))\n",
        "plt.title('Dendrogram')\n",
        "plt.xlabel('Netflix Shows')\n",
        "plt.ylabel('Distance')\n",
        "plt.axhline(y= 3.8, color='r', linestyle='--')"
      ],
      "metadata": {
        "id": "7ebyywQieS1U"
      },
      "execution_count": null,
      "outputs": []
    },
    {
      "cell_type": "code",
      "source": [
        "# Fitting hierarchical clustering model\n",
        "hierarchical = AgglomerativeClustering(n_clusters=13, affinity='euclidean', linkage='ward')  \n",
        "hierarchical.fit_predict(x_pca)"
      ],
      "metadata": {
        "id": "F0MNx3qb6N68"
      },
      "execution_count": null,
      "outputs": []
    },
    {
      "cell_type": "code",
      "source": [
        "# Adding a kmeans cluster number attribute\n",
        "df2['hierarchical_cluster'] = hierarchical.labels_"
      ],
      "metadata": {
        "id": "52YQ05mN8AK5"
      },
      "execution_count": null,
      "outputs": []
    },
    {
      "cell_type": "code",
      "source": [
        "# Number of movies and tv shows in each cluster\n",
        "plt.figure(figsize=(15,8))\n",
        "q = sns.countplot(x='hierarchical_cluster',data=df2, hue='type')\n",
        "plt.title('Number of movies and tv shows in each cluster - Hierarchical Clustering')\n",
        "for i in q.patches:\n",
        "  q.annotate(format(i.get_height(), '.0f'), (i.get_x() + i.get_width() / 2., i.get_height()), ha = 'center', va = 'center', xytext = (0, 10), textcoords = 'offset points')"
      ],
      "metadata": {
        "id": "Bj2_scVo8Q6H"
      },
      "execution_count": null,
      "outputs": []
    },
    {
      "cell_type": "markdown",
      "source": [
        "### ML Model - 2"
      ],
      "metadata": {
        "id": "dJ2tPlVmpsJ0"
      }
    },
    {
      "cell_type": "markdown",
      "source": [
        "#### 1. Explain the ML Model used and it's performance using Evaluation metric Score Chart."
      ],
      "metadata": {
        "id": "JWYfwnehpsJ1"
      }
    },
    {
      "cell_type": "code",
      "source": [
        "# Elbow method to find the optimal value of k\n",
        "wcss=[]\n",
        "for i in range(1,31):\n",
        "  kmeans = KMeans(n_clusters=i,init='k-means++',random_state=33)\n",
        "  kmeans.fit(x_pca)\n",
        "  wcss_iter = kmeans.inertia_\n",
        "  wcss.append(wcss_iter)\n",
        "\n",
        "number_clusters = range(1,31)\n",
        "plt.figure(figsize=(10,5))\n",
        "plt.plot(number_clusters,wcss)\n",
        "plt.title('The Elbow Method - KMeans clustering')\n",
        "plt.xlabel('Number of clusters')\n",
        "plt.ylabel('WCSS')"
      ],
      "metadata": {
        "id": "yEl-hgQWpsJ1"
      },
      "execution_count": null,
      "outputs": []
    },
    {
      "cell_type": "code",
      "source": [
        "# Plotting Silhouette score for different umber of clusters\n",
        "range_n_clusters = range(2,31)\n",
        "silhouette_avg = []\n",
        "for num_clusters in range_n_clusters:\n",
        "  # initialize kmeans\n",
        "  kmeans = KMeans(n_clusters=num_clusters,init='k-means++',random_state=33)\n",
        "  kmeans.fit(x_pca)\n",
        "  cluster_labels = kmeans.labels_\n",
        " \n",
        "  # silhouette score\n",
        "  silhouette_avg.append(silhouette_score(x_pca, cluster_labels))\n",
        "\n",
        "plt.figure(figsize=(10,5))\n",
        "plt.plot(range_n_clusters,silhouette_avg)\n",
        "plt.xlabel('Values of K') \n",
        "plt.ylabel('Silhouette score')\n",
        "plt.title('Silhouette analysis For Optimal k - KMeans clustering')\n",
        "plt.show()"
      ],
      "metadata": {
        "id": "VTXLOIf_oD4w"
      },
      "execution_count": null,
      "outputs": []
    },
    {
      "cell_type": "code",
      "source": [
        "# Clustering the data\n",
        "kmeans = KMeans(n_clusters=5,init='k-means++',random_state=33)\n",
        "kmeans.fit(x_pca)"
      ],
      "metadata": {
        "id": "91LsBLl70gLW"
      },
      "execution_count": null,
      "outputs": []
    },
    {
      "cell_type": "code",
      "source": [
        "# Adding a kmeans cluster number attribute\n",
        "df2['kmeans_cluster'] = kmeans.labels_"
      ],
      "metadata": {
        "id": "mGe57f0O1tOY"
      },
      "execution_count": null,
      "outputs": []
    },
    {
      "cell_type": "code",
      "source": [
        "# Number of movies and tv shows in each cluster\n",
        "plt.figure(figsize=(15,8))\n",
        "q = sns.countplot(x='kmeans_cluster',data=df2, hue='type')\n",
        "plt.title('Number of movies and TV shows in each cluster - Kmeans Clustering')\n",
        "for i in q.patches:\n",
        "  q.annotate(format(i.get_height(), '.0f'), (i.get_x() + i.get_width() / 2., i.get_height()), ha = 'center', va = 'center', xytext = (0, 10), textcoords = 'offset points')"
      ],
      "metadata": {
        "id": "hCbKrxQc1uPY"
      },
      "execution_count": null,
      "outputs": []
    },
    {
      "cell_type": "markdown",
      "source": [
        "#### 3. Explain each evaluation metric's indication towards business and the business impact pf the ML model used."
      ],
      "metadata": {
        "id": "bmKjuQ-FpsJ3"
      }
    },
    {
      "cell_type": "markdown",
      "source": [
        "Silhouette analysis can be used to study the separation distance between the resulting clusters. The silhouette plot displays a measure of how close each point in one cluster is to points in the neighboring clusters and thus provides a way to assess parameters like number of clusters visually."
      ],
      "metadata": {
        "id": "BDKtOrBQpsJ3"
      }
    },
    {
      "cell_type": "code",
      "source": [
        "# Evaluation metrics - distortion, Silhouette score\n",
        "kmeans_distortion = kmeans.inertia_\n",
        "kmeans_silhouette_score = silhouette_score(x_pca, kmeans.labels_)\n",
        "\n",
        "print((kmeans_distortion,kmeans_silhouette_score))"
      ],
      "metadata": {
        "id": "8KuW1Ki-0u72"
      },
      "execution_count": null,
      "outputs": []
    },
    {
      "cell_type": "markdown",
      "source": [
        "### 1. Which Evaluation metrics did you consider for a positive business impact and why?"
      ],
      "metadata": {
        "id": "h_CCil-SKHpo"
      }
    },
    {
      "cell_type": "markdown",
      "source": [
        "Silhouette analysis can be used to study the separation distance between the resulting clusters. The silhouette plot displays a measure of how close each point in one cluster is to points in the neighboring clusters and thus provides a way to assess parameters like number of clusters visually."
      ],
      "metadata": {
        "id": "jHVz9hHDKFms"
      }
    },
    {
      "cell_type": "markdown",
      "source": [
        "### 2. Which ML model did you choose from the above created models as your final prediction model and why?"
      ],
      "metadata": {
        "id": "cBFFvTBNJzUa"
      }
    },
    {
      "cell_type": "markdown",
      "source": [
        "K-means clustering and Hierarchial clustering is used in order to do the final prediction"
      ],
      "metadata": {
        "id": "6ksF5Q1LKTVm"
      }
    },
    {
      "cell_type": "markdown",
      "source": [
        "### 3. Explain the model which you have used and the feature importance using any model explainability tool?"
      ],
      "metadata": {
        "id": "HvGl1hHyA_VK"
      }
    },
    {
      "cell_type": "markdown",
      "source": [
        "Answer Here."
      ],
      "metadata": {
        "id": "YnvVTiIxBL-C"
      }
    },
    {
      "cell_type": "markdown",
      "source": [
        "## ***8.*** ***Future Work (Optional)***"
      ],
      "metadata": {
        "id": "EyNgTHvd2WFk"
      }
    },
    {
      "cell_type": "markdown",
      "source": [
        "### 1. Save the best performing ml model in a pickle file or joblib file format for deployment process.\n"
      ],
      "metadata": {
        "id": "KH5McJBi2d8v"
      }
    },
    {
      "cell_type": "code",
      "source": [
        "# Save the File"
      ],
      "metadata": {
        "id": "bQIANRl32f4J"
      },
      "execution_count": null,
      "outputs": []
    },
    {
      "cell_type": "markdown",
      "source": [
        "### 2. Again Load the saved model file and try to predict unseen data for a sanity check.\n"
      ],
      "metadata": {
        "id": "iW_Lq9qf2h6X"
      }
    },
    {
      "cell_type": "code",
      "source": [
        "# Load the File and predict unseen data."
      ],
      "metadata": {
        "id": "oEXk9ydD2nVC"
      },
      "execution_count": null,
      "outputs": []
    },
    {
      "cell_type": "markdown",
      "source": [
        "### ***Congrats! Your model is successfully created and ready for deployment on a live server for a real user interaction !!!***"
      ],
      "metadata": {
        "id": "-Kee-DAl2viO"
      }
    },
    {
      "cell_type": "markdown",
      "source": [
        "# **Conclusion**"
      ],
      "metadata": {
        "id": "gCX9965dhzqZ"
      }
    },
    {
      "cell_type": "markdown",
      "source": [
        "## K-means clustering and Hierarchical clustering is used in order to perform unsupervised learning. Both the algorithms results to give out different number of clusters and both try to be the best on it's own and different metrics have been used to find the optimum number of clusters. "
      ],
      "metadata": {
        "id": "Fjb1IsQkh3yE"
      }
    },
    {
      "cell_type": "markdown",
      "source": [
        "### ***Hurrah! You have successfully completed your Machine Learning Capstone Project !!!***"
      ],
      "metadata": {
        "id": "WBO64gwvIVhZ"
      }
    }
  ]
}